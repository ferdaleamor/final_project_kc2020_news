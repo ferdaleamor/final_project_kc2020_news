{
 "metadata": {
  "language_info": {
   "codemirror_mode": {
    "name": "ipython",
    "version": 3
   },
   "file_extension": ".py",
   "mimetype": "text/x-python",
   "name": "python",
   "nbconvert_exporter": "python",
   "pygments_lexer": "ipython3",
   "version": "3.7.6-final"
  },
  "orig_nbformat": 2,
  "kernelspec": {
   "name": "python3",
   "display_name": "Python 3"
  }
 },
 "nbformat": 4,
 "nbformat_minor": 2,
 "cells": [
  {
   "cell_type": "code",
   "execution_count": 1,
   "metadata": {},
   "outputs": [],
   "source": [
    "import scrapy\n",
    "from scrapy.crawler import CrawlerProcess\n",
    "import json\n",
    "import os\n",
    "import string\n",
    "import pandas as pd\n",
    "from datetime import datetime, date, time, timedelta\n",
    "import numpy as np"
   ]
  },
  {
   "cell_type": "markdown",
   "metadata": {},
   "source": [
    "Inicializamos variables"
   ]
  },
  {
   "cell_type": "code",
   "execution_count": 2,
   "metadata": {},
   "outputs": [],
   "source": [
    "path = '../data/urls.csv'\n",
    "today = str(date.today())\n",
    "days_number = 10 # Número de días que vamos a manteter las urls guardadas\n",
    "scraped_urls = []"
   ]
  },
  {
   "cell_type": "markdown",
   "metadata": {},
   "source": [
    "Leemos el fichero con las urls guardadas y eliminamos las que tengan mas días de los estipulados"
   ]
  },
  {
   "cell_type": "code",
   "execution_count": 3,
   "metadata": {},
   "outputs": [
    {
     "output_type": "execute_result",
     "data": {
      "text/plain": "                                                 url       date\n0  https://www.20minutos.es/noticia/4369249/0/ayu... 2020-09-04\n1  https://www.20minutos.es/noticia/4367265/0/map... 2020-09-04\n2  https://www.20minutos.es/noticia/4369032/0/asm... 2020-09-04\n3  https://www.20minutos.es/noticia/4369272/0/can... 2020-09-04\n4  https://www.20minutos.es/noticia/4369279/0/con... 2020-09-04",
      "text/html": "<div>\n<style scoped>\n    .dataframe tbody tr th:only-of-type {\n        vertical-align: middle;\n    }\n\n    .dataframe tbody tr th {\n        vertical-align: top;\n    }\n\n    .dataframe thead th {\n        text-align: right;\n    }\n</style>\n<table border=\"1\" class=\"dataframe\">\n  <thead>\n    <tr style=\"text-align: right;\">\n      <th></th>\n      <th>url</th>\n      <th>date</th>\n    </tr>\n  </thead>\n  <tbody>\n    <tr>\n      <th>0</th>\n      <td>https://www.20minutos.es/noticia/4369249/0/ayu...</td>\n      <td>2020-09-04</td>\n    </tr>\n    <tr>\n      <th>1</th>\n      <td>https://www.20minutos.es/noticia/4367265/0/map...</td>\n      <td>2020-09-04</td>\n    </tr>\n    <tr>\n      <th>2</th>\n      <td>https://www.20minutos.es/noticia/4369032/0/asm...</td>\n      <td>2020-09-04</td>\n    </tr>\n    <tr>\n      <th>3</th>\n      <td>https://www.20minutos.es/noticia/4369272/0/can...</td>\n      <td>2020-09-04</td>\n    </tr>\n    <tr>\n      <th>4</th>\n      <td>https://www.20minutos.es/noticia/4369279/0/con...</td>\n      <td>2020-09-04</td>\n    </tr>\n  </tbody>\n</table>\n</div>"
     },
     "metadata": {},
     "execution_count": 3
    }
   ],
   "source": [
    "df_urls = pd.read_csv(path)\n",
    "df_urls['date'] = pd.to_datetime(df_urls['date'], format=\"%Y/%m/%d\")\n",
    "dates = df_urls['date']\n",
    "keep = dates > (np.datetime64(date.today() - timedelta(days=days_number)))\n",
    "df_urls = df_urls[keep]\n",
    "scraped_urls = list(df_urls['url'])\n",
    "df_urls.head()"
   ]
  },
  {
   "cell_type": "markdown",
   "metadata": {},
   "source": [
    "Creamos la clase Spider que recorrerá las páginas que pasamos en la variable start_urls"
   ]
  },
  {
   "cell_type": "code",
   "execution_count": 4,
   "metadata": {},
   "outputs": [],
   "source": [
    "class url_spider(scrapy.Spider):\n",
    "    name = 'blogspider'\n",
    "    start_urls = [\n",
    "        'https://www.20minutos.es/',\n",
    "        'https://www.larazon.es/',\n",
    "        'https://www.publico.es/',\n",
    "        'https://www.abc.es/',\n",
    "        'https://www.lesoir.be/',\n",
    "        'https://www.news.com.au/',\n",
    "        'https://time.com/',\n",
    "        'https://elpais.com/',\n",
    "        'https://www.elmundo.es/'\n",
    "    ]\n",
    "\n",
    "    \n",
    "    def parse(self, response):\n",
    "\n",
    "        global df_urls\n",
    "        global scraped_urls\n",
    "\n",
    "        urls = []\n",
    "\n",
    "        # Comprobamos de donde viene la url para hacer el scraping según el periódico del que se trate.\n",
    "        # Comprobamos que sa url no este anteriormente scrapeada\n",
    "\n",
    "        if response.url.startswith('https://www.20minutos.es'):\n",
    "            for article in response.css('article'):\n",
    "                url = article.css('header h1 a::attr(href)').extract_first()\n",
    "                if url.startswith('https://www.20minutos.es') and url not in scraped_urls:\n",
    "                    urls.append(url)\n",
    "                \n",
    "        elif response.url.startswith('https://www.larazon.es/'):\n",
    "            urls_la_razon = set(response.css('a.story-card__areas__head::attr(href)').getall())\n",
    "            for url in urls_la_razon:\n",
    "                if url not in scraped_urls:\n",
    "                    urls.append(url)\n",
    "\n",
    "        elif response.url.startswith('https://www.publico.es/'):\n",
    "            urls_publico = set(response.css('a.page-link::attr(href)').getall())\n",
    "            for url in urls_publico:\n",
    "                if not url.startswith('http'):\n",
    "                    url = 'https://www.publico.es' + str(url)\n",
    "                    if url not in scraped_urls:\n",
    "                        urls.append(url)\n",
    "\n",
    "        elif response.url.startswith('https://www.elmundo.es'):\n",
    "            urls_mundo = set(response.css('a.ue-c-cover-content__link::attr(href)').getall())\n",
    "            for url in urls_mundo:\n",
    "                if url is not None:\n",
    "                    if not url.startswith('http'):\n",
    "                        url = 'https://www.elmundo.es' + str(url)\n",
    "                    if url.startswith('https://www.elmundo.es') and url not in scraped_urls:\n",
    "                        urls.append(url)\n",
    "        \n",
    "        elif response.url.startswith('https://elpais.com'):\n",
    "            for article in response.css('h2.headline'):\n",
    "                url = article.css('a::attr(href)').extract_first()\n",
    "                if url is not None:\n",
    "                    if not url.startswith('http'):\n",
    "                        url = 'https://elpais.com' + str(url)\n",
    "                        if url not in scraped_urls:\n",
    "                            urls.append(url)\n",
    "\n",
    "        elif response.url.startswith('https://time.com'):\n",
    "            for article in response.css('h2.title'):\n",
    "                url = str(article.css('a::attr(href)').extract_first())\n",
    "                if not url.startswith('https:'):\n",
    "                    url = 'https://time.com/' + url\n",
    "                if url.startswith('https://time.com') and url not in scraped_urls:\n",
    "                    urls.append(url)\n",
    "                        \n",
    "        elif response.url.startswith('https://www.abc.es/'):\n",
    "            for article in response.css('article'):\n",
    "                url = article.css('span h3 a::attr(href)').extract_first()\n",
    "                if url is not None:\n",
    "                    if not url.startswith('http'):\n",
    "                        url = 'https://www.abc.es' + str(url)\n",
    "                    if url.startswith('https://www.abc.es') and url not in scraped_urls:\n",
    "                        urls.append(url)\n",
    "                  \n",
    "        elif response.url.startswith('https://www.lesoir.be/'):\n",
    "            for article in response.css('h4.media-heading'):\n",
    "                url = article.css('a::attr(href)').extract_first()\n",
    "                if url is not None:\n",
    "                    if not url.startswith('http'):\n",
    "                        url = 'https://www.lesoir.be' + str(url)\n",
    "                    if url.startswith('https://www.lesoir.be') and url not in scraped_urls:\n",
    "                            urls.append(url)\n",
    "                  \n",
    "        elif response.url.startswith('https://www.news.com.au/'):\n",
    "            for article in response.css('h4.heading'):\n",
    "                url = article.css('a::attr(href)').extract_first()\n",
    "                if url is not None:\n",
    "                    if not url.startswith('http'):\n",
    "                        url = 'https://www.news.com.au/' + str(url)\n",
    "                    if url.startswith('https://www.news.com') and url not in scraped_urls:\n",
    "                            urls.append(url)\n",
    "            \n",
    "        # Agregamos las urls al dataframe\n",
    "\n",
    "        for url in urls:\n",
    "            df_urls = df_urls.append({'url' : url , 'date' : today} , ignore_index=True)\n",
    "\n",
    "        # Mostramos las últimas urls scrpaeadas\n",
    "        df_urls.tail()"
   ]
  },
  {
   "cell_type": "markdown",
   "metadata": {},
   "source": [
    "Lanzamos el proceso de Crawler"
   ]
  },
  {
   "cell_type": "code",
   "execution_count": 5,
   "metadata": {
    "tags": []
   },
   "outputs": [
    {
     "output_type": "stream",
     "name": "stderr",
     "text": "2020-09-10 18:14:17 [scrapy.utils.log] INFO: Scrapy 2.3.0 started (bot: scrapybot)\n2020-09-10 18:14:17 [scrapy.utils.log] INFO: Versions: lxml 4.5.0.0, libxml2 2.9.10, cssselect 1.1.0, parsel 1.6.0, w3lib 1.22.0, Twisted 20.3.0, Python 3.7.6 (default, Jan  8 2020, 13:42:34) - [Clang 4.0.1 (tags/RELEASE_401/final)], pyOpenSSL 19.1.0 (OpenSSL 1.1.1g  21 Apr 2020), cryptography 2.9.2, Platform Darwin-19.6.0-x86_64-i386-64bit\n2020-09-10 18:14:17 [scrapy.utils.log] DEBUG: Using reactor: twisted.internet.selectreactor.SelectReactor\n2020-09-10 18:14:17 [scrapy.crawler] INFO: Overridden settings:\n{'USER_AGENT': 'Google SEO Bot'}\n2020-09-10 18:14:17 [scrapy.extensions.telnet] INFO: Telnet Password: e5f574c21111d0f1\n2020-09-10 18:14:17 [scrapy.middleware] INFO: Enabled extensions:\n['scrapy.extensions.corestats.CoreStats',\n 'scrapy.extensions.telnet.TelnetConsole',\n 'scrapy.extensions.memusage.MemoryUsage',\n 'scrapy.extensions.logstats.LogStats']\n2020-09-10 18:14:17 [scrapy.middleware] INFO: Enabled downloader middlewares:\n['scrapy.downloadermiddlewares.httpauth.HttpAuthMiddleware',\n 'scrapy.downloadermiddlewares.downloadtimeout.DownloadTimeoutMiddleware',\n 'scrapy.downloadermiddlewares.defaultheaders.DefaultHeadersMiddleware',\n 'scrapy.downloadermiddlewares.useragent.UserAgentMiddleware',\n 'scrapy.downloadermiddlewares.retry.RetryMiddleware',\n 'scrapy.downloadermiddlewares.redirect.MetaRefreshMiddleware',\n 'scrapy.downloadermiddlewares.httpcompression.HttpCompressionMiddleware',\n 'scrapy.downloadermiddlewares.redirect.RedirectMiddleware',\n 'scrapy.downloadermiddlewares.cookies.CookiesMiddleware',\n 'scrapy.downloadermiddlewares.httpproxy.HttpProxyMiddleware',\n 'scrapy.downloadermiddlewares.stats.DownloaderStats']\n2020-09-10 18:14:17 [scrapy.middleware] INFO: Enabled spider middlewares:\n['scrapy.spidermiddlewares.httperror.HttpErrorMiddleware',\n 'scrapy.spidermiddlewares.offsite.OffsiteMiddleware',\n 'scrapy.spidermiddlewares.referer.RefererMiddleware',\n 'scrapy.spidermiddlewares.urllength.UrlLengthMiddleware',\n 'scrapy.spidermiddlewares.depth.DepthMiddleware']\n2020-09-10 18:14:17 [scrapy.middleware] INFO: Enabled item pipelines:\n[]\n2020-09-10 18:14:17 [scrapy.core.engine] INFO: Spider opened\n2020-09-10 18:14:17 [scrapy.extensions.logstats] INFO: Crawled 0 pages (at 0 pages/min), scraped 0 items (at 0 items/min)\n2020-09-10 18:14:17 [scrapy.extensions.telnet] INFO: Telnet console listening on 127.0.0.1:6023\n2020-09-10 18:14:17 [scrapy.core.engine] DEBUG: Crawled (200) <GET https://www.20minutos.es/> (referer: None)\n2020-09-10 18:14:17 [scrapy.core.engine] DEBUG: Crawled (200) <GET https://www.publico.es/> (referer: None)\n2020-09-10 18:14:17 [scrapy.core.engine] DEBUG: Crawled (200) <GET https://www.elmundo.es/> (referer: None)\n2020-09-10 18:14:18 [scrapy.core.engine] DEBUG: Crawled (200) <GET https://www.abc.es/> (referer: None)\n2020-09-10 18:14:18 [scrapy.core.engine] DEBUG: Crawled (200) <GET https://www.lesoir.be/> (referer: None)\n2020-09-10 18:14:18 [scrapy.core.engine] DEBUG: Crawled (200) <GET https://time.com/> (referer: None)\n2020-09-10 18:14:18 [scrapy.core.engine] DEBUG: Crawled (200) <GET https://www.larazon.es/> (referer: None)\n2020-09-10 18:14:19 [scrapy.core.engine] DEBUG: Crawled (200) <GET https://elpais.com/> (referer: None)\n2020-09-10 18:14:21 [scrapy.core.engine] DEBUG: Crawled (200) <GET https://www.news.com.au/> (referer: None)\n2020-09-10 18:14:21 [scrapy.core.engine] INFO: Closing spider (finished)\n2020-09-10 18:14:21 [scrapy.statscollectors] INFO: Dumping Scrapy stats:\n{'downloader/request_bytes': 1770,\n 'downloader/request_count': 9,\n 'downloader/request_method_count/GET': 9,\n 'downloader/response_bytes': 829188,\n 'downloader/response_count': 9,\n 'downloader/response_status_count/200': 9,\n 'elapsed_time_seconds': 4.200287,\n 'finish_reason': 'finished',\n 'finish_time': datetime.datetime(2020, 9, 10, 16, 14, 21, 790367),\n 'log_count/DEBUG': 9,\n 'log_count/INFO': 10,\n 'memusage/max': 116178944,\n 'memusage/startup': 116174848,\n 'response_received_count': 9,\n 'scheduler/dequeued': 9,\n 'scheduler/dequeued/memory': 9,\n 'scheduler/enqueued': 9,\n 'scheduler/enqueued/memory': 9,\n 'start_time': datetime.datetime(2020, 9, 10, 16, 14, 17, 590080)}\n2020-09-10 18:14:21 [scrapy.core.engine] INFO: Spider closed (finished)\n"
    }
   ],
   "source": [
    "process = CrawlerProcess({\n",
    "    'USER_AGENT': 'Google SEO Bot'\n",
    "})\n",
    "process.crawl(url_spider)\n",
    "process.start()"
   ]
  },
  {
   "cell_type": "code",
   "execution_count": 6,
   "metadata": {},
   "outputs": [
    {
     "output_type": "execute_result",
     "data": {
      "text/plain": "                                                    url        date\n3489  https://www.news.com.au/finance/work/at-work/r...  2020-09-10\n3490  https://www.news.com.au/finance/business/retai...  2020-09-10\n3491  https://www.news.com.au/sport/afl/west-coast-p...  2020-09-10\n3492  https://www.news.com.au/sport/american-sports/...  2020-09-10\n3493  https://www.news.com.au/sport/afl/footy-fans-l...  2020-09-10",
      "text/html": "<div>\n<style scoped>\n    .dataframe tbody tr th:only-of-type {\n        vertical-align: middle;\n    }\n\n    .dataframe tbody tr th {\n        vertical-align: top;\n    }\n\n    .dataframe thead th {\n        text-align: right;\n    }\n</style>\n<table border=\"1\" class=\"dataframe\">\n  <thead>\n    <tr style=\"text-align: right;\">\n      <th></th>\n      <th>url</th>\n      <th>date</th>\n    </tr>\n  </thead>\n  <tbody>\n    <tr>\n      <th>3489</th>\n      <td>https://www.news.com.au/finance/work/at-work/r...</td>\n      <td>2020-09-10</td>\n    </tr>\n    <tr>\n      <th>3490</th>\n      <td>https://www.news.com.au/finance/business/retai...</td>\n      <td>2020-09-10</td>\n    </tr>\n    <tr>\n      <th>3491</th>\n      <td>https://www.news.com.au/sport/afl/west-coast-p...</td>\n      <td>2020-09-10</td>\n    </tr>\n    <tr>\n      <th>3492</th>\n      <td>https://www.news.com.au/sport/american-sports/...</td>\n      <td>2020-09-10</td>\n    </tr>\n    <tr>\n      <th>3493</th>\n      <td>https://www.news.com.au/sport/afl/footy-fans-l...</td>\n      <td>2020-09-10</td>\n    </tr>\n  </tbody>\n</table>\n</div>"
     },
     "metadata": {},
     "execution_count": 6
    }
   ],
   "source": [
    "# Mostramos las últimas urls scrapeadas\n",
    "df_urls.tail()"
   ]
  },
  {
   "cell_type": "code",
   "execution_count": null,
   "metadata": {},
   "outputs": [],
   "source": []
  }
 ]
}