{
 "metadata": {
  "language_info": {
   "codemirror_mode": {
    "name": "ipython",
    "version": 3
   },
   "file_extension": ".py",
   "mimetype": "text/x-python",
   "name": "python",
   "nbconvert_exporter": "python",
   "pygments_lexer": "ipython3",
   "version": "3.7.6-final"
  },
  "orig_nbformat": 2,
  "kernelspec": {
   "name": "python3",
   "display_name": "Python 3"
  }
 },
 "nbformat": 4,
 "nbformat_minor": 2,
 "cells": [
  {
   "cell_type": "code",
   "execution_count": 1,
   "metadata": {},
   "outputs": [],
   "source": [
    "import scrapy\n",
    "from scrapy.crawler import CrawlerProcess\n",
    "import json\n",
    "from datetime import date\n",
    "import pandas as pd\n",
    "from bs4 import BeautifulSoup\n",
    "import re\n",
    "import string\n",
    "import numpy as np\n",
    "import os"
   ]
  },
  {
   "cell_type": "code",
   "execution_count": 2,
   "metadata": {},
   "outputs": [],
   "source": [
    "# Establecemos las rutas de lectura y escritura de ficheros\n",
    "write_path = '../data/news_test.csv'\n",
    "read_path = '../data/urls.csv'"
   ]
  },
  {
   "cell_type": "code",
   "execution_count": 6,
   "metadata": {},
   "outputs": [
    {
     "output_type": "execute_result",
     "data": {
      "text/plain": "                                                    url       date\n2726  https://www.20minutos.es/noticia/4375123/0/edu... 2020-09-10\n2727  https://www.20minutos.es/noticia/4373963/0/ast... 2020-09-10\n2728  https://www.20minutos.es/noticia/4375204/0/dav... 2020-09-10\n2729  https://www.20minutos.es/noticia/4375219/0/la-... 2020-09-10\n2730  https://www.20minutos.es/noticia/4362007/0/los... 2020-09-10",
      "text/html": "<div>\n<style scoped>\n    .dataframe tbody tr th:only-of-type {\n        vertical-align: middle;\n    }\n\n    .dataframe tbody tr th {\n        vertical-align: top;\n    }\n\n    .dataframe thead th {\n        text-align: right;\n    }\n</style>\n<table border=\"1\" class=\"dataframe\">\n  <thead>\n    <tr style=\"text-align: right;\">\n      <th></th>\n      <th>url</th>\n      <th>date</th>\n    </tr>\n  </thead>\n  <tbody>\n    <tr>\n      <th>2726</th>\n      <td>https://www.20minutos.es/noticia/4375123/0/edu...</td>\n      <td>2020-09-10</td>\n    </tr>\n    <tr>\n      <th>2727</th>\n      <td>https://www.20minutos.es/noticia/4373963/0/ast...</td>\n      <td>2020-09-10</td>\n    </tr>\n    <tr>\n      <th>2728</th>\n      <td>https://www.20minutos.es/noticia/4375204/0/dav...</td>\n      <td>2020-09-10</td>\n    </tr>\n    <tr>\n      <th>2729</th>\n      <td>https://www.20minutos.es/noticia/4375219/0/la-...</td>\n      <td>2020-09-10</td>\n    </tr>\n    <tr>\n      <th>2730</th>\n      <td>https://www.20minutos.es/noticia/4362007/0/los...</td>\n      <td>2020-09-10</td>\n    </tr>\n  </tbody>\n</table>\n</div>"
     },
     "metadata": {},
     "execution_count": 6
    }
   ],
   "source": [
    "# Obtenemos la lista de urls scrapeadas en el día de hoy\n",
    "today = np.datetime64(date.today())\n",
    "df_urls = pd.read_csv(read_path)\n",
    "df_urls['date'] = pd.to_datetime(df_urls['date'], format=\"%Y/%m/%d\")\n",
    "dates = df_urls['date']\n",
    "keep = dates == today\n",
    "df_urls = df_urls[keep]\n",
    "urls = list(df_urls['url'])\n",
    "df_urls.head()"
   ]
  },
  {
   "cell_type": "code",
   "execution_count": 4,
   "metadata": {
    "tags": []
   },
   "outputs": [],
   "source": [
    "# Creamos la clase Spider\n",
    "# Extrayendo el titular y el texto de la noticia, menos en los periódicos de suscripción\n",
    "\n",
    "class news_spider(scrapy.Spider):\n",
    "    name = 'blogspider'\n",
    "    start_urls = urls\n",
    "    \n",
    "    # Inicalizamos el fichero de escritura con las cabeceras\n",
    "    def __init__(self):\n",
    "        if os.stat(write_path).st_size == 0:\n",
    "            print(f\"scraping_date,url,headline,text,lang\", file=filep)\n",
    "\n",
    "    def parse(self, response):\n",
    "\n",
    "        list_replace = ['\\n', '\"', ',']\n",
    "        extract_text = \"\"\n",
    "        lang = 'es'\n",
    "\n",
    "        if response.url.startswith('https://www.publico.es/'):\n",
    "            headline = response.css('h1').get()\n",
    "            # Elimina las etiquetas span y su contenido\n",
    "            headline = re.sub(r'<span>.+</span>','',headline)\n",
    "            extract_text = response.css('p.pb-article-item-iteration').getall()\n",
    "        \n",
    "        elif response.url.startswith('https://www.20minutos.es'):\n",
    "            headline = response.css('main section div h1 ::text').extract_first().strip()\n",
    "            extract_text = response.css('section article div p ::text').getall()\n",
    "\n",
    "        elif response.url.startswith('https://www.larazon.es/'):\n",
    "            headline = response.css('h1.headline').get()\n",
    "            extract_text = response.css('p.body-components__text').getall()\n",
    "\n",
    "        elif response.url.startswith('https://elpais.com/'):\n",
    "            headline = response.css('h1.a_t ::text').get()\n",
    "            extract_text = 'Suscripción'\n",
    "\n",
    "        elif response.url.startswith('https://www.elmundo.es/'):\n",
    "            headline = response.css('h1.ue-c-article__headline ::text').get()\n",
    "            extract_text = 'Suscripción'\n",
    "\n",
    "        elif response.url.startswith('https://time.com'):\n",
    "            headline = response.css('h1.headline').get()\n",
    "            extract_text = response.css('p').getall()\n",
    "            lang = 'en'\n",
    "            \n",
    "        elif response.url.startswith('https://www.abc.es/'):\n",
    "            headline = response.css('span.titular::text').get()\n",
    "            extract_text = response.css('p').getall()\n",
    "            \n",
    "        elif response.url.startswith('https://www.lesoir.be/'):\n",
    "            headline = response.css('article h1::text').get()\n",
    "            extract_text = response.css('p').getall()\n",
    "            lang = 'fr'\n",
    "            \n",
    "        elif response.url.startswith('https://www.news.com.au/'):\n",
    "            headline = response.css('h1.story-headline::text').get()\n",
    "            extract_text = response.css('p').getall()\n",
    "            lang = 'en'\n",
    "\n",
    "        # Realizamos y primer prepocesamiento de texto para evitar problemas a la hora de guardar el csv    \n",
    "        extract_text = \" \".join(extract_text)\n",
    "        # Elimina todas las etiquetas\n",
    "        headline = BeautifulSoup(headline, \"lxml\").text\n",
    "        clean_text = BeautifulSoup(extract_text, \"lxml\").text\n",
    "        # Elimina caracteres problemáticos\n",
    "        for char in list_replace:\n",
    "            clean_text = clean_text.replace(char, \"\").strip()\n",
    "            headline = headline.replace(char, \"\").strip()\n",
    "        print(f\"\\\"{today}\\\",\\\"{response.url}\\\",\\\"{headline}\\\",\\\"{clean_text}\\\",\\\"{lang}\\\"\", file=filep)\n"
   ]
  },
  {
   "cell_type": "code",
   "execution_count": 5,
   "metadata": {
    "tags": [
     "outputPrepend"
    ]
   },
   "outputs": [
    {
     "output_type": "stream",
     "name": "stderr",
     "text": "RROR: Spider error processing <GET https://elviajero.elpais.com/elviajero/2020/09/03/actualidad/1599132885_709554.html> (referer: None)\nTraceback (most recent call last):\n  File \"/Users/alejandrolopezsanchez/opt/anaconda3/lib/python3.7/site-packages/twisted/internet/defer.py\", line 654, in _runCallbacks\n    current.result = callback(current.result, *args, **kw)\n  File \"/Users/alejandrolopezsanchez/opt/anaconda3/lib/python3.7/site-packages/scrapy/spiders/__init__.py\", line 90, in _parse\n    return self.parse(response, **kwargs)\n  File \"<ipython-input-4-4cb260b1ecdf>\", line 63, in parse\n    headline = BeautifulSoup(headline, \"lxml\").text\nUnboundLocalError: local variable 'headline' referenced before assignment\n2020-09-10 18:35:15 [scrapy.core.scraper] ERROR: Spider error processing <GET https://plus.lesoir.be/324014/article/2020-09-09/visa-pour-la-flandre-sanda-dia-et-chovanec-secouent-les-consciences-flamandes> (referer: None)\nTraceback (most recent call last):\n  File \"/Users/alejandrolopezsanchez/opt/anaconda3/lib/python3.7/site-packages/twisted/internet/defer.py\", line 654, in _runCallbacks\n    current.result = callback(current.result, *args, **kw)\n  File \"/Users/alejandrolopezsanchez/opt/anaconda3/lib/python3.7/site-packages/scrapy/spiders/__init__.py\", line 90, in _parse\n    return self.parse(response, **kwargs)\n  File \"<ipython-input-4-4cb260b1ecdf>\", line 63, in parse\n    headline = BeautifulSoup(headline, \"lxml\").text\nUnboundLocalError: local variable 'headline' referenced before assignment\n2020-09-10 18:35:17 [scrapy.core.engine] DEBUG: Crawled (200) <GET https://www.news.com.au/lifestyle/real-life/news-life/blood-spurting-teen-bitten-on-the-penis-by-snake-while-sitting-on-the-toilet/news-story/8de25e58f946046ffd0ab094577e53d9> (referer: None)\n2020-09-10 18:35:17 [scrapy.core.engine] DEBUG: Crawled (200) <GET https://www.news.com.au/sport/sports-life/curtis-scott-footage-of-nrl-star-being-tasered-by-police-revealed-as-all-charges-dismissed/news-story/dd3139b369d4fc6720adf49074a63a80> (referer: None)\n2020-09-10 18:35:17 [scrapy.core.engine] DEBUG: Crawled (200) <GET https://www.news.com.au/entertainment/tv/current-affairs/concerns-for-abc-news-reporter-michael-rennie-after-onair-incident/news-story/efb631c8cab9884b10f755d08a7e2c3c> (referer: None)\n2020-09-10 18:35:18 [scrapy.core.engine] DEBUG: Crawled (200) <GET https://www.news.com.au/travel/travel-updates/incidents/surfer-with-covid19-arrested-at-spanish-beach-after-breaking-quarantine/news-story/d46a721a412b0038506268782571e485> (referer: None)\n2020-09-10 18:35:18 [scrapy.core.engine] DEBUG: Crawled (200) <GET https://www.news.com.au/world/coronavirus/closures/queensland-borders-daughter-wont-be-allowed-to-attend-fathers-funeral/news-story/1521807d32b6a84c726b2006fe56af9c> (referer: None)\n2020-09-10 18:35:18 [scrapy.core.engine] DEBUG: Crawled (200) <GET https://www.news.com.au/world/asia/chinese-state-media-accuses-australia-of-barbaric-behaviour-disgusting-double-standards/news-story/ec4798b736b1e4fe591358bc24c313a7> (referer: None)\n2020-09-10 18:35:18 [scrapy.core.engine] DEBUG: Crawled (200) <GET https://www.news.com.au/finance/money/us-election-fundraising-donald-trumps-campaign-has-spent-800-million/news-story/3ff237b569af5e5ad5a74a6eb3b14967> (referer: None)\n2020-09-10 18:35:18 [scrapy.core.engine] DEBUG: Crawled (200) <GET https://www.news.com.au/finance/economy/australian-economy/jobseeker-jobkeeper-ending-will-reveal-massive-recession-crisis/news-story/71c7753919ae8edb43123d70ce9ad764> (referer: None)\n2020-09-10 18:35:18 [scrapy.core.engine] DEBUG: Crawled (200) <GET https://elpais.com/elpais/2020/09/09/escaparate/1599646266_806964.html> (referer: None)\n2020-09-10 18:35:19 [scrapy.core.scraper] ERROR: Spider error processing <GET https://elpais.com/elpais/2020/09/09/escaparate/1599646266_806964.html> (referer: None)\nTraceback (most recent call last):\n  File \"/Users/alejandrolopezsanchez/opt/anaconda3/lib/python3.7/site-packages/twisted/internet/defer.py\", line 654, in _runCallbacks\n    current.result = callback(current.result, *args, **kw)\n  File \"/Users/alejandrolopezsanchez/opt/anaconda3/lib/python3.7/site-packages/scrapy/spiders/__init__.py\", line 90, in _parse\n    return self.parse(response, **kwargs)\n  File \"<ipython-input-4-4cb260b1ecdf>\", line 63, in parse\n    headline = BeautifulSoup(headline, \"lxml\").text\n  File \"/Users/alejandrolopezsanchez/opt/anaconda3/lib/python3.7/site-packages/bs4/__init__.py\", line 307, in __init__\n    elif len(markup) <= 256 and (\nTypeError: object of type 'NoneType' has no len()\n2020-09-10 18:35:19 [scrapy.core.engine] DEBUG: Crawled (200) <GET https://elcomidista.elpais.com/elcomidista/2020/09/01/articulo/1598973128_223130.html> (referer: None)\n2020-09-10 18:35:19 [scrapy.core.engine] DEBUG: Crawled (200) <GET https://elpais.com/elpais/2020/09/09/icon/1599653958_375473.html> (referer: None)\n2020-09-10 18:35:19 [scrapy.core.scraper] ERROR: Spider error processing <GET https://elcomidista.elpais.com/elcomidista/2020/09/01/articulo/1598973128_223130.html> (referer: None)\nTraceback (most recent call last):\n  File \"/Users/alejandrolopezsanchez/opt/anaconda3/lib/python3.7/site-packages/twisted/internet/defer.py\", line 654, in _runCallbacks\n    current.result = callback(current.result, *args, **kw)\n  File \"/Users/alejandrolopezsanchez/opt/anaconda3/lib/python3.7/site-packages/scrapy/spiders/__init__.py\", line 90, in _parse\n    return self.parse(response, **kwargs)\n  File \"<ipython-input-4-4cb260b1ecdf>\", line 63, in parse\n    headline = BeautifulSoup(headline, \"lxml\").text\nUnboundLocalError: local variable 'headline' referenced before assignment\n2020-09-10 18:35:19 [scrapy.core.scraper] ERROR: Spider error processing <GET https://elpais.com/elpais/2020/09/09/icon/1599653958_375473.html> (referer: None)\nTraceback (most recent call last):\n  File \"/Users/alejandrolopezsanchez/opt/anaconda3/lib/python3.7/site-packages/twisted/internet/defer.py\", line 654, in _runCallbacks\n    current.result = callback(current.result, *args, **kw)\n  File \"/Users/alejandrolopezsanchez/opt/anaconda3/lib/python3.7/site-packages/scrapy/spiders/__init__.py\", line 90, in _parse\n    return self.parse(response, **kwargs)\n  File \"<ipython-input-4-4cb260b1ecdf>\", line 63, in parse\n    headline = BeautifulSoup(headline, \"lxml\").text\n  File \"/Users/alejandrolopezsanchez/opt/anaconda3/lib/python3.7/site-packages/bs4/__init__.py\", line 307, in __init__\n    elif len(markup) <= 256 and (\nTypeError: object of type 'NoneType' has no len()\n2020-09-10 18:35:20 [scrapy.core.engine] DEBUG: Crawled (200) <GET https://www.news.com.au/entertainment/celebrity-life/hook-ups-break-ups/katie-holmes-new-boyfriend-emilio-vitolo-recently-dumped-fiancee-by-text/news-story/4241bfa0635907efa9f053765a207f34> (referer: None)\n2020-09-10 18:35:20 [scrapy.core.engine] DEBUG: Crawled (200) <GET https://www.news.com.au/national/victoria/courts-law/burglar-jordan-constable-threatened-to-make-victims-daughter-disappear-from-jail/news-story/f435d9690d3993c31654d8402745fbd0> (referer: None)\n2020-09-10 18:35:21 [scrapy.core.engine] DEBUG: Crawled (200) <GET https://www.news.com.au/entertainment/tv/streaming/mingna-wen-original-voice-of-mulan-made-a-surprise-cameo-in-2020-version/news-story/100f24219e6d5e3815d06b54185591c2> (referer: None)\n2020-09-10 18:35:21 [scrapy.core.engine] DEBUG: Crawled (200) <GET https://www.news.com.au/entertainment/tv/morning-shows/studio-10-cohost-joe-hildebrand-announces-he-is-leaving-the-show/news-story/7c48d3b26d5a235b1dd2d80fbec4157b> (referer: None)\n2020-09-10 18:35:21 [scrapy.core.engine] DEBUG: Crawled (200) <GET https://www.news.com.au/entertainment/celebrity-life/hook-ups-break-ups/lily-allens-husband-david-harbours-struggle-with-bipolar-mental-asylums/news-story/580352abd426c5b3de9b3b5903d09fa8> (referer: None)\n2020-09-10 18:35:21 [scrapy.core.engine] DEBUG: Crawled (200) <GET https://www.news.com.au/entertainment/tv/flashback/lisa-wilkinson-once-interviewed-kim-kardashian-with-her-fly-undone/news-story/d7762c43f8b1784981f3d790ecb1bdf1> (referer: None)\n2020-09-10 18:35:21 [scrapy.core.engine] DEBUG: Crawled (200) <GET https://www.news.com.au/sport/nrl/benji-marshall-leichhardt-oval-farewell-killed-off-by-nrl/news-story/d3f95442d8e1d1030fb3382e64576067> (referer: None)\n2020-09-10 18:35:21 [scrapy.core.engine] DEBUG: Crawled (200) <GET https://www.news.com.au/entertainment/celebrity-life/celebrity-photos/inside-beyonce-and-jay-zs-incredible-275-millionaweek-superyacht/news-story/1789d2d40fff1b2745bb74a1c46a79b2> (referer: None)\n2020-09-10 18:35:22 [scrapy.core.engine] DEBUG: Crawled (200) <GET https://www.news.com.au/national/victoria/courts-law/burglar-jordan-constable-threatened-to-make-victims-daughter-disappear-from-jail/news-story/f435d9690d3993c31654d8402745fbd0> (referer: None)\n2020-09-10 18:35:23 [scrapy.core.engine] DEBUG: Crawled (200) <GET https://www.news.com.au/national/nsw-act/news/man-critical-after-suspected-ocean-pool-drowning/news-story/d484f87e2ea5936a1edf744088539a46> (referer: None)\n2020-09-10 18:35:23 [scrapy.core.engine] DEBUG: Crawled (200) <GET https://www.news.com.au/technology/environment/nsw-government-divided-as-nationals-pull-support-boycott-meetings-over-koala-habitat-policy/news-story/610c147ad74973fe63740dace5194be7> (referer: None)\n2020-09-10 18:35:23 [scrapy.core.engine] DEBUG: Crawled (200) <GET https://www.news.com.au/travel/travel-updates/health-safety/bitter-war-of-words-after-scott-morrisons-tearful-interview/news-story/909e26c88070fe5724acc9e52a75c0a2> (referer: None)\n2020-09-10 18:35:23 [scrapy.core.engine] DEBUG: Crawled (200) <GET https://www.news.com.au/travel/travel-updates/guards-caught-in-sex-on-the-job-hotel-inquiry-told/news-story/7276d93555cd7870d0509285a6a3bd1f> (referer: None)\n2020-09-10 18:35:23 [scrapy.core.engine] DEBUG: Crawled (200) <GET https://www.news.com.au/world/coronavirus/health/astrazeneca-covid19-vaccine-what-triggered-shutdown-of-vaccine-hope/news-story/02712a22ea53b384704b153998ba8833> (referer: None)\n2020-09-10 18:35:24 [scrapy.core.engine] DEBUG: Crawled (200) <GET https://www.news.com.au/world/coronavirus/australia/coronavirus-nsw-venues-that-have-been-hit-by-covid19-cases/news-story/bcfe71353161817d82b0da703515a7dd> (referer: None)\n2020-09-10 18:35:25 [scrapy.core.engine] DEBUG: Crawled (200) <GET https://www.news.com.au/world/coronavirus/australia/illegal-immigrant-removed-from-quarantine-hotel-by-officers-in-hazmat-suits/news-story/75f1b8188feee6ae7cdbf4bfbe96e00e> (referer: None)\n2020-09-10 18:35:25 [scrapy.core.engine] DEBUG: Crawled (200) <GET https://www.news.com.au/world/coronavirus/global/coronavirus-uk-boris-johnson-wants-daily-moonshot-covid-testing/news-story/d0ca10dde48ae4919fa90c6cad97adb6> (referer: None)\n2020-09-10 18:35:26 [scrapy.core.engine] DEBUG: Crawled (200) <GET https://www.news.com.au/world/north-america/us-politics/two-arrested-after-trump-supporters-proud-boys-clash-with-farleft-demonstrators-at-oregon-state-capitol/news-story/5ea10909f568210654997ca0926da2e5> (referer: None)\n2020-09-10 18:35:26 [scrapy.core.engine] DEBUG: Crawled (200) <GET https://www.news.com.au/world/europe/teacher-accused-of-child-sex-claims-google-search-was-for-film-name/news-story/6b8c143a6c0fafe1bf8dec2aacb7ea7a> (referer: None)\n2020-09-10 18:35:26 [scrapy.core.engine] DEBUG: Crawled (200) <GET https://www.news.com.au/sport/cricket/afghanistan-fast-bowler-pulls-off-controversial-mankad/news-story/00040a36f9498e766f644861ba2af3b2> (referer: None)\n2020-09-10 18:35:26 [scrapy.core.engine] DEBUG: Crawled (200) <GET https://www.news.com.au/entertainment/celebrity-life/celebrity-deaths/kool-the-gang-cofounder-ronald-khalis-bell-dies-aged-68/news-story/ad99c5b0e9d8f2d748d2de0ff5a5cb26> (referer: None)\n2020-09-10 18:35:26 [scrapy.core.engine] DEBUG: Crawled (200) <GET https://www.news.com.au/sport/tennis/dominic-thiem-thrashes-alex-de-minaur-in-us-open-quarterfinals/news-story/8f8264f58d9b7df7f2fbdb6f92a6b7b9> (referer: None)\n2020-09-10 18:35:27 [scrapy.core.engine] DEBUG: Crawled (200) <GET https://www.news.com.au/lifestyle/real-life/a-russian-playboy-model-has-drowned-during-a-photo-shoot-in-the-mediterranean/news-story/3d191c61c9eb171c48b13b3c65a5179e> (referer: None)\n2020-09-10 18:35:28 [scrapy.core.engine] DEBUG: Crawled (200) <GET https://www.news.com.au/lifestyle/parenting/babies/youtube-stars-have-biggest-gender-reveal-ever-at-burj-khalifa/news-story/a019b2233f9048aba4fde91a160948ac> (referer: None)\n2020-09-10 18:35:28 [scrapy.core.engine] DEBUG: Crawled (200) <GET https://www.news.com.au/lifestyle/beauty/cosmetic-surgery/human-ken-doll-jessica-alves-shares-photos-after-botched-chin-filler/news-story/8073184f2ec51835a83df183d74a6825> (referer: None)\n2020-09-10 18:35:29 [scrapy.core.engine] DEBUG: Crawled (200) <GET https://www.news.com.au/travel/travel-updates/health-safety/qld-borders-gladys-berejiklian-lashes-palaszczuk-on-kyle-jackie-o-show/news-story/3ebf54d509cb3794b680be4e8c3d8a36> (referer: None)\n2020-09-10 18:35:29 [scrapy.core.engine] DEBUG: Crawled (200) <GET https://www.news.com.au/travel/travel-updates/health-safety/karl-stefanovics-plea-after-sydney-kids-are-banned-from-seeing-dying-queensland-dad/news-story/f0bf100d6664a1d74ac3be33112b2bb4> (referer: None)\n2020-09-10 18:35:29 [scrapy.core.engine] DEBUG: Crawled (200) <GET https://www.news.com.au/travel/travel-updates/health-safety/instagram-star-apologises-for-travel-during-pandemic-after-online-backlash/news-story/e1970e397b74947f9307cc435d844c3c> (referer: None)\n2020-09-10 18:35:30 [scrapy.core.engine] DEBUG: Crawled (200) <GET https://www.news.com.au/lifestyle/real-life/hot-hunter-sparks-divide-with-kill-snaps/news-story/a8827c212fc9eb8575e68d1f0cb3c1f5> (referer: None)\n2020-09-10 18:35:30 [scrapy.core.engine] DEBUG: Crawled (200) <GET https://www.news.com.au/travel/travel-updates/travel-stories/singapore-family-hit-the-jackpot-with-luxury-ritz-carlton-hotel-quarantine/news-story/8edc2a070d259114c76826880f769fb5> (referer: None)\n2020-09-10 18:35:30 [scrapy.core.engine] DEBUG: Crawled (200) <GET https://www.news.com.au/entertainment/tv/reality-tv/kris-jenner-ended-kuwtk-before-kanye-west-could-damage-it-further/news-story/6a88040406e94703f8d4414edac66ca6> (referer: None)\n2020-09-10 18:35:30 [scrapy.core.engine] DEBUG: Crawled (200) <GET https://www.news.com.au/entertainment/celebrity-life/royals/meghan-markle-and-prince-harrys-list-of-demands-for-speaking-events-revealed/news-story/6dcf646f5e51f093c78af00415e30895> (referer: None)\n2020-09-10 18:35:31 [scrapy.core.engine] DEBUG: Crawled (200) <GET https://www.news.com.au/entertainment/celebrity-life/hook-ups-break-ups/lily-allen-married-by-elvis-in-tiny-las-vegas-wedding-to-stranger-things-star-david-harbour/news-story/bde4a6aa384c96eedf4d32d3e6399eb0> (referer: None)\n2020-09-10 18:35:32 [scrapy.core.engine] DEBUG: Crawled (200) <GET https://www.news.com.au/technology/online/social/china-urges-twitter-investigate-foot-fetish-porn-post-liked-by-uk-ambassador-liu-xiaomings-account/news-story/7a91f0ebad3742a36a9e52c772e77fc5> (referer: None)\n2020-09-10 18:35:32 [scrapy.core.engine] DEBUG: Crawled (200) <GET https://www.news.com.au/entertainment/tv/morning-shows/sunrise-star-sam-mac-explains-why-hes-been-wearing-a-wristband-on-tv-for-12-months/news-story/fe7a4f4b8e205a7ac814b8d94b3241f4> (referer: None)\n2020-09-10 18:35:32 [scrapy.core.engine] DEBUG: Crawled (200) <GET https://www.news.com.au/technology/science/animals/45metre-crocodile-spotted-speeding-up-far-north-qld-river/news-story/e51a2661a0e46aaa973e153e48d2ea9a> (referer: None)\n2020-09-10 18:35:32 [scrapy.core.engine] DEBUG: Crawled (200) <GET https://www.news.com.au/technology/environment/california-fires-satellite-photos-show-blaze-has-covered-western-usa/news-story/0fc4b858d02f766d0e7639c448e3a764> (referer: None)\n2020-09-10 18:35:32 [scrapy.core.engine] DEBUG: Crawled (200) <GET https://www.news.com.au/technology/environment/tassie-devil-relative-the-mulgara-reintroduced-into-nsw-a-century-after-extinction/news-story/f83eb024abbe2bee6ed1c640b1289f40> (referer: None)\n2020-09-10 18:35:33 [scrapy.core.engine] DEBUG: Crawled (200) <GET https://www.news.com.au/finance/business/retail/myer-solomon-lews-premier-investments-slams-desperate-shameful-department-store/news-story/0b462a634dd85e2fde3a592121613fa8> (referer: None)\n2020-09-10 18:35:33 [scrapy.core.engine] DEBUG: Crawled (200) <GET https://www.news.com.au/finance/business/retail/australia-post-pauline-hanson-in-hate-mail-scandal/news-story/9fa0410b53994e52a5f7daada35252b5> (referer: None)\n2020-09-10 18:35:34 [scrapy.core.engine] DEBUG: Crawled (200) <GET https://www.news.com.au/finance/business/retail/singleuse-plastics-banned-in-south-australia-queensland-could-be-next/news-story/af53f3cb0caefbbec161ed12ecee0e35> (referer: None)\n2020-09-10 18:35:35 [scrapy.core.engine] DEBUG: Crawled (200) <GET https://www.news.com.au/sport/nrl/brisbane-broncos-monster-settlement-to-anthony-seibold-revealed/news-story/72e25ec83eda64ea61d52280ff409ecb> (referer: None)\n2020-09-10 18:35:35 [scrapy.core.engine] DEBUG: Crawled (200) <GET https://www.news.com.au/sport/american-sports/nba/toronto-raptors-beat-boston-celtics-in-a-thriller-to-tie-playoff-series/news-story/f7d44bcb2617fda3eb33a2fb716d946a> (referer: None)\n2020-09-10 18:35:35 [scrapy.core.engine] DEBUG: Crawled (200) <GET https://www.news.com.au/finance/business/retail/myers-sales-drop-store-closures-offset-by-online/news-story/e19c2bf8083c3f9fdb4bc816277baccd> (referer: None)\n2020-09-10 18:35:35 [scrapy.core.engine] DEBUG: Crawled (200) <GET https://www.news.com.au/sport/afl/afl-image-of-jeremy-cameron-is-all-wrong/news-story/cb557526e3d97a08fac2e4f1c1efdfb3> (referer: None)\n2020-09-10 18:35:35 [scrapy.core.engine] DEBUG: Crawled (200) <GET https://www.news.com.au/sport/boxing/jeff-horns-trainer-releases-bombshell-statement-on-tim-tszyu-fight/news-story/6db70d1a00e31fa345ba174be34c1bb1> (referer: None)\n2020-09-10 18:35:36 [scrapy.core.engine] DEBUG: Crawled (200) <GET https://www.news.com.au/sport/sports-life/curtis-scott-footage-of-nrl-star-being-tasered-by-police-revealed-as-all-charges-dismissed/news-story/dd3139b369d4fc6720adf49074a63a80> (referer: None)\n2020-09-10 18:35:36 [scrapy.core.engine] DEBUG: Crawled (200) <GET https://www.news.com.au/sport/nrl/benji-marshall-leichhardt-oval-farewell-killed-off-by-nrl/news-story/d3f95442d8e1d1030fb3382e64576067> (referer: None)\n2020-09-10 18:35:36 [scrapy.core.engine] DEBUG: Crawled (200) <GET https://www.news.com.au/sport/cricket/aussie-cricket-star-targeted-with-disgusting-racial-slur/news-story/f20bd8eb256c7f2a831d93d91051d54a> (referer: None)\n2020-09-10 18:35:37 [scrapy.core.engine] DEBUG: Crawled (200) <GET https://www.news.com.au/sport/afl/afl-stars-matthew-kreuzer-bryce-gibbs-announce-shock-retirements/news-story/d065d003077c4143d742b9cdb11d59c2> (referer: None)\n2020-09-10 18:35:38 [scrapy.core.engine] INFO: Closing spider (finished)\n2020-09-10 18:35:38 [scrapy.statscollectors] INFO: Dumping Scrapy stats:\n{'downloader/request_bytes': 126347,\n 'downloader/request_count': 423,\n 'downloader/request_method_count/GET': 423,\n 'downloader/response_bytes': 14157631,\n 'downloader/response_count': 423,\n 'downloader/response_status_count/200': 381,\n 'downloader/response_status_count/301': 15,\n 'downloader/response_status_count/302': 27,\n 'elapsed_time_seconds': 40.245291,\n 'finish_reason': 'finished',\n 'finish_time': datetime.datetime(2020, 9, 10, 16, 35, 38, 91941),\n 'log_count/DEBUG': 423,\n 'log_count/ERROR': 45,\n 'log_count/INFO': 10,\n 'memusage/max': 117731328,\n 'memusage/startup': 117731328,\n 'response_received_count': 381,\n 'scheduler/dequeued': 423,\n 'scheduler/dequeued/memory': 423,\n 'scheduler/enqueued': 423,\n 'scheduler/enqueued/memory': 423,\n 'spider_exceptions/TypeError': 14,\n 'spider_exceptions/UnboundLocalError': 31,\n 'start_time': datetime.datetime(2020, 9, 10, 16, 34, 57, 846650)}\n2020-09-10 18:35:38 [scrapy.core.engine] INFO: Spider closed (finished)\n"
    }
   ],
   "source": [
    "# Lanzamos el proceso de Crawler\n",
    "process = CrawlerProcess({\n",
    "    'USER_AGENT': 'Google SEO Bot'\n",
    "})\n",
    "\n",
    "\n",
    "filep = open(write_path, 'a')\n",
    "process.crawl(news_spider)\n",
    "process.start()\n",
    "filep.close()"
   ]
  },
  {
   "cell_type": "code",
   "execution_count": 7,
   "metadata": {},
   "outputs": [
    {
     "output_type": "execute_result",
     "data": {
      "text/plain": "  scraping_date                                                url  \\\n0    2020-09-10  https://www.20minutos.es/noticia/4375204/0/dav...   \n1    2020-09-10  https://www.20minutos.es/noticia/4375385/0/un-...   \n2    2020-09-10  https://www.20minutos.es/noticia/4373963/0/ast...   \n3    2020-09-10  https://www.20minutos.es/noticia/4375219/0/la-...   \n4    2020-09-10  https://www.20minutos.es/noticia/4375386/0/dir...   \n5    2020-09-10  https://www.20minutos.es/noticia/4362007/0/los...   \n6    2020-09-10  https://www.20minutos.es/noticia/4375035/0/res...   \n7    2020-09-10  https://www.20minutos.es/noticia/4375123/0/edu...   \n8    2020-09-10  https://www.20minutos.es/noticia/4375388/0/oli...   \n9    2020-09-10  https://www.20minutos.es/noticia/4375384/0/cas...   \n\n                                            headline  \\\n0  David Escors: Estamos yendo más rápido de lo q...   \n1  Un vídeo muestra lo lejos que puede llegar el ...   \n2  Asturias el 'oasis' en una España barrida por ...   \n3  La Policía dice que Interior pagó 53.000 euros...   \n4  Casado: La votación es un triunfo del municipa...   \n5  Las servilletas de bar la otra víctima que el ...   \n6  El camino de la Covid desemboca otra vez en la...   \n7  Educación deja sin plaza a docentes por cumpli...   \n8  Olivia Molina: Si hubiera una valla yo estaría...   \n9  Así es el casoplón que Cristina Pedroche y Dab...   \n\n                                                text lang  \n0  A raíz de la  suspensión de los ensayos clínic...   es  \n1  Que el  coronavirus  se expande de forma rápid...   es  \n2  Asturias se ha convertido también en esta segu...   es  \n3  El informe de la  Policía Nacional  que ha rec...   es  \n4  El Pleno del Congreso ha rechazado este jueves...   es  \n5  Las  medidas antiCovid  del  Gobierno central ...   es  \n6  Fueron los más castigados por la primera ola d...   es  \n7  La  Confederación General del Trabajo (CGT)  a...   es  \n8  En la serie La valla de Antena 3 (que se estre...   es  \n9  Cristina Pedroche  y  Dabiz Muñoz han dejado s...   es  ",
      "text/html": "<div>\n<style scoped>\n    .dataframe tbody tr th:only-of-type {\n        vertical-align: middle;\n    }\n\n    .dataframe tbody tr th {\n        vertical-align: top;\n    }\n\n    .dataframe thead th {\n        text-align: right;\n    }\n</style>\n<table border=\"1\" class=\"dataframe\">\n  <thead>\n    <tr style=\"text-align: right;\">\n      <th></th>\n      <th>scraping_date</th>\n      <th>url</th>\n      <th>headline</th>\n      <th>text</th>\n      <th>lang</th>\n    </tr>\n  </thead>\n  <tbody>\n    <tr>\n      <th>0</th>\n      <td>2020-09-10</td>\n      <td>https://www.20minutos.es/noticia/4375204/0/dav...</td>\n      <td>David Escors: Estamos yendo más rápido de lo q...</td>\n      <td>A raíz de la  suspensión de los ensayos clínic...</td>\n      <td>es</td>\n    </tr>\n    <tr>\n      <th>1</th>\n      <td>2020-09-10</td>\n      <td>https://www.20minutos.es/noticia/4375385/0/un-...</td>\n      <td>Un vídeo muestra lo lejos que puede llegar el ...</td>\n      <td>Que el  coronavirus  se expande de forma rápid...</td>\n      <td>es</td>\n    </tr>\n    <tr>\n      <th>2</th>\n      <td>2020-09-10</td>\n      <td>https://www.20minutos.es/noticia/4373963/0/ast...</td>\n      <td>Asturias el 'oasis' en una España barrida por ...</td>\n      <td>Asturias se ha convertido también en esta segu...</td>\n      <td>es</td>\n    </tr>\n    <tr>\n      <th>3</th>\n      <td>2020-09-10</td>\n      <td>https://www.20minutos.es/noticia/4375219/0/la-...</td>\n      <td>La Policía dice que Interior pagó 53.000 euros...</td>\n      <td>El informe de la  Policía Nacional  que ha rec...</td>\n      <td>es</td>\n    </tr>\n    <tr>\n      <th>4</th>\n      <td>2020-09-10</td>\n      <td>https://www.20minutos.es/noticia/4375386/0/dir...</td>\n      <td>Casado: La votación es un triunfo del municipa...</td>\n      <td>El Pleno del Congreso ha rechazado este jueves...</td>\n      <td>es</td>\n    </tr>\n    <tr>\n      <th>5</th>\n      <td>2020-09-10</td>\n      <td>https://www.20minutos.es/noticia/4362007/0/los...</td>\n      <td>Las servilletas de bar la otra víctima que el ...</td>\n      <td>Las  medidas antiCovid  del  Gobierno central ...</td>\n      <td>es</td>\n    </tr>\n    <tr>\n      <th>6</th>\n      <td>2020-09-10</td>\n      <td>https://www.20minutos.es/noticia/4375035/0/res...</td>\n      <td>El camino de la Covid desemboca otra vez en la...</td>\n      <td>Fueron los más castigados por la primera ola d...</td>\n      <td>es</td>\n    </tr>\n    <tr>\n      <th>7</th>\n      <td>2020-09-10</td>\n      <td>https://www.20minutos.es/noticia/4375123/0/edu...</td>\n      <td>Educación deja sin plaza a docentes por cumpli...</td>\n      <td>La  Confederación General del Trabajo (CGT)  a...</td>\n      <td>es</td>\n    </tr>\n    <tr>\n      <th>8</th>\n      <td>2020-09-10</td>\n      <td>https://www.20minutos.es/noticia/4375388/0/oli...</td>\n      <td>Olivia Molina: Si hubiera una valla yo estaría...</td>\n      <td>En la serie La valla de Antena 3 (que se estre...</td>\n      <td>es</td>\n    </tr>\n    <tr>\n      <th>9</th>\n      <td>2020-09-10</td>\n      <td>https://www.20minutos.es/noticia/4375384/0/cas...</td>\n      <td>Así es el casoplón que Cristina Pedroche y Dab...</td>\n      <td>Cristina Pedroche  y  Dabiz Muñoz han dejado s...</td>\n      <td>es</td>\n    </tr>\n  </tbody>\n</table>\n</div>"
     },
     "metadata": {},
     "execution_count": 7
    }
   ],
   "source": [
    "df_news = pd.read_csv(write_path)\n",
    "df_news.head(10)"
   ]
  },
  {
   "cell_type": "code",
   "execution_count": null,
   "metadata": {},
   "outputs": [],
   "source": []
  }
 ]
}