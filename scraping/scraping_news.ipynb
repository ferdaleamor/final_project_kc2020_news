{
 "metadata": {
  "language_info": {
   "codemirror_mode": {
    "name": "ipython",
    "version": 3
   },
   "file_extension": ".py",
   "mimetype": "text/x-python",
   "name": "python",
   "nbconvert_exporter": "python",
   "pygments_lexer": "ipython3",
   "version": "3.8.3-final"
  },
  "orig_nbformat": 2,
  "kernelspec": {
   "name": "python3",
   "display_name": "Python 3"
  }
 },
 "nbformat": 4,
 "nbformat_minor": 2,
 "cells": [
  {
   "cell_type": "code",
   "execution_count": 1,
   "metadata": {},
   "outputs": [],
   "source": [
    "import scrapy\n",
    "from scrapy.crawler import CrawlerProcess\n",
    "import json\n",
    "from datetime import date, timedelta\n",
    "import pandas as pd\n",
    "from bs4 import BeautifulSoup\n",
    "import re\n",
    "import string\n",
    "import numpy as np\n",
    "import os"
   ]
  },
  {
   "cell_type": "code",
   "execution_count": 2,
   "metadata": {},
   "outputs": [],
   "source": [
    "# Establecemos las rutas de lectura y escritura de ficheros\n",
    "write_path = '../data/news.csv'\n",
    "read_path = '../data/urls.csv'"
   ]
  },
  {
   "cell_type": "code",
   "execution_count": 3,
   "metadata": {},
   "outputs": [],
   "source": [
    "df_news = pd.read_csv(write_path)\n",
    "df_news['scraping_date'] = pd.to_datetime(df_news['scraping_date'], format=\"%Y/%m/%d\")\n",
    "dates = df_news['scraping_date']\n",
    "keep = dates > (np.datetime64(date.today() - timedelta(days=5)))\n",
    "df_news = df_news[keep]\n",
    "scrapped_url = df_news['url']\n",
    "scrapped_url\n",
    "\n",
    "df_urls = pd.read_csv(read_path)\n",
    "urls = list(df_urls['url'])"
   ]
  },
  {
   "cell_type": "code",
   "execution_count": 4,
   "metadata": {
    "tags": []
   },
   "outputs": [],
   "source": [
    "# Creamos la clase Spider\n",
    "# Extrayendo el titular y el texto de la noticia, menos en los periódicos de suscripción\n",
    "\n",
    "class news_spider(scrapy.Spider):\n",
    "    name = 'blogspider'\n",
    "    start_urls = urls\n",
    "    \n",
    "    # Inicalizamos el fichero de escritura con las cabeceras\n",
    "    def __init__(self):\n",
    "        if os.stat(write_path).st_size == 0:\n",
    "            print(f\"scraping_date,url,headline,text,lang\", file=filep)\n",
    "\n",
    "    def parse(self, response):\n",
    "\n",
    "        list_replace = ['\\n', '\"', ',']\n",
    "        extract_text = \"\"\n",
    "        lang = 'es'\n",
    "        \n",
    "        today = False\n",
    "        if response.url in scrapped_url:\n",
    "            today = True\n",
    "\n",
    "        print(f\"\\\"{today}\\\",\\\"{response.url}\\\",\\\"headline\\\",\\\"clean_text\\\",\\\"eslang\\\"\", file=filep)           \n"
   ]
  },
  {
   "cell_type": "code",
   "execution_count": 8,
   "metadata": {},
   "outputs": [
    {
     "output_type": "execute_result",
     "data": {
      "text/plain": "False"
     },
     "metadata": {},
     "execution_count": 8
    }
   ],
   "source": [
    "url = \"hola\"\n",
    "scrapped_url.append(\"hola\")\n",
    "url in scrapped_url"
   ]
  },
  {
   "cell_type": "code",
   "execution_count": 7,
   "metadata": {},
   "outputs": [
    {
     "output_type": "execute_result",
     "data": {
      "text/plain": "0       https://www.20minutos.es/noticia/4393682/0/ult...\n1       https://www.20minutos.es/noticia/4395865/0/mad...\n2       https://www.20minutos.es/noticia/4395732/0/ayu...\n3       https://www.20minutos.es/noticia/4395580/0/com...\n4       https://www.20minutos.es/noticia/4395560/0/rec...\n                              ...                        \n2227    https://www.news.com.au/sport/cricket/alyssa-h...\n2228    https://www.news.com.au/sport/motorsport/formu...\n2229    https://www.news.com.au/sport/sports-life/elli...\n2230    https://www.news.com.au/sport/football/worlds-...\n2231    https://www.news.com.au/sport/boxing-champion-...\nName: url, Length: 2232, dtype: object"
     },
     "metadata": {},
     "execution_count": 7
    }
   ],
   "source": [
    "scrapped_url"
   ]
  },
  {
   "cell_type": "code",
   "execution_count": 5,
   "metadata": {
    "tags": [
     "outputPrepend"
    ]
   },
   "outputs": [
    {
     "output_type": "stream",
     "name": "stderr",
     "text": "25657/article/2020-09-17/liege-laube-des-grands-changements>\n2020-09-27 12:30:31 [scrapy.core.engine] DEBUG: Crawled (200) <GET https://demainlaterre.lesoir.be/322019/article/2020-08-31/les-caf-ou-le-microcredit-pour-sentraider> (referer: None)\n2020-09-27 12:30:31 [scrapy.core.engine] DEBUG: Crawled (200) <GET https://plus.lesoir.be/327143/article/2020-09-23/comment-paul-rusesabagina-heros-du-film-hotel-rwanda-est-arrive-au-rwanda-au> (referer: None)\n2020-09-27 12:30:31 [scrapy.core.engine] DEBUG: Crawled (200) <GET https://plus.lesoir.be/325657/article/2020-09-17/liege-laube-des-grands-changements> (referer: None)\n2020-09-27 12:30:31 [scrapy.core.engine] DEBUG: Crawled (200) <GET https://plus.lesoir.be/320677/article/2020-08-24/des-remorques-velo-partager> (referer: None)\n2020-09-27 12:30:31 [scrapy.downloadermiddlewares.redirect] DEBUG: Redirecting (302) to <GET https://plus.lesoir.be/323918/article/2020-09-09/maroc-mohammed-vi-le-roi-des-pauvres-toujours-plus-loin-de-son-peuple> from <GET https://www.lesoir.be/323918/article/2020-09-09/maroc-mohammed-vi-le-roi-des-pauvres-toujours-plus-loin-de-son-peuple>\n2020-09-27 12:30:32 [scrapy.downloadermiddlewares.redirect] DEBUG: Redirecting (302) to <GET https://plus.lesoir.be/327249/article/2020-09-25/vous-avez-de-ces-mots-au-brame-citoyens> from <GET https://www.lesoir.be/327249/article/2020-09-25/vous-avez-de-ces-mots-au-brame-citoyens>\n2020-09-27 12:30:32 [scrapy.core.engine] DEBUG: Crawled (200) <GET https://www.news.com.au/world/coronavirus/australia/coronavirus-australia-live-victoria-qld-nsw-covid19-updates/live-coverage/1450c3a75bda745be0ed4af495b2893e> (referer: None)\n2020-09-27 12:30:32 [scrapy.core.engine] DEBUG: Crawled (200) <GET https://www.news.com.au/entertainment/celebrity-life/royals/prince-harry-broke-queens-golden-rule-with-us-election-comments/news-story/c99049206492d5899678598ef0ef592f> (referer: None)\n2020-09-27 12:30:32 [scrapy.core.engine] DEBUG: Crawled (200) <GET https://plus.lesoir.be/327124/article/2020-09-23/unifiedpost-veut-devenir-le-facebook-des-pme> (referer: None)\n2020-09-27 12:30:32 [scrapy.core.engine] DEBUG: Crawled (200) <GET https://www.news.com.au/lifestyle/real-life/news-life/how-woman-discovered-her-husband-was-a-secret-paedophile/news-story/944212fe4a7805bb01d754d0759e37f1> (referer: None)\n2020-09-27 12:30:32 [scrapy.downloadermiddlewares.redirect] DEBUG: Redirecting (302) to <GET https://plus.lesoir.be/327040/article/2020-09-26/la-chronique-de-carta-academica-les-femmes-et-le-rejet-de-lautre> from <GET https://www.lesoir.be/327040/article/2020-09-26/la-chronique-de-carta-academica-les-femmes-et-le-rejet-de-lautre>\n2020-09-27 12:30:32 [scrapy.core.engine] DEBUG: Crawled (200) <GET https://plus.lesoir.be/323918/article/2020-09-09/maroc-mohammed-vi-le-roi-des-pauvres-toujours-plus-loin-de-son-peuple> (referer: None)\n2020-09-27 12:30:32 [scrapy.downloadermiddlewares.redirect] DEBUG: Redirecting (302) to <GET https://plus.lesoir.be/327449/article/2020-09-25/les-coformateurs-tadej-pogacar-et-sophie-wilmes-les-gagnants-et-les-perdants-de> from <GET https://www.lesoir.be/327449/article/2020-09-25/les-coformateurs-tadej-pogacar-et-sophie-wilmes-les-gagnants-et-les-perdants-de>\n2020-09-27 12:30:32 [scrapy.core.engine] DEBUG: Crawled (200) <GET https://plus.lesoir.be/327040/article/2020-09-26/la-chronique-de-carta-academica-les-femmes-et-le-rejet-de-lautre> (referer: None)\n2020-09-27 12:30:32 [scrapy.core.engine] DEBUG: Crawled (200) <GET https://plus.lesoir.be/327449/article/2020-09-25/les-coformateurs-tadej-pogacar-et-sophie-wilmes-les-gagnants-et-les-perdants-de> (referer: None)\n2020-09-27 12:30:32 [scrapy.core.engine] DEBUG: Crawled (200) <GET https://www.news.com.au/sport/nrl/reports-broncos-to-name-kevin-walters-as-coach-this-coach-as-bellamy-rumours-firm/news-story/a43194e1db118c52e048c2d2a500f542> (referer: None)\n2020-09-27 12:30:32 [scrapy.core.engine] DEBUG: Crawled (200) <GET https://www.news.com.au/lifestyle/health/health-problems/coronavirus-victoria-melbournes-restrictions-set-to-be-eased-further/news-story/e4705c665d9c5023b83bf0de9e11133b> (referer: None)\n2020-09-27 12:30:33 [scrapy.core.engine] DEBUG: Crawled (200) <GET https://plus.lesoir.be/327249/article/2020-09-25/vous-avez-de-ces-mots-au-brame-citoyens> (referer: None)\n2020-09-27 12:30:33 [scrapy.core.engine] DEBUG: Crawled (200) <GET https://www.news.com.au/technology/science/animals/hero-dad-saves-daughter-in-vicious-dog-attack/news-story/d37ed206b749532482d5dd4ea5f13b54> (referer: None)\n2020-09-27 12:30:33 [scrapy.core.engine] DEBUG: Crawled (200) <GET https://www.news.com.au/entertainment/tv/streaming/tiger-king-inside-joe-exotics-traumatic-past/news-story/35fab89fe915642f49a0a4f185145b16> (referer: None)\n2020-09-27 12:30:34 [scrapy.core.engine] DEBUG: Crawled (200) <GET https://www.news.com.au/in-the-know-quiz/dashboard> (referer: None)\n2020-09-27 12:30:34 [scrapy.core.engine] DEBUG: Crawled (200) <GET https://www.news.com.au/lifestyle/relationships/sex/relationship-rehab-mans-41year-sex-secret/news-story/e4afc01cff5fb4ff4ef2b5ceb5297565> (referer: None)\n2020-09-27 12:30:34 [scrapy.core.engine] DEBUG: Crawled (200) <GET https://www.news.com.au/entertainment/celebrity-life/hook-ups-break-ups/rhos-star-lisa-oldfield-flushes-her-engagement-ring-down-the-toilet/news-story/a903582b3a1a0c817644153039126854> (referer: None)\n2020-09-27 12:30:34 [scrapy.core.engine] DEBUG: Crawled (200) <GET https://www.news.com.au/lifestyle/health/health-problems/dr-charlie-teos-patient-milli-lucas-13-contracts-cancer-for-third-time/news-story/67e991b4492f4fa086dfa287a9f0c08d> (referer: None)\n2020-09-27 12:30:35 [scrapy.core.engine] DEBUG: Crawled (200) <GET https://www.news.com.au/sport/cricket/shane-warne-recalls-dean-jones-brutal-sledge-in-sri-lanka/news-story/fd86cbeaacf18e872bedfc28b998366f> (referer: None)\n2020-09-27 12:30:36 [scrapy.core.engine] DEBUG: Crawled (200) <GET https://www.news.com.au/entertainment/tv/melissa-doyle-reveals-sadness-at-seven-axing-after-25-years/news-story/225b188ee549631afa2f27459e1ba72f> (referer: None)\n2020-09-27 12:30:36 [scrapy.core.engine] DEBUG: Crawled (200) <GET https://www.news.com.au/entertainment/celebrity-life/celebrity-kids/kit-harington-and-rose-leslie-reveal-baby-see-her-bump/news-story/4231763fc72a4e5aec1cd4f2679ae341> (referer: None)\n2020-09-27 12:30:36 [scrapy.core.engine] DEBUG: Crawled (200) <GET https://www.news.com.au/finance/economy/world-economy/china-may-rely-on-australia-to-prevent-an-economic-collapse/news-story/855332b20c8074e15c2ee9802ff70329> (referer: None)\n2020-09-27 12:30:36 [scrapy.core.engine] DEBUG: Crawled (200) <GET https://www.news.com.au/entertainment/tv/reality-tv/delta-goodrem-unlikely-to-return-to-the-voice-due-to-salary-conflicts/news-story/f20f46e6b160c33b6975b4325b950230> (referer: None)\n2020-09-27 12:30:36 [scrapy.core.engine] DEBUG: Crawled (200) <GET https://www.news.com.au/world/coronavirus/australia/tapes-solve-the-mystery-of-victorias-covid-hotel-whodunit/news-story/68067f4af991a8dc15a962c5173a8283> (referer: None)\n2020-09-27 12:30:36 [scrapy.core.engine] DEBUG: Crawled (200) <GET https://www.news.com.au/entertainment/tv/morning-shows/sunrise-win-the-ratings-war-with-today-plummeting/news-story/0b13e055e4c1908098946a5627404fd3> (referer: None)\n2020-09-27 12:30:36 [scrapy.core.engine] DEBUG: Crawled (200) <GET https://www.news.com.au/sport/nrl/max-king-under-fire-for-dangerous-hip-drop-tackle/news-story/bf9b8ec3cbafe761a225ed88f1ad7df6> (referer: None)\n2020-09-27 12:30:38 [scrapy.core.engine] DEBUG: Crawled (200) <GET https://www.news.com.au/national/politics/curfew-lifted-in-vic-as-whopping-new-fine-introduced/news-story/fb51e153671a59bd160500547285f2b7> (referer: None)\n2020-09-27 12:30:38 [scrapy.core.engine] DEBUG: Crawled (200) <GET https://www.news.com.au/sport/nrl/dates-and-venues-for-week-one-of-nrl-finals-unveiled/news-story/2892a7a861071f94b8e39234a65c0952> (referer: None)\n2020-09-27 12:30:38 [scrapy.core.engine] DEBUG: Crawled (200) <GET https://www.news.com.au/national/nsw-act/news/renewed-police-push-to-find-missing-elderly-sydney-man-kenneth-hanes/news-story/e5ab2423c58ec2b42fe2f32cd1e708a4> (referer: None)\n2020-09-27 12:30:39 [scrapy.core.engine] DEBUG: Crawled (200) <GET https://www.news.com.au/lifestyle/health/health-problems/coronavirus-melbourne-strict-requirements-on-face-masks-in-victoria-will-remain-in-place/news-story/1a3a7e3c9a0cc40c817ad811a6fff552> (referer: None)\n2020-09-27 12:30:39 [scrapy.core.engine] DEBUG: Crawled (200) <GET https://www.news.com.au/sport/nrl/new-zealand-warriors-end-difficult-season-with-a-deserving-victory/news-story/baee57e082e85b3466802690cd485c12> (referer: None)\n2020-09-27 12:30:39 [scrapy.core.engine] DEBUG: Crawled (200) <GET https://www.news.com.au/sport/ufc/ufc-253-live-updates-israel-adesanya-vs-paulo-costa/news-story/a2242d197f34a6850bd4d39b80eb39e3> (referer: None)\n2020-09-27 12:30:39 [scrapy.core.engine] DEBUG: Crawled (200) <GET https://www.news.com.au/sport/nrl/nrl-finals-week-one-locked-in-with-eels-thrilling-win-over-tigers/news-story/ddb5932b5d83c347b282171b06dc1e4b> (referer: None)\n2020-09-27 12:30:39 [scrapy.core.engine] DEBUG: Crawled (200) <GET https://www.news.com.au/sport/nrl/benji-marshall-suffers-suspected-mcl-injury-in-farewell-match/news-story/1ff0dfbabab680bb6714df7cb24172f3> (referer: None)\n2020-09-27 12:30:40 [scrapy.core.engine] DEBUG: Crawled (200) <GET https://www.news.com.au/finance/work/leaders/us-election-real-reason-trumps-refusal-to-guarantee-a-peaceful-transfer-of-power-is-dangerous/news-story/ef301dcef3b11275f57c3946481d69a4> (referer: None)\n2020-09-27 12:30:41 [scrapy.core.engine] DEBUG: Crawled (200) <GET https://www.news.com.au/finance/economy/world-economy/coronavirus-theory-that-chinese-propaganda-encouraged-western-nations-to-lock-down/news-story/19c3e85f1f3088e5b06f2fb97ee50629> (referer: None)\n2020-09-27 12:30:41 [scrapy.core.engine] DEBUG: Crawled (200) <GET https://www.news.com.au/world/middle-east/donald-trump-reveals-amy-coney-barrett-is-his-supreme-court-pick-to-replace-ruth-bader-ginsburg/news-story/4b3d610ecc5b8d9940bfdf7da0ea38dd> (referer: None)\n2020-09-27 12:30:41 [scrapy.core.engine] DEBUG: Crawled (200) <GET https://www.news.com.au/sport/american-sports/nba/los-angeles-lakers-qualify-for-nba-finals-after-lebron-james-masterclass/news-story/cbc39cdea7c26010fac92552bf2b5403> (referer: None)\n2020-09-27 12:30:41 [scrapy.core.engine] DEBUG: Crawled (200) <GET https://www.news.com.au/lifestyle/parenting/school-life/shore-mums-defend-kids-on-social-media-after-vile-muckup-day-scavenger-hunt/news-story/1f95257cbe18a40bf0e248dc9c1a9fa3> (referer: None)\n2020-09-27 12:30:42 [scrapy.core.engine] DEBUG: Crawled (200) <GET https://www.news.com.au/lifestyle/food/drinks/it-hurts-50000-litres-of-wine-floods-spanish-winery/news-story/1a8e778de044e40632aca7926825e960> (referer: None)\n2020-09-27 12:30:43 [scrapy.core.engine] DEBUG: Crawled (200) <GET https://www.news.com.au/lifestyle/health/health-problems/is-vaping-safer-than-smoking-doctor-reveals-the-truth/news-story/7a2fc3f7b59b465e320a3895227d20be> (referer: None)\n2020-09-27 12:30:43 [scrapy.core.engine] DEBUG: Crawled (200) <GET https://www.news.com.au/lifestyle/beauty/the-beauty-diary-introduction-to-new-australian-skincare-brand-ava-society/news-story/db8a3ecc1f07d0c59569a349a5ae6321> (referer: None)\n2020-09-27 12:30:43 [scrapy.core.engine] DEBUG: Crawled (200) <GET https://www.news.com.au/lifestyle/parenting/school-life/covid19-pandemic-could-signal-end-of-school-tuckshop/news-story/d06647b08dcfe5fd529a381247f7f201> (referer: None)\n2020-09-27 12:30:44 [scrapy.core.engine] DEBUG: Crawled (200) <GET https://www.news.com.au/travel/travel-advice/tips-tricks/top-tourist-scams-to-avoid-from-fake-uber-charges-to-card-skimming/news-story/66b96e0911ec522093a6cf0937a31f45> (referer: None)\n2020-09-27 12:30:44 [scrapy.core.engine] DEBUG: Crawled (200) <GET https://www.news.com.au/travel/travel-updates/travel-stories/aussie-couple-trapped-in-mexico-raising-money-on-gofundme-to-get-home/news-story/1bbde27aa80baa7a003580cd523ff5bc> (referer: None)\n2020-09-27 12:30:44 [scrapy.core.engine] DEBUG: Crawled (200) <GET https://www.news.com.au/travel/travel-updates/health-safety/covid19-immunity-passports-the-huge-risk-with-plan-to-resume-travel/news-story/99c814439721f4bf5594d90b85fc16b2> (referer: None)\n2020-09-27 12:30:44 [scrapy.core.engine] DEBUG: Crawled (200) <GET https://www.news.com.au/lifestyle/health/diet/i-ate-and-worked-out-like-rebel-wilson-for-a-week-and-im-never-looking-back/news-story/84080bfc19b58e8e9ae6e590e9e8127a> (referer: None)\n2020-09-27 12:30:44 [scrapy.core.engine] DEBUG: Crawled (200) <GET https://www.news.com.au/travel/travel-updates/travel-stories/tripadvisor-reviews-the-top-10-funniest-1star-reviews-of-all-time/news-story/58acca670ee19ab1eb31e33d26db1bb6> (referer: None)\n2020-09-27 12:30:45 [scrapy.core.engine] DEBUG: Crawled (200) <GET https://www.news.com.au/travel/travel-updates/travel-stories/rich-kid-freaks-out-after-being-forced-on-budget-holiday-for-reality-tv-show/news-story/dd9e53010303eb887498722d7c6f80bd> (referer: None)\n2020-09-27 12:30:45 [scrapy.core.engine] DEBUG: Crawled (200) <GET https://www.news.com.au/entertainment/celebrity-life/celebrity-photos/kelly-osbourne-unrecognisable-after-secret-surgeries/news-story/37a941e56c594b6837cff6a72d59de36> (referer: None)\n2020-09-27 12:30:45 [scrapy.core.engine] DEBUG: Crawled (200) <GET https://www.news.com.au/entertainment/tv/melissa-doyle-reveals-sadness-at-seven-axing-after-25-years/news-story/225b188ee549631afa2f27459e1ba72f> (referer: None)\n2020-09-27 12:30:46 [scrapy.core.engine] DEBUG: Crawled (200) <GET https://www.news.com.au/technology/online/social/gen-z-tiktok-users-unwittingly-support-racist-tattoo-trend/news-story/1affd87b5771dabc97d1e6e8472c432c> (referer: None)\n2020-09-27 12:30:46 [scrapy.core.engine] DEBUG: Crawled (200) <GET https://www.news.com.au/entertainment/books-magazines/books/how-jimmy-barnes-lost-his-most-loyal-friends-family-pets-snoop-and-oliver/news-story/b1a46830a70e642873f15b76fb19d806> (referer: None)\n2020-09-27 12:30:46 [scrapy.core.engine] DEBUG: Crawled (200) <GET https://www.news.com.au/technology/home-entertainment/audio/sony-srsxb43-review-wireless-portable-speaker-defies-lockdown-rule/news-story/b4fa89f98af1afb6ceccfcb53b387310> (referer: None)\n2020-09-27 12:30:46 [scrapy.core.engine] DEBUG: Crawled (200) <GET https://www.news.com.au/entertainment/celebrity-life/celebrity-photos/kristin-cavallari-mumshamed-over-racy-instagram-post/news-story/af943409bcaef380205303ac66172ab5> (referer: None)\n2020-09-27 12:30:47 [scrapy.core.engine] DEBUG: Crawled (200) <GET https://www.news.com.au/technology/innovation/motoring/new-cars/honda-hrv-rs-review-magic-seats-make-for-a-smart-cabin/news-story/d23e1fdc52e6e95e3f90bfa567bae98f> (referer: None)\n2020-09-27 12:30:47 [scrapy.core.engine] DEBUG: Crawled (200) <GET https://www.news.com.au/entertainment/tv/james-weir-simple-solution-to-ellen-degeneres-hate-problem/news-story/da911895cbb119314f1f2a3e40df19e0> (referer: None)\n2020-09-27 12:30:48 [scrapy.core.engine] DEBUG: Crawled (200) <GET https://www.news.com.au/technology/environment/new-modelling-shows-up-to-15-tropical-cyclones-could-hit-australia-this-season/news-story/91e9d84353a408cdcb29c9c6ffdcc98f> (referer: None)\n2020-09-27 12:30:48 [scrapy.core.engine] DEBUG: Crawled (200) <GET https://www.news.com.au/technology/innovation/motoring/on-the-road/takata-airbag-class-action-two-million-aussies-encouraged-to-take-part-in-historic-legal-action/news-story/1ec5819d388212ccfcd9c24d50c9dc47> (referer: None)\n2020-09-27 12:30:48 [scrapy.core.engine] DEBUG: Crawled (200) <GET https://www.news.com.au/sport/cricket/alyssa-healy-breaks-world-record-for-most-dismissals-by-a-wicketkeeper-in-t20i-cricket/news-story/37b00dce07f52127160b44e63d22ef5b> (referer: None)\n2020-09-27 12:30:49 [scrapy.core.engine] DEBUG: Crawled (200) <GET https://www.news.com.au/finance/business/retail/retailer-slammed-for-offensive-anne-frank-holocaust-halloween-costume/news-story/b236bc32cb365d5f77aba51ab0a2ef5a> (referer: None)\n2020-09-27 12:30:49 [scrapy.core.engine] DEBUG: Crawled (200) <GET https://www.news.com.au/finance/real-estate/buying/sydney-man-eats-nothing-but-tuna-and-rice-to-buy-inner-city-million-dollar-apartment/news-story/9289485b62d7821ca2d02e117bee8b00> (referer: None)\n2020-09-27 12:30:49 [scrapy.core.engine] DEBUG: Crawled (200) <GET https://www.news.com.au/finance/economy/panic-buying-hits-the-uk-as-coronavirus-infections-skyrocket/news-story/90655afca64b886a01a6af090538a986> (referer: None)\n2020-09-27 12:30:49 [scrapy.core.engine] DEBUG: Crawled (200) <GET https://www.news.com.au/finance/business/banking/westpac-customer-12s-suspicious-action-that-led-bank-to-13bn-austrac-fine/news-story/e96065477b44b266737f6cae0ccf47d2> (referer: None)\n2020-09-27 12:30:49 [scrapy.core.engine] DEBUG: Crawled (200) <GET https://www.news.com.au/sport/nrl/new-zealand-warriors-end-difficult-season-with-a-deserving-victory/news-story/baee57e082e85b3466802690cd485c12> (referer: None)\n2020-09-27 12:30:50 [scrapy.core.engine] DEBUG: Crawled (200) <GET https://www.news.com.au/finance/business/retail/behind-the-outrage-at-woolies-over-the-ooshies-sellout-was-an-actual-retail-scandal-we-ignored/news-story/091b556e65c5f82aa8667e47f1eadd7e> (referer: None)\n2020-09-27 12:30:50 [scrapy.core.engine] DEBUG: Crawled (200) <GET https://www.news.com.au/sport/cricket/dean-jones-love-child-deserves-acknowledgment-cricketers-mistress-says/news-story/571a8a70a30bff93579019b50f48c6f7> (referer: None)\n2020-09-27 12:30:51 [scrapy.core.engine] DEBUG: Crawled (200) <GET https://www.news.com.au/sport/boxing-champion-john-riel-casimeros-cocky-celebration-after-brutal-knockout/news-story/ba5e3d5feab92cbc9593be2fcd8adb5e> (referer: None)\n2020-09-27 12:30:51 [scrapy.core.engine] DEBUG: Crawled (200) <GET https://www.news.com.au/sport/motorsport/formula-one/mick-schumacher-talks-about-lewis-hamilton-equalling-his-fathers-race-win-record/news-story/6b2417c035abd38c6938d7014c754ca0> (referer: None)\n2020-09-27 12:30:52 [scrapy.core.engine] DEBUG: Crawled (200) <GET https://www.news.com.au/sport/sports-life/elliejean-coffey-reveals-the-terrifying-abuse-she-suffered-in-surfing/news-story/ae94649e79d6698c8548c5762ab9def9> (referer: None)\n2020-09-27 12:30:52 [scrapy.core.engine] DEBUG: Crawled (200) <GET https://www.news.com.au/sport/football/worlds-sexiest-athlete-lands-new-gig-with-football-giants-borussia-dortmund/news-story/96aa3703e4b17cac65d0973e7b7d27f2> (referer: None)\n2020-09-27 12:30:52 [scrapy.core.engine] DEBUG: Crawled (200) <GET https://www.news.com.au/sport/motorsport/v8-supercars/scott-mclaughlin-wins-third-straight-supercars-championship-before-bathurst/news-story/b24a1a5dbd34b3c91b0d1f5a5c91ad60> (referer: None)\n2020-09-27 12:30:52 [scrapy.core.engine] INFO: Closing spider (finished)\n2020-09-27 12:30:52 [scrapy.statscollectors] INFO: Dumping Scrapy stats:\n{'downloader/exception_count': 1,\n 'downloader/exception_type_count/builtins.ValueError': 1,\n 'downloader/request_bytes': 208544,\n 'downloader/request_count': 714,\n 'downloader/request_method_count/GET': 714,\n 'downloader/response_bytes': 24217221,\n 'downloader/response_count': 713,\n 'downloader/response_status_count/200': 658,\n 'downloader/response_status_count/301': 14,\n 'downloader/response_status_count/302': 41,\n 'elapsed_time_seconds': 45.984182,\n 'finish_reason': 'finished',\n 'finish_time': datetime.datetime(2020, 9, 27, 10, 30, 52, 628749),\n 'log_count/DEBUG': 713,\n 'log_count/ERROR': 1,\n 'log_count/INFO': 10,\n 'memusage/max': 129966080,\n 'memusage/startup': 129966080,\n 'response_received_count': 658,\n 'scheduler/dequeued': 714,\n 'scheduler/dequeued/memory': 714,\n 'scheduler/enqueued': 714,\n 'scheduler/enqueued/memory': 714,\n 'start_time': datetime.datetime(2020, 9, 27, 10, 30, 6, 644567)}\n2020-09-27 12:30:52 [scrapy.core.engine] INFO: Spider closed (finished)\n"
    }
   ],
   "source": [
    "# Lanzamos el proceso de Crawler\n",
    "process = CrawlerProcess({\n",
    "    'USER_AGENT': 'Google SEO Bot'\n",
    "})\n",
    "\n",
    "\n",
    "filep = open(write_path, 'a')\n",
    "process.crawl(news_spider)\n",
    "process.start()\n",
    "filep.close()"
   ]
  },
  {
   "cell_type": "code",
   "execution_count": 7,
   "metadata": {},
   "outputs": [
    {
     "output_type": "execute_result",
     "data": {
      "text/plain": "  scraping_date                                                url  \\\n0    2020-09-10  https://www.20minutos.es/noticia/4375204/0/dav...   \n1    2020-09-10  https://www.20minutos.es/noticia/4375385/0/un-...   \n2    2020-09-10  https://www.20minutos.es/noticia/4373963/0/ast...   \n3    2020-09-10  https://www.20minutos.es/noticia/4375219/0/la-...   \n4    2020-09-10  https://www.20minutos.es/noticia/4375386/0/dir...   \n5    2020-09-10  https://www.20minutos.es/noticia/4362007/0/los...   \n6    2020-09-10  https://www.20minutos.es/noticia/4375035/0/res...   \n7    2020-09-10  https://www.20minutos.es/noticia/4375123/0/edu...   \n8    2020-09-10  https://www.20minutos.es/noticia/4375388/0/oli...   \n9    2020-09-10  https://www.20minutos.es/noticia/4375384/0/cas...   \n\n                                            headline  \\\n0  David Escors: Estamos yendo más rápido de lo q...   \n1  Un vídeo muestra lo lejos que puede llegar el ...   \n2  Asturias el 'oasis' en una España barrida por ...   \n3  La Policía dice que Interior pagó 53.000 euros...   \n4  Casado: La votación es un triunfo del municipa...   \n5  Las servilletas de bar la otra víctima que el ...   \n6  El camino de la Covid desemboca otra vez en la...   \n7  Educación deja sin plaza a docentes por cumpli...   \n8  Olivia Molina: Si hubiera una valla yo estaría...   \n9  Así es el casoplón que Cristina Pedroche y Dab...   \n\n                                                text lang  \n0  A raíz de la  suspensión de los ensayos clínic...   es  \n1  Que el  coronavirus  se expande de forma rápid...   es  \n2  Asturias se ha convertido también en esta segu...   es  \n3  El informe de la  Policía Nacional  que ha rec...   es  \n4  El Pleno del Congreso ha rechazado este jueves...   es  \n5  Las  medidas antiCovid  del  Gobierno central ...   es  \n6  Fueron los más castigados por la primera ola d...   es  \n7  La  Confederación General del Trabajo (CGT)  a...   es  \n8  En la serie La valla de Antena 3 (que se estre...   es  \n9  Cristina Pedroche  y  Dabiz Muñoz han dejado s...   es  ",
      "text/html": "<div>\n<style scoped>\n    .dataframe tbody tr th:only-of-type {\n        vertical-align: middle;\n    }\n\n    .dataframe tbody tr th {\n        vertical-align: top;\n    }\n\n    .dataframe thead th {\n        text-align: right;\n    }\n</style>\n<table border=\"1\" class=\"dataframe\">\n  <thead>\n    <tr style=\"text-align: right;\">\n      <th></th>\n      <th>scraping_date</th>\n      <th>url</th>\n      <th>headline</th>\n      <th>text</th>\n      <th>lang</th>\n    </tr>\n  </thead>\n  <tbody>\n    <tr>\n      <th>0</th>\n      <td>2020-09-10</td>\n      <td>https://www.20minutos.es/noticia/4375204/0/dav...</td>\n      <td>David Escors: Estamos yendo más rápido de lo q...</td>\n      <td>A raíz de la  suspensión de los ensayos clínic...</td>\n      <td>es</td>\n    </tr>\n    <tr>\n      <th>1</th>\n      <td>2020-09-10</td>\n      <td>https://www.20minutos.es/noticia/4375385/0/un-...</td>\n      <td>Un vídeo muestra lo lejos que puede llegar el ...</td>\n      <td>Que el  coronavirus  se expande de forma rápid...</td>\n      <td>es</td>\n    </tr>\n    <tr>\n      <th>2</th>\n      <td>2020-09-10</td>\n      <td>https://www.20minutos.es/noticia/4373963/0/ast...</td>\n      <td>Asturias el 'oasis' en una España barrida por ...</td>\n      <td>Asturias se ha convertido también en esta segu...</td>\n      <td>es</td>\n    </tr>\n    <tr>\n      <th>3</th>\n      <td>2020-09-10</td>\n      <td>https://www.20minutos.es/noticia/4375219/0/la-...</td>\n      <td>La Policía dice que Interior pagó 53.000 euros...</td>\n      <td>El informe de la  Policía Nacional  que ha rec...</td>\n      <td>es</td>\n    </tr>\n    <tr>\n      <th>4</th>\n      <td>2020-09-10</td>\n      <td>https://www.20minutos.es/noticia/4375386/0/dir...</td>\n      <td>Casado: La votación es un triunfo del municipa...</td>\n      <td>El Pleno del Congreso ha rechazado este jueves...</td>\n      <td>es</td>\n    </tr>\n    <tr>\n      <th>5</th>\n      <td>2020-09-10</td>\n      <td>https://www.20minutos.es/noticia/4362007/0/los...</td>\n      <td>Las servilletas de bar la otra víctima que el ...</td>\n      <td>Las  medidas antiCovid  del  Gobierno central ...</td>\n      <td>es</td>\n    </tr>\n    <tr>\n      <th>6</th>\n      <td>2020-09-10</td>\n      <td>https://www.20minutos.es/noticia/4375035/0/res...</td>\n      <td>El camino de la Covid desemboca otra vez en la...</td>\n      <td>Fueron los más castigados por la primera ola d...</td>\n      <td>es</td>\n    </tr>\n    <tr>\n      <th>7</th>\n      <td>2020-09-10</td>\n      <td>https://www.20minutos.es/noticia/4375123/0/edu...</td>\n      <td>Educación deja sin plaza a docentes por cumpli...</td>\n      <td>La  Confederación General del Trabajo (CGT)  a...</td>\n      <td>es</td>\n    </tr>\n    <tr>\n      <th>8</th>\n      <td>2020-09-10</td>\n      <td>https://www.20minutos.es/noticia/4375388/0/oli...</td>\n      <td>Olivia Molina: Si hubiera una valla yo estaría...</td>\n      <td>En la serie La valla de Antena 3 (que se estre...</td>\n      <td>es</td>\n    </tr>\n    <tr>\n      <th>9</th>\n      <td>2020-09-10</td>\n      <td>https://www.20minutos.es/noticia/4375384/0/cas...</td>\n      <td>Así es el casoplón que Cristina Pedroche y Dab...</td>\n      <td>Cristina Pedroche  y  Dabiz Muñoz han dejado s...</td>\n      <td>es</td>\n    </tr>\n  </tbody>\n</table>\n</div>"
     },
     "metadata": {},
     "execution_count": 7
    }
   ],
   "source": [
    "df_news = pd.read_csv(write_path)\n",
    "df_news.head(10)"
   ]
  },
  {
   "cell_type": "code",
   "execution_count": null,
   "metadata": {},
   "outputs": [],
   "source": []
  }
 ]
}