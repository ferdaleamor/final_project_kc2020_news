{
 "cells": [
  {
   "cell_type": "markdown",
   "metadata": {
    "colab_type": "text",
    "id": "yw9WKGTzUrgt"
   },
   "source": [
    "# Topics"
   ]
  },
  {
   "cell_type": "code",
   "execution_count": 1,
   "metadata": {
    "colab": {
     "base_uri": "https://localhost:8080/",
     "height": 363
    },
    "colab_type": "code",
    "executionInfo": {
     "elapsed": 1033,
     "status": "error",
     "timestamp": 1599427774530,
     "user": {
      "displayName": "Keepcoding TFB",
      "photoUrl": "",
      "userId": "00976957340086939962"
     },
     "user_tz": -120
    },
    "id": "WDA6ALAbUrgw",
    "outputId": "e9ecf577-11c9-4a91-e7d5-5b69be9596d6",
    "tags": []
   },
   "outputs": [],
   "source": [
    "import pandas as pd\n",
    "from stop_words import get_stop_words\n",
    "import string\n",
    "import unicodedata\n",
    "from num2words import num2words\n",
    "\n",
    "import gensim\n",
    "from gensim.corpora import Dictionary\n",
    "from gensim.models import LdaModel, CoherenceModel\n",
    "\n",
    "import pyLDAvis\n",
    "import pyLDAvis.gensim\n",
    "import matplotlib.pyplot as plt"
   ]
  },
  {
   "cell_type": "markdown",
   "metadata": {
    "colab_type": "text",
    "id": "Yodtn4ybUrg4"
   },
   "source": [
    "Cargamos los datos obtenidos en el primer punto de la práctica."
   ]
  },
  {
   "cell_type": "code",
   "execution_count": 2,
   "metadata": {
    "colab": {},
    "colab_type": "code",
    "id": "_pDXUua7Urg8",
    "outputId": "b873c8f8-97c6-4639-c3d6-eba3edd9b579"
   },
   "outputs": [
    {
     "data": {
      "text/html": [
       "<div>\n",
       "<style scoped>\n",
       "    .dataframe tbody tr th:only-of-type {\n",
       "        vertical-align: middle;\n",
       "    }\n",
       "\n",
       "    .dataframe tbody tr th {\n",
       "        vertical-align: top;\n",
       "    }\n",
       "\n",
       "    .dataframe thead th {\n",
       "        text-align: right;\n",
       "    }\n",
       "</style>\n",
       "<table border=\"1\" class=\"dataframe\">\n",
       "  <thead>\n",
       "    <tr style=\"text-align: right;\">\n",
       "      <th></th>\n",
       "      <th>scraping_date</th>\n",
       "      <th>url</th>\n",
       "      <th>headline</th>\n",
       "      <th>text</th>\n",
       "      <th>lang</th>\n",
       "    </tr>\n",
       "  </thead>\n",
       "  <tbody>\n",
       "    <tr>\n",
       "      <td>0</td>\n",
       "      <td>2020-08-30</td>\n",
       "      <td>https://www.20minutos.es/noticia/4364400/0/rec...</td>\n",
       "      <td>RÃ©cord de contagios por coronavirus en varias...</td>\n",
       "      <td>Los contagios por  coronavirus  siguen aumenta...</td>\n",
       "      <td>es</td>\n",
       "    </tr>\n",
       "    <tr>\n",
       "      <td>1</td>\n",
       "      <td>2020-08-30</td>\n",
       "      <td>https://www.20minutos.es/noticia/4364548/0/que...</td>\n",
       "      <td>Â¿QuÃ© pasa este curso con las extraescolares?</td>\n",
       "      <td>La incertidumbre que reina este curso por la  ...</td>\n",
       "      <td>es</td>\n",
       "    </tr>\n",
       "    <tr>\n",
       "      <td>2</td>\n",
       "      <td>2020-08-30</td>\n",
       "      <td>https://www.20minutos.es/deportes/noticia/4364...</td>\n",
       "      <td>Nuevo giro en el 'caso Messi: la clÃ¡usula ya ...</td>\n",
       "      <td>Las idas y venidas que estÃ¡ causando la  sali...</td>\n",
       "      <td>es</td>\n",
       "    </tr>\n",
       "    <tr>\n",
       "      <td>3</td>\n",
       "      <td>2020-08-30</td>\n",
       "      <td>https://www.20minutos.es/noticia/4363903/0/ens...</td>\n",
       "      <td>AsÃ­ es el ensayo en fase 2 de la vacuna del c...</td>\n",
       "      <td>EspaÃ±a es uno de los paÃ­ses donde se realiza...</td>\n",
       "      <td>es</td>\n",
       "    </tr>\n",
       "    <tr>\n",
       "      <td>4</td>\n",
       "      <td>2020-08-30</td>\n",
       "      <td>https://www.20minutos.es/noticia/4364515/0/gob...</td>\n",
       "      <td>El Gobierno mira a diciembre para poder empeza...</td>\n",
       "      <td>Si tuviera que hacer un pronÃ³stico hoy con lo...</td>\n",
       "      <td>es</td>\n",
       "    </tr>\n",
       "  </tbody>\n",
       "</table>\n",
       "</div>"
      ],
      "text/plain": [
       "  scraping_date                                                url  \\\n",
       "0    2020-08-30  https://www.20minutos.es/noticia/4364400/0/rec...   \n",
       "1    2020-08-30  https://www.20minutos.es/noticia/4364548/0/que...   \n",
       "2    2020-08-30  https://www.20minutos.es/deportes/noticia/4364...   \n",
       "3    2020-08-30  https://www.20minutos.es/noticia/4363903/0/ens...   \n",
       "4    2020-08-30  https://www.20minutos.es/noticia/4364515/0/gob...   \n",
       "\n",
       "                                            headline  \\\n",
       "0  RÃ©cord de contagios por coronavirus en varias...   \n",
       "1     Â¿QuÃ© pasa este curso con las extraescolares?   \n",
       "2  Nuevo giro en el 'caso Messi: la clÃ¡usula ya ...   \n",
       "3  AsÃ­ es el ensayo en fase 2 de la vacuna del c...   \n",
       "4  El Gobierno mira a diciembre para poder empeza...   \n",
       "\n",
       "                                                text lang  \n",
       "0  Los contagios por  coronavirus  siguen aumenta...   es  \n",
       "1  La incertidumbre que reina este curso por la  ...   es  \n",
       "2  Las idas y venidas que estÃ¡ causando la  sali...   es  \n",
       "3  EspaÃ±a es uno de los paÃ­ses donde se realiza...   es  \n",
       "4  Si tuviera que hacer un pronÃ³stico hoy con lo...   es  "
      ]
     },
     "execution_count": 2,
     "metadata": {},
     "output_type": "execute_result"
    }
   ],
   "source": [
    "df = pd.read_csv('./scraping/data/news.csv', encoding='latin-1')\n",
    "df.head()"
   ]
  },
  {
   "cell_type": "code",
   "execution_count": 3,
   "metadata": {
    "colab": {},
    "colab_type": "code",
    "id": "cbICmbHXUrhF"
   },
   "outputs": [],
   "source": [
    "df.dropna(inplace=True)"
   ]
  },
  {
   "cell_type": "code",
   "execution_count": 4,
   "metadata": {
    "colab": {},
    "colab_type": "code",
    "id": "jk-IY-nRUrhL",
    "outputId": "5dd49d0c-1517-4f94-eadb-beeafb0aa593"
   },
   "outputs": [
    {
     "data": {
      "text/plain": [
       "scraping_date    False\n",
       "url              False\n",
       "headline         False\n",
       "text             False\n",
       "lang             False\n",
       "dtype: bool"
      ]
     },
     "execution_count": 4,
     "metadata": {},
     "output_type": "execute_result"
    }
   ],
   "source": [
    "df.isnull().any()"
   ]
  },
  {
   "cell_type": "markdown",
   "metadata": {
    "colab_type": "text",
    "id": "OvwtQRZ2UrhR"
   },
   "source": [
    "Vamos a iniciar con la extracción de topics en español cogiendo las noticias."
   ]
  },
  {
   "cell_type": "code",
   "execution_count": 5,
   "metadata": {
    "colab": {},
    "colab_type": "code",
    "id": "10usGNHeUrhS",
    "outputId": "d8a6fd9c-965c-40d7-ec59-5092a426a358"
   },
   "outputs": [
    {
     "data": {
      "text/plain": [
       "0    Los contagios por  coronavirus  siguen aumenta...\n",
       "1    La incertidumbre que reina este curso por la  ...\n",
       "2    Las idas y venidas que estÃ¡ causando la  sali...\n",
       "3    EspaÃ±a es uno de los paÃ­ses donde se realiza...\n",
       "4    Si tuviera que hacer un pronÃ³stico hoy con lo...\n",
       "Name: text, dtype: object"
      ]
     },
     "execution_count": 5,
     "metadata": {},
     "output_type": "execute_result"
    }
   ],
   "source": [
    "df_es = df.drop(df[df.lang != 'es'].index)\n",
    "df_es = df_es['text']\n",
    "df_es.head()"
   ]
  },
  {
   "cell_type": "markdown",
   "metadata": {
    "colab_type": "text",
    "id": "mx-9iGeJUrhe"
   },
   "source": [
    "Vamos a realizar el preprocesado del texto."
   ]
  },
  {
   "cell_type": "code",
   "execution_count": 6,
   "metadata": {
    "colab": {},
    "colab_type": "code",
    "id": "YqSmQLTJUrhg"
   },
   "outputs": [],
   "source": [
    "# Obtenemos un diccionario de lemas\n",
    "lemmas_dict = {}\n",
    "with open('./lemmatization_lists/lemmatization-es.txt', 'r', encoding='utf-8') as f:\n",
    "    for line in f:\n",
    "        (key, val) = line.split()\n",
    "        lemmas_dict[str(val)] = key"
   ]
  },
  {
   "cell_type": "code",
   "execution_count": 7,
   "metadata": {
    "colab": {},
    "colab_type": "code",
    "id": "s0QYd-7NUrhm"
   },
   "outputs": [],
   "source": [
    "# Obtenemos una lista de stopwords\n",
    "sw_list = get_stop_words('es')"
   ]
  },
  {
   "cell_type": "code",
   "execution_count": 8,
   "metadata": {
    "colab": {},
    "colab_type": "code",
    "id": "Uy0ma0sQUrhr"
   },
   "outputs": [],
   "source": [
    "# Tabla para eliminar signos de puntuación\n",
    "table = str.maketrans('', '', string.punctuation)\n",
    "# Procesamos los textos\n",
    "processed_texts = []\n",
    "for text in df_es:\n",
    "    processed_text = []\n",
    "    # Convertimos el texto a minúsuculas\n",
    "    text = text.lower()\n",
    "    # Eliminamos caracteres extraños, elimina ñ y tildes \n",
    "    text = unicodedata.normalize('NFKD', text).encode('ascii', 'ignore').decode('utf-8', 'ignore')\n",
    "    # Segmentamos el texto en frases\n",
    "    sentences = text.split('.')\n",
    "    # Para cada frase\n",
    "    prev_word = \"\"\n",
    "    prev_word_2 = \"\"\n",
    "    for sentence in sentences:\n",
    "        words = sentence.split(' ')\n",
    "        # Para cada palabra\n",
    "        for word in words:\n",
    "            # Eliminamos stopwords y signos de puntuación\n",
    "            if word not in string.punctuation and word not in sw_list: \n",
    "                word = word.translate(table)\n",
    "                # lematizamos\n",
    "                word = lemmas_dict.get(word, word)\n",
    "                # Pasamos lo números a palabras\n",
    "                if word.isdigit():\n",
    "                    word = num2words(word, lang='es')\n",
    "                # Eliminamos palabras menores de 3 letras\n",
    "                if len(word) > 3:\n",
    "                    # processed_text.append(word)\n",
    "                    if prev_word:\n",
    "                        processed_text.append(prev_word + \" \" + word)\n",
    "                        if prev_word_2:\n",
    "                            processed_text.append(prev_word_2 + \" \" + prev_word + \" \" + word)\n",
    "                    prev_word_2 = prev_word\n",
    "                    prev_word = word\n",
    "    processed_texts.append(processed_text)"
   ]
  },
  {
   "cell_type": "code",
   "execution_count": 9,
   "metadata": {
    "colab": {},
    "colab_type": "code",
    "id": "630pzrdmUrhv",
    "outputId": "fb364038-3f17-4d8a-9ae3-f0c0c6c02dff"
   },
   "outputs": [
    {
     "data": {
      "text/plain": [
       "1732"
      ]
     },
     "execution_count": 9,
     "metadata": {},
     "output_type": "execute_result"
    }
   ],
   "source": [
    "len(processed_texts)"
   ]
  },
  {
   "cell_type": "code",
   "execution_count": 11,
   "metadata": {
    "colab": {},
    "colab_type": "code",
    "id": "A7Q11GwdUrhy",
    "outputId": "099ede55-12e7-44b8-9110-d98f77300aad",
    "tags": []
   },
   "outputs": [
    {
     "name": "stdout",
     "output_type": "stream",
     "text": [
      "['hacer prona3stico', 'prona3stico dato', 'hacer prona3stico dato', 'dato disponer', 'prona3stico dato disponer', 'disponer diraa', 'dato disponer diraa', 'diraa diciembre', 'disponer diraa diciembre', 'diciembre podraamos', 'diraa diciembre podraamos', 'podraamos empezar', 'diciembre podraamos empezar', 'empezar vacunar', 'podraamos empezar vacunar', 'vacunar colectivo', 'empezar vacunar colectivo', 'colectivo necesitar', 'vacunar colectivo necesitar', 'necesitar palabra', 'colectivo necesitar palabra', 'palabra dela', 'necesitar palabra dela', 'dela ministro', 'palabra dela ministro', 'ministro sanidad', 'dela ministro sanidad', 'sanidad salvador', 'ministro sanidad salvador', 'salvador illa', 'sanidad salvador illa', 'illa semana', 'salvador illa semana', 'semana quedar', 'illa semana quedar', 'quedar marcar', 'semana quedar marcar', 'marcar anunciar', 'quedar marcar anunciar', 'anunciar espaaa', 'marcar anunciar espaaa', 'espaaa empezar', 'anunciar espaaa empezar', 'empezar fase', 'espaaa empezar fase', 'fase ensayo', 'empezar fase ensayo', 'ensayo clanico', 'fase ensayo clanico', 'clanico personar', 'ensayo clanico personar', 'personar vacuno', 'clanico personar vacuno', 'vacuno coronavirus', 'personar vacuno coronavirus', 'coronavirus desarrollar', 'vacuno coronavirus desarrollar', 'desarrollar farmacautica', 'coronavirus desarrollar farmacautica', 'farmacautica belga', 'desarrollar farmacautica belga', 'belga janssen', 'farmacautica belga janssen', 'janssen ministro', 'belga janssen ministro', 'ministro sanidad', 'janssen ministro sanidad', 'sanidad cautelar', 'ministro sanidad cautelar', 'cautelar pistar', 'sanidad cautelar pistar', 'pistar claro', 'cautelar pistar claro', 'claro calendario', 'pistar claro calendario', 'calendario tendraa', 'claro calendario tendraa', 'tendraa gobernar', 'calendario tendraa gobernar', 'gobernar mano', 'tendraa gobernar mano', 'mano referir', 'gobernar mano referir', 'referir posible', 'mano referir posible', 'posible fecho', 'referir posible fecho', 'fecho iniciar', 'posible fecho iniciar', 'iniciar siguiente', 'fecho iniciar siguiente', 'siguiente fase', 'iniciar siguiente fase', 'fase luchar', 'siguiente fase luchar', 'luchar pandemia', 'fase luchar pandemia', 'pandemia calendario', 'luchar pandemia calendario', 'calendario vacunacia3n', 'pandemia calendario vacunacia3n', 'vacunacia3n primero', 'calendario vacunacia3n primero', 'primero plano', 'vacunacia3n primero plano', 'plano gripe', 'primero plano gripe', 'gripe adelantar', 'plano gripe adelantar', 'adelantar medir', 'gripe adelantar medir', 'medir atajar', 'adelantar medir atajar', 'atajar impactar', 'medir atajar impactar', 'impactar virus', 'atajar impactar virus', 'virus agravar', 'impactar virus agravar', 'agravar situacia3n', 'virus agravar situacia3n', 'situacia3n difacil', 'agravar situacia3n difacil', 'difacil momento', 'situacia3n difacil momento', 'momento centro', 'difacil momento centro', 'centro atencia3n', 'momento centro atencia3n', 'atencia3n primario', 'centro atencia3n primario', 'primario comenzar', 'atencia3n primario comenzar', 'comenzar dos mil veinte', 'primario comenzar dos mil veinte', 'dos mil veinte primero', 'comenzar dos mil veinte primero', 'primero semana', 'dos mil veinte primero semana', 'semana octubre', 'primero semana octubre', 'octubre illa', 'semana octubre illa', 'illa repasar', 'octubre illa repasar', 'repasar actualidad', 'illa repasar actualidad', 'actualidad alrededor', 'repasar actualidad alrededor', 'alrededor virus', 'actualidad alrededor virus', 'virus entrevistar', 'alrededor virus entrevistar', 'entrevistar domingo', 'virus entrevistar domingo', 'domingo vanguardia', 'entrevistar domingo vanguardia', 'vanguardia asegurar', 'domingo vanguardia asegurar', 'asegurar cumplir', 'vanguardia asegurar cumplir', 'cumplir medir', 'asegurar cumplir medir', 'medir actual', 'cumplir medir actual', 'actual frenar', 'medir actual frenar', 'frenar contagio', 'actual frenar contagio', 'contagio coronavirus', 'frenar contagio coronavirus', 'coronavirus habra', 'contagio coronavirus habra', 'habra adoptar', 'coronavirus habra adoptar', 'adoptar otro', 'habra adoptar otro', 'otro hacer', 'adoptar otro hacer', 'hacer pensar', 'otro hacer pensar', 'pensar volver', 'hacer pensar volver', 'volver situacia3n', 'pensar volver situacia3n', 'situacia3n marzo', 'volver situacia3n marzo', 'marzo titular', 'situacia3n marzo titular', 'titular sanidad', 'marzo titular sanidad', 'sanidad explicar', 'titular sanidad explicar', 'explicar situacia3n', 'sanidad explicar situacia3n', 'situacia3n actual', 'explicar situacia3n actual', 'actual pandemia', 'situacia3n actual pandemia', 'pandemia distinto', 'actual pandemia distinto', 'distinto marzo', 'pandemia distinto marzo', 'marzo ahora', 'distinto marzo ahora', 'ahora estabilizar', 'marzo ahora estabilizar', 'estabilizar curvo', 'ahora estabilizar curvo', 'curvo bajar', 'estabilizar curvo bajar', 'bajar contagio', 'curvo bajar contagio', 'contagio incrementar', 'bajar contagio incrementar', 'incrementar caso', 'contagio incrementar caso', 'caso controlar', 'incrementar caso controlar', 'controlar amenazar', 'caso controlar amenazar', 'amenazar sistema', 'controlar amenazar sistema', 'sistema sanitario', 'amenazar sistema sanitario', 'sanitario subir', 'sistema sanitario subir', 'subir atribuir', 'sanitario subir atribuir', 'atribuir factor', 'subir atribuir factor', 'factor movilidad', 'atribuir factor movilidad', 'movilidad alarmar', 'factor movilidad alarmar', 'alarmar mejorar', 'movilidad alarmar mejorar', 'mejorar sistema', 'alarmar mejorar sistema', 'sistema deteccia3n', 'mejorar sistema deteccia3n', 'deteccia3n precoz', 'sistema deteccia3n precoz', 'precoz caso', 'deteccia3n precoz caso', 'caso tambian', 'precoz caso tambian', 'tambian decir', 'caso tambian decir', 'decir casuastica', 'tambian decir casuastica', 'casuastica caso', 'decir casuastica caso', 'caso detectar', 'casuastica caso detectar', 'detectar actualidad', 'caso detectar actualidad', 'actualidad distinto', 'detectar actualidad distinto', 'distinto habaa', 'actualidad distinto habaa', 'habaa principiar', 'distinto habaa principiar', 'principiar pandemia', 'habaa principiar pandemia', 'pandemia valorar', 'principiar pandemia valorar', 'valorar dato', 'pandemia valorar dato', 'dato conjuntar', 'valorar dato conjuntar', 'conjuntar mitad', 'dato conjuntar mitad', 'mitad asintomaticos', 'conjuntar mitad asintomaticos', 'asintomaticos medio', 'mitad asintomaticos medio', 'medio edad', 'asintomaticos medio edad', 'edad bajo', 'medio edad bajo', 'bajo tornar', 'edad bajo tornar', 'tornar cuarenta', 'bajo tornar cuarenta', 'cuarenta aaos', 'tornar cuarenta aaos', 'aaos caso', 'cuarenta aaos caso', 'caso leve', 'aaos caso leve', 'leve presia3n', 'caso leve presia3n', 'presia3n hospitalario', 'leve presia3n hospitalario', 'hospitalario rondar', 'presia3n hospitalario rondar', 'rondar cinco', 'hospitalario rondar cinco', 'cinco afortunadamente', 'rondar cinco afortunadamente', 'afortunadamente naomero', 'cinco afortunadamente naomero', 'naomero fallecimiento', 'afortunadamente naomero fallecimiento', 'fallecimiento distinto', 'naomero fallecimiento distinto', 'distinto estabilizarse', 'fallecimiento distinto estabilizarse', 'estabilizarse explicar', 'distinto estabilizarse explicar', 'explicar procedera', 'estabilizarse explicar procedera', 'procedera conformar', 'explicar procedera conformar', 'conformar plan', 'procedera conformar plan', 'plan respuesta', 'conformar plan respuesta', 'respuesta temprano', 'plan respuesta temprano', 'temprano pactar', 'respuesta temprano pactar', 'pactar autonomaas', 'temprano pactar autonomaas', 'autonomaas junio', 'pactar autonomaas junio', 'junio preva', 'autonomaas junio preva', 'preva vario', 'junio preva vario', 'vario escenario', 'preva vario escenario', 'escenario fase', 'vario escenario fase', 'fase pedir', 'escenario fase pedir', 'pedir minimizar', 'fase pedir minimizar', 'minimizar importancia', 'pedir minimizar importancia', 'importancia presia3n', 'minimizar importancia presia3n', 'presia3n hospitalario', 'importancia presia3n hospitalario', 'hospitalario actual', 'presia3n hospitalario actual', 'actual tornar', 'hospitalario actual tornar', 'tornar cinco', 'actual tornar cinco', 'cinco incrementarse', 'tornar cinco incrementarse', 'incrementarse caso', 'cinco incrementarse caso', 'caso acabar', 'incrementarse caso acabar', 'acabar subir', 'caso acabar subir', 'subir poder', 'acabar subir poder', 'poder permitir', 'subir poder permitir', 'permitir volver', 'poder permitir volver', 'volver aula', 'permitir volver aula', 'aula septiembre', 'volver aula septiembre', 'septiembre defender', 'aula septiembre defender', 'defender gobernar', 'septiembre defender gobernar', 'gobernar criterio', 'defender gobernar criterio', 'criterio trabajar', 'gobernar criterio trabajar', 'trabajar hacer', 'criterio trabajar hacer', 'hacer tiempo', 'trabajar hacer tiempo', 'tiempo cero', 'hacer tiempo cero', 'cero millón', 'tiempo cero millón', 'millón euro', 'cero millón euro', 'euro invertiran', 'millón euro invertiran', 'invertiran materia', 'euro invertiran materia', 'materia educativo', 'invertiran materia educativo', 'educativo fondo', 'materia educativo fondo', 'fondo dieciseis', 'educativo fondo dieciseis', 'dieciseis cero', 'fondo dieciseis cero', 'cero millón', 'dieciseis cero millón', 'millón destinar', 'cero millón destinar', 'destinar comunidad', 'millón destinar comunidad', 'comunidad auta3nomas', 'destinar comunidad auta3nomas', 'auta3nomas insistir', 'comunidad auta3nomas insistir', 'insistir padre', 'auta3nomas insistir padre', 'padre deber', 'insistir padre deber', 'deber llevar', 'padre deber llevar', 'llevar hijo', 'deber llevar hijo', 'hijo colegiar', 'llevar hijo colegiar', 'colegiar santomas', 'hijo colegiar santomas', 'santomas fiebre', 'colegiar santomas fiebre', 'fiebre habra', 'santomas fiebre habra', 'habra salir', 'fiebre habra salir', 'salir trabajador', 'habra salir trabajador', 'trabajador niao', 'salir trabajador niao', 'niao santomas', 'trabajador niao santomas', 'santomas deber', 'niao santomas deber', 'deber salir', 'santomas deber salir', 'salir casar', 'deber salir casar', 'casar concentración', 'salir casar concentración', 'concentración convocar', 'casar concentración convocar', 'convocar diada', 'concentración convocar diada', 'diada cataluaa', 'convocar diada cataluaa', 'cataluaa recordar', 'diada cataluaa recordar', 'recordar derecho', 'cataluaa recordar derecho', 'derecho manifestarse', 'recordar derecho manifestarse', 'manifestarse derecho', 'derecho manifestarse derecho', 'derecho fundamental', 'manifestarse derecho fundamental', 'fundamental apelar', 'derecho fundamental apelar', 'apelar sentir', 'fundamental apelar sentir', 'sentir comaon', 'apelar sentir comaon', 'comaon sensatez', 'sentir comaon sensatez', 'sensatez respetar', 'comaon sensatez respetar', 'respetar escrupuloso', 'sensatez respetar escrupuloso', 'escrupuloso decisión', 'respetar escrupuloso decisión', 'decisión autoridad', 'escrupuloso decisión autoridad', 'autoridad sanitario', 'decisión autoridad sanitario', 'sanitario situacia3n', 'autoridad sanitario situacia3n', 'situacia3n calificar', 'sanitario situacia3n calificar', 'calificar delicado', 'situacia3n calificar delicado', 'delicado preguntarsele', 'calificar delicado preguntarsele', 'preguntarsele desescalada', 'delicado preguntarsele desescalada', 'desescalada hacer', 'preguntarsele desescalada hacer', 'hacer demasiar', 'desescalada hacer demasiar', 'demasiar rapido', 'hacer demasiar rapido', 'rapido cataluaa', 'demasiar rapido cataluaa', 'cataluaa comunidad', 'rapido cataluaa comunidad', 'comunidad madrid', 'cataluaa comunidad madrid', 'madrid asegurar', 'comunidad madrid asegurar', 'asegurar hacer', 'madrid asegurar hacer', 'hacer bien', 'asegurar hacer bien', 'bien paases', 'hacer bien paases', 'paases tambian', 'bien paases tambian', 'tambian aumentar', 'paases tambian aumentar', 'aumentar riesgo', 'tambian aumentar riesgo', 'riesgo rebrotar', 'aumentar riesgo rebrotar', 'rebrotar recuperacia3n', 'riesgo rebrotar recuperacia3n', 'recuperacia3n movilidad', 'rebrotar recuperacia3n movilidad', 'movilidad ademar', 'recuperacia3n movilidad ademar', 'ademar comunidad', 'movilidad ademar comunidad', 'comunidad estan', 'ademar comunidad estan', 'estan adoptar', 'comunidad estan adoptar', 'adoptar bien', 'estan adoptar bien', 'bien restricción', 'adoptar bien restricción', 'restricción atajar', 'bien restricción atajar', 'atajar contagiar', 'restricción atajar contagiar', 'contagiar alla', 'atajar contagiar alla', 'alla detectar', 'contagiar alla detectar', 'detectar producir', 'alla detectar producir', 'producir mayoraa', 'detectar producir mayoraa', 'mayoraa caso', 'producir mayoraa caso', 'caso espacio', 'mayoraa caso espacio', 'espacio ocio', 'caso espacio ocio', 'ocio nocturno', 'espacio ocio nocturno', 'nocturno familiar', 'ocio nocturno familiar', 'familiar explicar', 'nocturno familiar explicar', 'explicar mostrar', 'familiar explicar mostrar', 'mostrar convencer', 'explicar mostrar convencer', 'convencer conseguira', 'mostrar convencer conseguira', 'conseguira corregir', 'convencer conseguira corregir', 'corregir curvo', 'conseguira corregir curvo', 'curvo bajo', 'corregir curvo bajo', 'bajo ocurria3', 'curvo bajo ocurria3', 'ocurria3 araga3n', 'bajo ocurria3 araga3n', 'araga3n cataluaa', 'ocurria3 araga3n cataluaa', 'cataluaa estabiliza3', 'araga3n cataluaa estabiliza3', 'estabiliza3 aunque', 'cataluaa estabiliza3 aunque', 'aunque ahora', 'estabiliza3 aunque ahora', 'ahora repuntar', 'aunque ahora repuntar', 'repuntar tambian', 'ahora repuntar tambian', 'tambian rechazar', 'repuntar tambian rechazar', 'rechazar valorar', 'tambian rechazar valorar', 'valorar actuacia3n', 'rechazar valorar actuacia3n', 'actuacia3n generalitat', 'valorar actuacia3n generalitat', 'generalitat crisis', 'actuacia3n generalitat crisis', 'crisis asegurar', 'generalitat crisis asegurar', 'asegurar priorizar', 'crisis asegurar priorizar', 'priorizar colaboracia3n', 'asegurar priorizar colaboracia3n', 'colaboracia3n coordinacia3n', 'priorizar colaboracia3n coordinacia3n', 'coordinacia3n gobernar', 'colaboracia3n coordinacia3n gobernar', 'gobernar seguir', 'coordinacia3n gobernar seguir', 'seguir enfocar', 'gobernar seguir enfocar', 'enfocar constructivo', 'seguir enfocar constructivo', 'constructivo nadie', 'enfocar constructivo nadie', 'nadie seaor', 'constructivo nadie seaor', 'seaor torrar', 'nadie seaor torrar', 'torrar seaora', 'seaor torrar seaora', 'seaora ayuso', 'torrar seaora ayuso', 'ayuso mismo', 'seaora ayuso mismo', 'mismo ningaon', 'ayuso mismo ningaon', 'ningaon lader', 'mismo ningaon lader', 'lader polatico', 'ningaon lader polatico', 'polatico responsable', 'lader polatico responsable', 'responsable solucia3n', 'polatico responsable solucia3n', 'solucia3n magica', 'responsable solucia3n magica', 'magica conflicto', 'solucia3n magica conflicto', 'conflicto polatico', 'magica conflicto polatico', 'polatico cataluaa', 'conflicto polatico cataluaa', 'cataluaa reiterar', 'polatico cataluaa reiterar', 'reiterar apuesto', 'cataluaa reiterar apuesto', 'apuesto gobernar', 'reiterar apuesto gobernar', 'gobernar dialogar', 'apuesto gobernar dialogar', 'dialogar ofrecia3', 'gobernar dialogar ofrecia3', 'ofrecia3 principiar', 'dialogar ofrecia3 principiar', 'principiar legislatura', 'ofrecia3 principiar legislatura', 'legislatura aoltimos', 'principiar legislatura aoltimos', 'aoltimos mesar', 'legislatura aoltimos mesar', 'mesar prioridad', 'aoltimos mesar prioridad', 'prioridad abordar', 'mesar prioridad abordar', 'abordar pandemia', 'prioridad abordar pandemia', 'pandemia ademar', 'abordar pandemia ademar', 'ademar escenario', 'pandemia ademar escenario', 'escenario preelectoral', 'ademar escenario preelectoral', 'preelectoral crear', 'escenario preelectoral crear', 'crear gobernar', 'preelectoral crear gobernar', 'gobernar espaaa', 'crear gobernar espaaa', 'espaaa sino', 'gobernar espaaa sino', 'sino hacer', 'espaaa sino hacer', 'hacer mesar', 'sino hacer mesar', 'mesar decir', 'hacer mesar decir', 'decir govern', 'mesar decir govern', 'govern agotar', 'decir govern agotar', 'agotar decir', 'govern agotar decir', 'decir tambian', 'agotar decir tambian', 'tambian apostar', 'decir tambian apostar', 'apostar aprobar', 'tambian apostar aprobar', 'aprobar presupuesto', 'apostar aprobar presupuesto', 'presupuesto general', 'aprobar presupuesto general', 'general idealmente', 'presupuesto general idealmente', 'idealmente mayoraa', 'general idealmente mayoraa', 'mayoraa apoyar', 'idealmente mayoraa apoyar', 'apoyar investidura', 'mayoraa apoyar investidura', 'investidura presidente', 'apoyar investidura presidente', 'presidente gobernar', 'investidura presidente gobernar', 'gobernar pedro', 'presidente gobernar pedro', 'pedro sanchez', 'gobernar pedro sanchez', 'sanchez decir', 'pedro sanchez decir', 'decir gobernar', 'sanchez decir gobernar', 'gobernar coalicia3n', 'decir gobernar coalicia3n', 'coalicia3n existir', 'gobernar coalicia3n existir', 'existir objetivo', 'coalicia3n existir objetivo', 'objetivo compartir', 'existir objetivo compartir', 'compartir marcar', 'objetivo compartir marcar']\n"
     ]
    }
   ],
   "source": [
    "print(processed_texts[4])"
   ]
  },
  {
   "cell_type": "markdown",
   "metadata": {
    "colab_type": "text",
    "id": "-Zr5XIDSUrh1"
   },
   "source": [
    "## Entrenamos el modelo LDA\n",
    "\n",
    "Creamos el diccionario y la matriz documento-término."
   ]
  },
  {
   "cell_type": "code",
   "execution_count": 12,
   "metadata": {
    "colab": {},
    "colab_type": "code",
    "id": "ABJnBdrQUrh2"
   },
   "outputs": [],
   "source": [
    "dictionary = Dictionary(processed_texts)"
   ]
  },
  {
   "cell_type": "code",
   "execution_count": 13,
   "metadata": {
    "colab": {},
    "colab_type": "code",
    "id": "VLHpigEVUrh4",
    "outputId": "cda6c2ae-a2cf-404d-e792-b0a9f10dc7b7"
   },
   "outputs": [
    {
     "data": {
      "text/plain": [
       "gensim.corpora.dictionary.Dictionary"
      ]
     },
     "execution_count": 13,
     "metadata": {},
     "output_type": "execute_result"
    }
   ],
   "source": [
    "type(dictionary)"
   ]
  },
  {
   "cell_type": "code",
   "execution_count": 14,
   "metadata": {
    "colab": {},
    "colab_type": "code",
    "id": "_Fww_rcyUrh6",
    "outputId": "275ec894-c1de-4081-c047-d2c19aa160c0"
   },
   "outputs": [
    {
     "data": {
      "text/plain": [
       "815137"
      ]
     },
     "execution_count": 14,
     "metadata": {},
     "output_type": "execute_result"
    }
   ],
   "source": [
    "# Comprobamos el tamaño de nuestro diccionario\n",
    "len(dictionary)"
   ]
  },
  {
   "cell_type": "code",
   "execution_count": 16,
   "metadata": {
    "colab": {},
    "colab_type": "code",
    "id": "eTy4t2uNUrh8"
   },
   "outputs": [
    {
     "name": "stdout",
     "output_type": "stream",
     "text": [
      "[(661, 2), (3138, 1), (5497, 1), (9380, 1), (9381, 1), (9382, 1), (9383, 1), (9384, 1), (9385, 1), (9386, 1), (9387, 1), (9388, 2), (9389, 1), (9390, 1), (9391, 1), (9392, 1), (9393, 1), (9394, 1), (9395, 1), (9396, 1), (9397, 1), (9398, 1), (9399, 1), (9400, 1), (9401, 1), (9402, 1), (9403, 1), (9404, 1), (9405, 1), (9406, 1), (9407, 1), (9408, 1), (9409, 1), (9410, 1), (9411, 1), (9412, 1), (9413, 1), (9414, 1), (9415, 1), (9416, 1), (9417, 1), (9418, 1), (9419, 1), (9420, 1), (9421, 1), (9422, 1), (9423, 1), (9424, 1), (9425, 1), (9426, 1), (9427, 2), (9428, 1), (9429, 1), (9430, 1), (9431, 1), (9432, 1), (9433, 1), (9434, 1), (9435, 1), (9436, 1), (9437, 1), (9438, 1), (9439, 1), (9440, 1), (9441, 1), (9442, 1), (9443, 1), (9444, 1), (9445, 1), (9446, 1), (9447, 1), (9448, 1), (9449, 1), (9450, 1), (9451, 1), (9452, 1), (9453, 1), (9454, 1), (9455, 1), (9456, 1), (9457, 1), (9458, 1), (9459, 1), (9460, 1), (9461, 1), (9462, 1), (9463, 1), (9464, 1), (9465, 1), (9466, 1), (9467, 1), (9468, 1), (9469, 1), (9470, 1), (9471, 1), (9472, 1), (9473, 1), (9474, 1), (9475, 1), (9476, 1), (9477, 1), (9478, 1), (9479, 1), (9480, 1), (9481, 1), (9482, 1), (9483, 1), (9484, 1), (9485, 1), (9486, 1), (9487, 1), (9488, 1), (9489, 1), (9490, 1), (9491, 1), (9492, 1), (9493, 1), (9494, 1), (9495, 1), (9496, 1), (9497, 1), (9498, 1), (9499, 1), (9500, 1), (9501, 1), (9502, 1), (9503, 1), (9504, 1), (9505, 1), (9506, 1), (9507, 1), (9508, 1), (9509, 1), (9510, 1), (9511, 1), (9512, 1), (9513, 1), (9514, 1), (9515, 1), (9516, 1), (9517, 1), (9518, 1), (9519, 1), (9520, 1), (9521, 1), (9522, 1), (9523, 1), (9524, 1), (9525, 1), (9526, 1), (9527, 1), (9528, 1), (9529, 1), (9530, 1), (9531, 1), (9532, 1), (9533, 1), (9534, 1), (9535, 1), (9536, 1), (9537, 1), (9538, 1), (9539, 1), (9540, 1), (9541, 1), (9542, 1), (9543, 1), (9544, 1), (9545, 1), (9546, 1), (9547, 1), (9548, 1), (9549, 1), (9550, 1), (9551, 1), (9552, 1), (9553, 1), (9554, 1), (9555, 1), (9556, 1), (9557, 1), (9558, 1), (9559, 1), (9560, 1), (9561, 1), (9562, 1), (9563, 1), (9564, 1), (9565, 1), (9566, 1), (9567, 1), (9568, 1), (9569, 1), (9570, 1), (9571, 1), (9572, 1), (9573, 1), (9574, 1), (9575, 1), (9576, 1), (9577, 1), (9578, 1), (9579, 1), (9580, 1), (9581, 1), (9582, 1), (9583, 1), (9584, 1), (9585, 1), (9586, 1), (9587, 1), (9588, 1), (9589, 1), (9590, 1), (9591, 1), (9592, 1), (9593, 1), (9594, 1), (9595, 1), (9596, 1), (9597, 1), (9598, 1), (9599, 1), (9600, 1), (9601, 1), (9602, 1), (9603, 1), (9604, 1)]\n"
     ]
    }
   ],
   "source": [
    "corpus = [dictionary.doc2bow(doc) for doc in processed_texts]\n",
    "print(corpus[21])"
   ]
  },
  {
   "cell_type": "markdown",
   "metadata": {
    "colab_type": "text",
    "id": "66HxXgfpUriB"
   },
   "source": [
    "Entrenamos al modelo LDA, y en una primera aproximación cogemos 10 topics."
   ]
  },
  {
   "cell_type": "code",
   "execution_count": 18,
   "metadata": {
    "colab": {},
    "colab_type": "code",
    "id": "mB-oPjQwUriB"
   },
   "outputs": [],
   "source": [
    "num_topics = 10\n",
    "\n",
    "lda_model = LdaModel(\n",
    "    corpus=corpus,\n",
    "    id2word=dictionary,\n",
    "    num_topics=num_topics,\n",
    "    iterations=5,\n",
    "    passes=10,\n",
    "    alpha='auto'\n",
    ")"
   ]
  },
  {
   "cell_type": "markdown",
   "metadata": {},
   "source": [
    "Ahora vemos los topics que nos propone:"
   ]
  },
  {
   "cell_type": "code",
   "execution_count": 19,
   "metadata": {
    "colab": {},
    "colab_type": "code",
    "id": "BA51Y5RhUriE",
    "outputId": "d636ff3f-aea6-42b6-ce08-c09ff2b17af9"
   },
   "outputs": [
    {
     "data": {
      "text/plain": [
       "[(0,\n",
       "  '0.000*\"favor marcar\" + 0.000*\"facilitar fecho nacimiento\" + 0.000*\"conocerte poder ofrecerte\" + 0.000*\"vario temer\" + 0.000*\"marcar vario temer\" + 0.000*\"favor marcar vario\" + 0.000*\"querer conocerte poder\" + 0.000*\"fecho nacimiento\" + 0.000*\"facilitar fecho\" + 0.000*\"breve preguntar\"'),\n",
       " (1,\n",
       "  '0.000*\"siete daas\" + 0.000*\"aoltimos siete daas\" + 0.000*\"aoltimos siete\" + 0.000*\"poder facilitar\" + 0.000*\"poder facilitar fecho\" + 0.000*\"adelantar favor\" + 0.000*\"marcar vario\" + 0.000*\"poder ofrecerte\" + 0.000*\"conocerte poder\" + 0.000*\"respondernos breve\"'),\n",
       " (2,\n",
       "  '0.000*\"comunidad madrid\" + 0.000*\"poder facilitar\" + 0.000*\"favor marcar\" + 0.000*\"respondernos breve preguntar\" + 0.000*\"fecho nacimiento\" + 0.000*\"adelantar favor\" + 0.000*\"querer conocerte\" + 0.000*\"favor marcar vario\" + 0.000*\"facilitar fecho\" + 0.000*\"querer conocerte poder\"'),\n",
       " (3,\n",
       "  '0.000*\"martan villa\" + 0.000*\"guardia civil\" + 0.000*\"comunidad madrid\" + 0.000*\"querer conocerte poder\" + 0.000*\"facilitar fecho\" + 0.000*\"respondernos breve preguntar\" + 0.000*\"ofrecerte contenido\" + 0.000*\"poder ofrecerte contenido\" + 0.000*\"poder facilitar\" + 0.000*\"marcar vario temer\"'),\n",
       " (4,\n",
       "  '0.000*\"millón euro\" + 0.000*\"cero millón\" + 0.000*\"favor marcar vario\" + 0.000*\"fecho nacimiento\" + 0.000*\"respondernos breve preguntar\" + 0.000*\"poder ofrecerte\" + 0.000*\"favor marcar\" + 0.000*\"vario temer\" + 0.000*\"querer conocerte\" + 0.000*\"poder facilitar fecho\"'),\n",
       " (5,\n",
       "  '0.000*\"comunidad madrid\" + 0.000*\"conocerte poder ofrecerte\" + 0.000*\"ofrecerte contenido\" + 0.000*\"respondernos breve\" + 0.000*\"marcar vario\" + 0.000*\"facilitar fecho\" + 0.000*\"respondernos breve preguntar\" + 0.000*\"conocerte poder\" + 0.000*\"poder facilitar\" + 0.000*\"vario temer\"'),\n",
       " (6,\n",
       "  '0.000*\"materia oscuro\" + 0.000*\"millón euro\" + 0.000*\"favor marcar vario\" + 0.000*\"poder ofrecerte\" + 0.000*\"poder facilitar\" + 0.000*\"fecho nacimiento\" + 0.000*\"facilitar fecho\" + 0.000*\"poder facilitar fecho\" + 0.000*\"respondernos breve\" + 0.000*\"querer conocerte\"'),\n",
       " (7,\n",
       "  '0.000*\"redar social\" + 0.000*\"publicacia3n compartir\" + 0.000*\"agujero negro\" + 0.000*\"llevar cabo\" + 0.000*\"policaa nacional\" + 0.000*\"cero euro\" + 0.000*\"comunidad madrid\" + 0.000*\"castilla lea3n\" + 0.000*\"veinticuatro hora\" + 0.000*\"centro educativo\"'),\n",
       " (8,\n",
       "  '0.000*\"millón euro\" + 0.000*\"cero millón\" + 0.000*\"vario temer\" + 0.000*\"llevar cabo\" + 0.000*\"florentino parez\" + 0.000*\"poder ofrecerte\" + 0.000*\"facilitar fecho\" + 0.000*\"querer conocerte\" + 0.000*\"facilitar fecho nacimiento\" + 0.000*\"breve preguntar\"'),\n",
       " (9,\n",
       "  '0.000*\"ofrecerte contenido\" + 0.000*\"respondernos breve preguntar\" + 0.000*\"breve preguntar\" + 0.000*\"facilitar fecho nacimiento\" + 0.000*\"poder ofrecerte contenido\" + 0.000*\"querer conocerte\" + 0.000*\"marcar vario temer\" + 0.000*\"conocerte poder\" + 0.000*\"fecho nacimiento\" + 0.000*\"querer conocerte poder\"')]"
      ]
     },
     "execution_count": 19,
     "metadata": {},
     "output_type": "execute_result"
    }
   ],
   "source": [
    "lda_model.show_topics()"
   ]
  },
  {
   "cell_type": "code",
   "execution_count": 20,
   "metadata": {
    "colab": {},
    "colab_type": "code",
    "id": "pvPcRcgfUriG",
    "outputId": "ea701d99-3754-4f0d-e191-23bfc438ba8e"
   },
   "outputs": [
    {
     "data": {
      "text/html": [
       "<div>\n",
       "<style scoped>\n",
       "    .dataframe tbody tr th:only-of-type {\n",
       "        vertical-align: middle;\n",
       "    }\n",
       "\n",
       "    .dataframe tbody tr th {\n",
       "        vertical-align: top;\n",
       "    }\n",
       "\n",
       "    .dataframe thead th {\n",
       "        text-align: right;\n",
       "    }\n",
       "</style>\n",
       "<table border=\"1\" class=\"dataframe\">\n",
       "  <thead>\n",
       "    <tr style=\"text-align: right;\">\n",
       "      <th></th>\n",
       "      <th>Topic #01</th>\n",
       "      <th>Topic #02</th>\n",
       "      <th>Topic #03</th>\n",
       "      <th>Topic #04</th>\n",
       "      <th>Topic #05</th>\n",
       "      <th>Topic #06</th>\n",
       "      <th>Topic #07</th>\n",
       "      <th>Topic #08</th>\n",
       "      <th>Topic #09</th>\n",
       "      <th>Topic #10</th>\n",
       "    </tr>\n",
       "  </thead>\n",
       "  <tbody>\n",
       "    <tr>\n",
       "      <td>0</td>\n",
       "      <td>favor marcar</td>\n",
       "      <td>siete daas</td>\n",
       "      <td>comunidad madrid</td>\n",
       "      <td>martan villa</td>\n",
       "      <td>millón euro</td>\n",
       "      <td>comunidad madrid</td>\n",
       "      <td>materia oscuro</td>\n",
       "      <td>redar social</td>\n",
       "      <td>millón euro</td>\n",
       "      <td>ofrecerte contenido</td>\n",
       "    </tr>\n",
       "    <tr>\n",
       "      <td>1</td>\n",
       "      <td>facilitar fecho nacimiento</td>\n",
       "      <td>aoltimos siete daas</td>\n",
       "      <td>poder facilitar</td>\n",
       "      <td>guardia civil</td>\n",
       "      <td>cero millón</td>\n",
       "      <td>conocerte poder ofrecerte</td>\n",
       "      <td>millón euro</td>\n",
       "      <td>publicacia3n compartir</td>\n",
       "      <td>cero millón</td>\n",
       "      <td>respondernos breve preguntar</td>\n",
       "    </tr>\n",
       "    <tr>\n",
       "      <td>2</td>\n",
       "      <td>conocerte poder ofrecerte</td>\n",
       "      <td>aoltimos siete</td>\n",
       "      <td>favor marcar</td>\n",
       "      <td>comunidad madrid</td>\n",
       "      <td>favor marcar vario</td>\n",
       "      <td>ofrecerte contenido</td>\n",
       "      <td>favor marcar vario</td>\n",
       "      <td>agujero negro</td>\n",
       "      <td>vario temer</td>\n",
       "      <td>breve preguntar</td>\n",
       "    </tr>\n",
       "    <tr>\n",
       "      <td>3</td>\n",
       "      <td>vario temer</td>\n",
       "      <td>poder facilitar</td>\n",
       "      <td>respondernos breve preguntar</td>\n",
       "      <td>querer conocerte poder</td>\n",
       "      <td>fecho nacimiento</td>\n",
       "      <td>respondernos breve</td>\n",
       "      <td>poder ofrecerte</td>\n",
       "      <td>llevar cabo</td>\n",
       "      <td>llevar cabo</td>\n",
       "      <td>facilitar fecho nacimiento</td>\n",
       "    </tr>\n",
       "    <tr>\n",
       "      <td>4</td>\n",
       "      <td>marcar vario temer</td>\n",
       "      <td>poder facilitar fecho</td>\n",
       "      <td>fecho nacimiento</td>\n",
       "      <td>facilitar fecho</td>\n",
       "      <td>respondernos breve preguntar</td>\n",
       "      <td>marcar vario</td>\n",
       "      <td>poder facilitar</td>\n",
       "      <td>policaa nacional</td>\n",
       "      <td>florentino parez</td>\n",
       "      <td>poder ofrecerte contenido</td>\n",
       "    </tr>\n",
       "    <tr>\n",
       "      <td>5</td>\n",
       "      <td>favor marcar vario</td>\n",
       "      <td>adelantar favor</td>\n",
       "      <td>adelantar favor</td>\n",
       "      <td>respondernos breve preguntar</td>\n",
       "      <td>poder ofrecerte</td>\n",
       "      <td>facilitar fecho</td>\n",
       "      <td>fecho nacimiento</td>\n",
       "      <td>cero euro</td>\n",
       "      <td>poder ofrecerte</td>\n",
       "      <td>querer conocerte</td>\n",
       "    </tr>\n",
       "    <tr>\n",
       "      <td>6</td>\n",
       "      <td>querer conocerte poder</td>\n",
       "      <td>marcar vario</td>\n",
       "      <td>querer conocerte</td>\n",
       "      <td>ofrecerte contenido</td>\n",
       "      <td>favor marcar</td>\n",
       "      <td>respondernos breve preguntar</td>\n",
       "      <td>facilitar fecho</td>\n",
       "      <td>comunidad madrid</td>\n",
       "      <td>facilitar fecho</td>\n",
       "      <td>marcar vario temer</td>\n",
       "    </tr>\n",
       "    <tr>\n",
       "      <td>7</td>\n",
       "      <td>fecho nacimiento</td>\n",
       "      <td>poder ofrecerte</td>\n",
       "      <td>favor marcar vario</td>\n",
       "      <td>poder ofrecerte contenido</td>\n",
       "      <td>vario temer</td>\n",
       "      <td>conocerte poder</td>\n",
       "      <td>poder facilitar fecho</td>\n",
       "      <td>castilla lea3n</td>\n",
       "      <td>querer conocerte</td>\n",
       "      <td>conocerte poder</td>\n",
       "    </tr>\n",
       "    <tr>\n",
       "      <td>8</td>\n",
       "      <td>facilitar fecho</td>\n",
       "      <td>conocerte poder</td>\n",
       "      <td>facilitar fecho</td>\n",
       "      <td>poder facilitar</td>\n",
       "      <td>querer conocerte</td>\n",
       "      <td>poder facilitar</td>\n",
       "      <td>respondernos breve</td>\n",
       "      <td>veinticuatro hora</td>\n",
       "      <td>facilitar fecho nacimiento</td>\n",
       "      <td>fecho nacimiento</td>\n",
       "    </tr>\n",
       "    <tr>\n",
       "      <td>9</td>\n",
       "      <td>breve preguntar</td>\n",
       "      <td>respondernos breve</td>\n",
       "      <td>querer conocerte poder</td>\n",
       "      <td>marcar vario temer</td>\n",
       "      <td>poder facilitar fecho</td>\n",
       "      <td>vario temer</td>\n",
       "      <td>querer conocerte</td>\n",
       "      <td>centro educativo</td>\n",
       "      <td>breve preguntar</td>\n",
       "      <td>querer conocerte poder</td>\n",
       "    </tr>\n",
       "    <tr>\n",
       "      <td>10</td>\n",
       "      <td>adelantar favor</td>\n",
       "      <td>poder ofrecerte contenido</td>\n",
       "      <td>poder ofrecerte contenido</td>\n",
       "      <td>respondernos breve</td>\n",
       "      <td>poder facilitar</td>\n",
       "      <td>breve preguntar</td>\n",
       "      <td>vario temer</td>\n",
       "      <td>poder facilitar</td>\n",
       "      <td>conocerte poder</td>\n",
       "      <td>marcar vario</td>\n",
       "    </tr>\n",
       "    <tr>\n",
       "      <td>11</td>\n",
       "      <td>poder facilitar fecho</td>\n",
       "      <td>vario temer</td>\n",
       "      <td>vario temer</td>\n",
       "      <td>breve preguntar</td>\n",
       "      <td>cero euro</td>\n",
       "      <td>adelantar favor</td>\n",
       "      <td>conocerte poder</td>\n",
       "      <td>segaon informar</td>\n",
       "      <td>poder facilitar fecho</td>\n",
       "      <td>conocerte poder ofrecerte</td>\n",
       "    </tr>\n",
       "    <tr>\n",
       "      <td>12</td>\n",
       "      <td>querer conocerte</td>\n",
       "      <td>facilitar fecho</td>\n",
       "      <td>marcar vario temer</td>\n",
       "      <td>adelantar favor</td>\n",
       "      <td>breve preguntar</td>\n",
       "      <td>poder facilitar fecho</td>\n",
       "      <td>facilitar fecho nacimiento</td>\n",
       "      <td>ofrecerte contenido</td>\n",
       "      <td>poder ofrecerte contenido</td>\n",
       "      <td>poder ofrecerte</td>\n",
       "    </tr>\n",
       "    <tr>\n",
       "      <td>13</td>\n",
       "      <td>conocerte poder</td>\n",
       "      <td>conocerte poder ofrecerte</td>\n",
       "      <td>conocerte poder</td>\n",
       "      <td>marcar vario</td>\n",
       "      <td>marcar vario</td>\n",
       "      <td>poder ofrecerte contenido</td>\n",
       "      <td>adelantar favor</td>\n",
       "      <td>cien cero</td>\n",
       "      <td>respondernos breve</td>\n",
       "      <td>respondernos breve</td>\n",
       "    </tr>\n",
       "    <tr>\n",
       "      <td>14</td>\n",
       "      <td>respondernos breve</td>\n",
       "      <td>ofrecerte contenido</td>\n",
       "      <td>conocerte poder ofrecerte</td>\n",
       "      <td>facilitar fecho nacimiento</td>\n",
       "      <td>conocerte poder ofrecerte</td>\n",
       "      <td>marcar vario temer</td>\n",
       "      <td>poder ofrecerte contenido</td>\n",
       "      <td>comunidad auta3nomas</td>\n",
       "      <td>favor marcar</td>\n",
       "      <td>vario temer</td>\n",
       "    </tr>\n",
       "    <tr>\n",
       "      <td>15</td>\n",
       "      <td>ofrecerte contenido</td>\n",
       "      <td>querer conocerte poder</td>\n",
       "      <td>poder ofrecerte</td>\n",
       "      <td>querer conocerte</td>\n",
       "      <td>ofrecerte contenido</td>\n",
       "      <td>querer conocerte poder</td>\n",
       "      <td>marcar vario</td>\n",
       "      <td>querer conocerte poder</td>\n",
       "      <td>marcar vario</td>\n",
       "      <td>adelantar favor</td>\n",
       "    </tr>\n",
       "    <tr>\n",
       "      <td>16</td>\n",
       "      <td>poder ofrecerte contenido</td>\n",
       "      <td>respondernos breve preguntar</td>\n",
       "      <td>breve preguntar</td>\n",
       "      <td>poder facilitar fecho</td>\n",
       "      <td>conocerte poder</td>\n",
       "      <td>favor marcar vario</td>\n",
       "      <td>marcar vario temer</td>\n",
       "      <td>poder ofrecerte</td>\n",
       "      <td>adelantar favor</td>\n",
       "      <td>favor marcar</td>\n",
       "    </tr>\n",
       "    <tr>\n",
       "      <td>17</td>\n",
       "      <td>poder ofrecerte</td>\n",
       "      <td>favor marcar</td>\n",
       "      <td>marcar vario</td>\n",
       "      <td>vario temer</td>\n",
       "      <td>marcar vario temer</td>\n",
       "      <td>fecho nacimiento</td>\n",
       "      <td>breve preguntar</td>\n",
       "      <td>respondernos breve</td>\n",
       "      <td>favor marcar vario</td>\n",
       "      <td>favor marcar vario</td>\n",
       "    </tr>\n",
       "    <tr>\n",
       "      <td>18</td>\n",
       "      <td>marcar vario</td>\n",
       "      <td>facilitar fecho nacimiento</td>\n",
       "      <td>poder facilitar fecho</td>\n",
       "      <td>conocerte poder ofrecerte</td>\n",
       "      <td>facilitar fecho</td>\n",
       "      <td>favor marcar</td>\n",
       "      <td>conocerte poder ofrecerte</td>\n",
       "      <td>poder ofrecerte contenido</td>\n",
       "      <td>respondernos breve preguntar</td>\n",
       "      <td>poder facilitar fecho</td>\n",
       "    </tr>\n",
       "    <tr>\n",
       "      <td>19</td>\n",
       "      <td>poder facilitar</td>\n",
       "      <td>marcar vario temer</td>\n",
       "      <td>respondernos breve</td>\n",
       "      <td>conocerte poder</td>\n",
       "      <td>facilitar fecho nacimiento</td>\n",
       "      <td>querer conocerte</td>\n",
       "      <td>querer conocerte poder</td>\n",
       "      <td>poder facilitar fecho</td>\n",
       "      <td>ofrecerte contenido</td>\n",
       "      <td>poder facilitar</td>\n",
       "    </tr>\n",
       "  </tbody>\n",
       "</table>\n",
       "</div>"
      ],
      "text/plain": [
       "                     Topic #01                     Topic #02  \\\n",
       "0                 favor marcar                    siete daas   \n",
       "1   facilitar fecho nacimiento           aoltimos siete daas   \n",
       "2    conocerte poder ofrecerte                aoltimos siete   \n",
       "3                  vario temer               poder facilitar   \n",
       "4           marcar vario temer         poder facilitar fecho   \n",
       "5           favor marcar vario               adelantar favor   \n",
       "6       querer conocerte poder                  marcar vario   \n",
       "7             fecho nacimiento               poder ofrecerte   \n",
       "8              facilitar fecho               conocerte poder   \n",
       "9              breve preguntar            respondernos breve   \n",
       "10             adelantar favor     poder ofrecerte contenido   \n",
       "11       poder facilitar fecho                   vario temer   \n",
       "12            querer conocerte               facilitar fecho   \n",
       "13             conocerte poder     conocerte poder ofrecerte   \n",
       "14          respondernos breve           ofrecerte contenido   \n",
       "15         ofrecerte contenido        querer conocerte poder   \n",
       "16   poder ofrecerte contenido  respondernos breve preguntar   \n",
       "17             poder ofrecerte                  favor marcar   \n",
       "18                marcar vario    facilitar fecho nacimiento   \n",
       "19             poder facilitar            marcar vario temer   \n",
       "\n",
       "                       Topic #03                     Topic #04  \\\n",
       "0               comunidad madrid                  martan villa   \n",
       "1                poder facilitar                 guardia civil   \n",
       "2                   favor marcar              comunidad madrid   \n",
       "3   respondernos breve preguntar        querer conocerte poder   \n",
       "4               fecho nacimiento               facilitar fecho   \n",
       "5                adelantar favor  respondernos breve preguntar   \n",
       "6               querer conocerte           ofrecerte contenido   \n",
       "7             favor marcar vario     poder ofrecerte contenido   \n",
       "8                facilitar fecho               poder facilitar   \n",
       "9         querer conocerte poder            marcar vario temer   \n",
       "10     poder ofrecerte contenido            respondernos breve   \n",
       "11                   vario temer               breve preguntar   \n",
       "12            marcar vario temer               adelantar favor   \n",
       "13               conocerte poder                  marcar vario   \n",
       "14     conocerte poder ofrecerte    facilitar fecho nacimiento   \n",
       "15               poder ofrecerte              querer conocerte   \n",
       "16               breve preguntar         poder facilitar fecho   \n",
       "17                  marcar vario                   vario temer   \n",
       "18         poder facilitar fecho     conocerte poder ofrecerte   \n",
       "19            respondernos breve               conocerte poder   \n",
       "\n",
       "                       Topic #05                     Topic #06  \\\n",
       "0                    millón euro              comunidad madrid   \n",
       "1                    cero millón     conocerte poder ofrecerte   \n",
       "2             favor marcar vario           ofrecerte contenido   \n",
       "3               fecho nacimiento            respondernos breve   \n",
       "4   respondernos breve preguntar                  marcar vario   \n",
       "5                poder ofrecerte               facilitar fecho   \n",
       "6                   favor marcar  respondernos breve preguntar   \n",
       "7                    vario temer               conocerte poder   \n",
       "8               querer conocerte               poder facilitar   \n",
       "9          poder facilitar fecho                   vario temer   \n",
       "10               poder facilitar               breve preguntar   \n",
       "11                     cero euro               adelantar favor   \n",
       "12               breve preguntar         poder facilitar fecho   \n",
       "13                  marcar vario     poder ofrecerte contenido   \n",
       "14     conocerte poder ofrecerte            marcar vario temer   \n",
       "15           ofrecerte contenido        querer conocerte poder   \n",
       "16               conocerte poder            favor marcar vario   \n",
       "17            marcar vario temer              fecho nacimiento   \n",
       "18               facilitar fecho                  favor marcar   \n",
       "19    facilitar fecho nacimiento              querer conocerte   \n",
       "\n",
       "                     Topic #07                  Topic #08  \\\n",
       "0               materia oscuro               redar social   \n",
       "1                  millón euro     publicacia3n compartir   \n",
       "2           favor marcar vario              agujero negro   \n",
       "3              poder ofrecerte                llevar cabo   \n",
       "4              poder facilitar           policaa nacional   \n",
       "5             fecho nacimiento                  cero euro   \n",
       "6              facilitar fecho           comunidad madrid   \n",
       "7        poder facilitar fecho             castilla lea3n   \n",
       "8           respondernos breve          veinticuatro hora   \n",
       "9             querer conocerte           centro educativo   \n",
       "10                 vario temer            poder facilitar   \n",
       "11             conocerte poder            segaon informar   \n",
       "12  facilitar fecho nacimiento        ofrecerte contenido   \n",
       "13             adelantar favor                  cien cero   \n",
       "14   poder ofrecerte contenido       comunidad auta3nomas   \n",
       "15                marcar vario     querer conocerte poder   \n",
       "16          marcar vario temer            poder ofrecerte   \n",
       "17             breve preguntar         respondernos breve   \n",
       "18   conocerte poder ofrecerte  poder ofrecerte contenido   \n",
       "19      querer conocerte poder      poder facilitar fecho   \n",
       "\n",
       "                       Topic #09                     Topic #10  \n",
       "0                    millón euro           ofrecerte contenido  \n",
       "1                    cero millón  respondernos breve preguntar  \n",
       "2                    vario temer               breve preguntar  \n",
       "3                    llevar cabo    facilitar fecho nacimiento  \n",
       "4               florentino parez     poder ofrecerte contenido  \n",
       "5                poder ofrecerte              querer conocerte  \n",
       "6                facilitar fecho            marcar vario temer  \n",
       "7               querer conocerte               conocerte poder  \n",
       "8     facilitar fecho nacimiento              fecho nacimiento  \n",
       "9                breve preguntar        querer conocerte poder  \n",
       "10               conocerte poder                  marcar vario  \n",
       "11         poder facilitar fecho     conocerte poder ofrecerte  \n",
       "12     poder ofrecerte contenido               poder ofrecerte  \n",
       "13            respondernos breve            respondernos breve  \n",
       "14                  favor marcar                   vario temer  \n",
       "15                  marcar vario               adelantar favor  \n",
       "16               adelantar favor                  favor marcar  \n",
       "17            favor marcar vario            favor marcar vario  \n",
       "18  respondernos breve preguntar         poder facilitar fecho  \n",
       "19           ofrecerte contenido               poder facilitar  "
      ]
     },
     "execution_count": 20,
     "metadata": {},
     "output_type": "execute_result"
    }
   ],
   "source": [
    "word_dict = {};\n",
    "for i in range(num_topics):\n",
    "    words = lda_model.show_topic(i, topn = 20)\n",
    "    word_dict['Topic #' + '{:02d}'.format(i+1)] = [i[0] for i in words]\n",
    "pd.DataFrame(word_dict)"
   ]
  },
  {
   "cell_type": "code",
   "execution_count": null,
   "metadata": {
    "colab": {},
    "colab_type": "code",
    "id": "IAzkVxHGUriK",
    "outputId": "e1675302-4cfa-421a-f465-5c9fd0d32919"
   },
   "outputs": [
    {
     "name": "stdout",
     "output_type": "stream",
     "text": [
      "\n",
      "Perplexity:  -7.669118913200004\n",
      "\n",
      "Coherence Score:  0.32918668570312865\n"
     ]
    }
   ],
   "source": [
    "# Perplexity\n",
    "print('\\nPerplexity: ', lda_model.log_perplexity(corpus))  # Medida de qué tan bueno es el modelo. Cuanto más bajo, mejor\n",
    "\n",
    "# Coherence Score\n",
    "coherence_model_lda = CoherenceModel(model=lda_model, texts=processed_texts, dictionary=dictionary, coherence='c_v')\n",
    "coherence_lda = coherence_model_lda.get_coherence()\n",
    "print('\\nCoherence Score: ', coherence_lda)"
   ]
  },
  {
   "cell_type": "markdown",
   "metadata": {},
   "source": [
    "Los resultados no son los esperados. Apenas salen temas de actualidad como cabe esperar. Observamos que se repiten mucho palabras como: poder ofrecerte contenido, querer conocerte poder, respodernos breve, facilitar fecho nacimiento...\n",
    "\n",
    "Esto se debe a que hay periódicos que incluyen unos párrafos finales donde nos piden responder un breve cuestionario para que nos puedan conocer mejor y ofrecernos contenidos que nos interesen.\n",
    "\n",
    "Ejemplo en todas las noticias de ABC:\n",
    "\" ï¿½Hola ! Queremos conocerte para poder ofrecerte los contenidos segï¿½n tus preferencias ï¿½Podrï¿½as respondernos unas breves preguntas? No te llevarï¿½ mï¿½s de un minuto.ï¿½Gracias por adelantado! Por favor ï¿½Nos puedes facilitar tu fecha de nacimiento y gï¿½nero? Por favor marca uno o varios temas que sean de tu interï¿½s.\""
   ]
  },
  {
   "cell_type": "code",
   "execution_count": 21,
   "metadata": {},
   "outputs": [
    {
     "name": "stdout",
     "output_type": "stream",
     "text": [
      "['mitad provincia', 'provincia espai12a', 'mitad provincia espai12a', 'espai12a esti12n', 'provincia espai12a esti12n', 'esti12n peligrar', 'espai12a esti12n peligrar', 'peligrar alto', 'esti12n peligrar alto', 'alto descontrol', 'peligrar alto descontrol', 'descontrol pandemia', 'alto descontrol pandemia', 'pandemia coronavirus', 'descontrol pandemia coronavirus', 'coronavirus mapa', 'pandemia coronavirus mapa', 'mapa riesgo', 'coronavirus mapa riesgo', 'riesgo realizar', 'mapa riesgo realizar', 'realizar partir', 'riesgo realizar partir', 'partir estudiar', 'realizar partir estudiar', 'estudiar investigador', 'partir estudiar investigador', 'investigador biocomsc', 'estudiar investigador biocomsc', 'biocomsc mostrar', 'investigador biocomsc mostrar', 'mostrar situacii12n', 'biocomsc mostrar situacii12n', 'situacii12n segi12n', 'mostrar situacii12n segi12n', 'segi12n ni12mero', 'situacii12n segi12n ni12mero', 'ni12mero contagio', 'segi12n ni12mero contagio', 'contagio velocidad', 'ni12mero contagio velocidad', 'velocidad reproduccii12n', 'contagio velocidad reproduccii12n', 'reproduccii12n grupo', 'velocidad reproduccii12n grupo', 'grupo incluir', 'reproduccii12n grupo incluir', 'incluir provincia', 'grupo incluir provincia', 'provincia repentino', 'incluir provincia repentino', 'repentino crecimiento', 'provincia repentino crecimiento', 'crecimiento disparar', 'repentino crecimiento disparar', 'disparar despui12s', 'crecimiento disparar despui12s', 'despui12s semana', 'disparar despui12s semana', 'semana mesar', 'despui12s semana mesar', 'mesar coronavirus', 'semana mesar coronavirus', 'coronavirus bajar', 'mesar coronavirus bajar', 'bajar control', 'coronavirus bajar control', 'control provincia', 'bajar control provincia', 'provincia ni12mero', 'control provincia ni12mero', 'ni12mero contagio', 'provincia ni12mero contagio', 'contagio crecimiento', 'ni12mero contagio crecimiento', 'crecimiento hacer', 'contagio crecimiento hacer', 'hacer semana', 'crecimiento hacer semana', 'semana provincia', 'hacer semana provincia', 'provincia pesar', 'semana provincia pesar', 'pesar fase', 'provincia pesar fase', 'fase estabilizacii12n', 'pesar fase estabilizacii12n', 'estabilizacii12n descenso', 'fase estabilizacii12n descenso', 'descenso todavi12a', 'estabilizacii12n descenso todavi12a', 'todavi12a contar', 'descenso todavi12a contar', 'contar volumen', 'todavi12a contar volumen', 'volumen considerable', 'contar volumen considerable', 'considerable enfermo', 'volumen considerable enfermo', 'enfermo covid19', 'considerable enfermo covid19', 'covid19 zaragoza', 'enfermo covid19 zaragoza', 'zaragoza barcelona', 'covid19 zaragoza barcelona', 'barcelona principal', 'zaragoza barcelona principal', 'principal foco', 'barcelona principal foco', 'foco mediar', 'principal foco mediar', 'mediar julio', 'foco mediar julio', 'julio ni12mero', 'mediar julio ni12mero', 'ni12mero caso', 'julio ni12mero caso', 'caso diario', 'ni12mero caso diario', 'diario estabilizar', 'caso diario estabilizar', 'estabilizar esti12n', 'diario estabilizar esti12n', 'esti12n remitir', 'estabilizar esti12n remitir', 'remitir embargar', 'esti12n remitir embargar', 'embargar despui12s', 'remitir embargar despui12s', 'despui12s semana', 'embargar despui12s semana', 'semana nivelar', 'despui12s semana nivelar', 'nivelar alto', 'semana nivelar alto', 'alto contagio', 'nivelar alto contagio', 'contagio todavi12a', 'alto contagio todavi12a', 'todavi12a encontrar', 'contagio todavi12a encontrar', 'encontrar zona', 'todavi12a encontrar zona', 'zona alto', 'encontrar zona alto', 'alto riesgo', 'zona alto riesgo', 'riesgo huesca', 'alto riesgo huesca', 'huesca teruel', 'riesgo huesca teruel', 'teruel tambii12n', 'huesca teruel tambii12n', 'tambii12n vivir', 'teruel tambii12n vivir', 'vivir recentar', 'tambii12n vivir recentar', 'recentar descenso', 'vivir recentar descenso', 'descenso acusar', 'recentar descenso acusar', 'acusar aunque', 'descenso acusar aunque', 'aunque ai12n', 'acusar aunque ai12n', 'ai12n seguir', 'aunque ai12n seguir', 'seguir zona', 'ai12n seguir zona', 'zona rojo', 'seguir zona rojo', 'rojo igual', 'zona rojo igual', 'igual tarragona', 'rojo igual tarragona', 'tarragona li12rida', 'igual tarragona li12rida', 'li12rida cai12da', 'tarragona li12rida cai12da', 'cai12da mi12s', 'li12rida cai12da mi12s', 'mi12s plano', 'cai12da mi12s plano', 'plano similar', 'mi12s plano similar', 'similar barcelona', 'plano similar barcelona', 'barcelona madrid', 'similar barcelona madrid', 'madrid vizcaya', 'barcelona madrid vizcaya', 'vizcaya contrario', 'madrid vizcaya contrario', 'contrario tambii12n', 'vizcaya contrario tambii12n', 'tambii12n zona', 'contrario tambii12n zona', 'zona rojo', 'tambii12n zona rojo', 'rojo esti12n', 'zona rojo esti12n', 'esti12n todavi12a', 'rojo esti12n todavi12a', 'todavi12a fase', 'esti12n todavi12a fase', 'fase expansivo', 'todavi12a fase expansivo', 'expansivo ni12mero', 'fase expansivo ni12mero', 'ni12mero contagio', 'expansivo ni12mero contagio', 'contagio diario', 'ni12mero contagio diario', 'diario aumentar', 'contagio diario aumentar', 'aumentar ri12pido', 'diario aumentar ri12pido', 'ri12pido curvo', 'aumentar ri12pido curvo', 'curvo seguir', 'ri12pido curvo seguir', 'seguir pendiente', 'curvo seguir pendiente', 'pendiente ascendente', 'seguir pendiente ascendente', 'ascendente adentri12ndose', 'pendiente ascendente adentri12ndose', 'adentri12ndose cada', 'ascendente adentri12ndose cada', 'cada mi12s', 'adentri12ndose cada mi12s', 'mi12s zona', 'cada mi12s zona', 'zona alto', 'mi12s zona alto', 'alto riesgo', 'zona alto riesgo', 'riesgo descontrol', 'alto riesgo descontrol', 'descontrol transmisii12n', 'riesgo descontrol transmisii12n', 'transmisii12n provincia', 'descontrol transmisii12n provincia', 'provincia esti12n', 'transmisii12n provincia esti12n', 'esti12n zona', 'provincia esti12n zona', 'zona alto', 'esti12n zona alto', 'alto riesgo', 'zona alto riesgo', 'riesgo deber', 'alto riesgo deber', 'deber ri12pido', 'riesgo deber ri12pido', 'ri12pido crecimiento', 'deber ri12pido crecimiento', 'crecimiento cortar', 'ri12pido crecimiento cortar', 'cortar espaciar', 'crecimiento cortar espaciar', 'espaciar tiempo', 'cortar espaciar tiempo', 'tiempo pesar', 'espaciar tiempo pesar', 'pesar ni12mero', 'tiempo pesar ni12mero', 'ni12mero total', 'pesar ni12mero total', 'total contagio', 'ni12mero total contagio', 'contagio todavi12a', 'total contagio todavi12a', 'todavi12a bajar', 'contagio todavi12a bajar', 'bajar casar', 'todavi12a bajar casar', 'casar palmar', 'bajar casar palmar', 'palmar salamanca', 'casar palmar salamanca', 'salamanca recientemente', 'palmar salamanca recientemente', 'recientemente incorporar', 'salamanca recientemente incorporar', 'incorporar zona', 'recientemente incorporar zona', 'zona rojo', 'incorporar zona rojo', 'rojo ai12n', 'zona rojo ai12n', 'ai12n pri12ximas', 'rojo ai12n pri12ximas', 'pri12ximas zona', 'ai12n pri12ximas zona', 'zona mi12s', 'pri12ximas zona mi12s', 'mi12s tranquilo', 'zona mi12s tranquilo', 'tranquilo zona', 'mi12s tranquilo zona', 'zona riesgo', 'tranquilo zona riesgo', 'riesgo mediar', 'zona riesgo mediar', 'mediar zona', 'riesgo mediar zona', 'zona transicii12n', 'mediar zona transicii12n', 'transicii12n riesgo', 'zona transicii12n riesgo', 'riesgo bajar', 'transicii12n riesgo bajar', 'bajar riesgo', 'riesgo bajar riesgo', 'riesgo alto', 'bajar riesgo alto', 'alto actualmente', 'riesgo alto actualmente', 'actualmente veintena', 'alto actualmente veintena', 'veintena provincia', 'actualmente veintena provincia', 'provincia esti12n', 'veintena provincia esti12n', 'esti12n estadio', 'provincia esti12n estadio', 'estadio pri12cticamente', 'esti12n estadio pri12cticamente', 'pri12cticamente mitad', 'estadio pri12cticamente mitad', 'mitad peninsular', 'pri12cticamente mitad peninsular', 'peninsular completar', 'mitad peninsular completar', 'completar ademi12s', 'peninsular completar ademi12s', 'ademi12s corui12a', 'completar ademi12s corui12a', 'corui12a gerona', 'ademi12s corui12a gerona', 'gerona embargar', 'corui12a gerona embargar', 'embargar mayori12a', 'gerona embargar mayori12a', 'mayori12a esti12', 'embargar mayori12a esti12', 'esti12 franja', 'mayori12a esti12 franja', 'franja pri12xima', 'esti12 franja pri12xima', 'pri12xima zona', 'franja pri12xima zona', 'zona mayor', 'pri12xima zona mayor', 'mayor peligrar', 'zona mayor peligrar', 'peligrar asi12', 'mayor peligrar asi12', 'asi12 ocurrir', 'peligrar asi12 ocurrir', 'ocurrir ejemplo', 'asi12 ocurrir ejemplo', 'ejemplo mi12laga', 'ocurrir ejemplo mi12laga', 'mi12laga murcia', 'ejemplo mi12laga murcia', 'murcia ambos', 'mi12laga murcia ambos', 'ambos sufrir', 'murcia ambos sufrir', 'sufrir repuntar', 'ambos sufrir repuntar', 'repuntar caso', 'sufrir repuntar caso', 'caso i12ltimas', 'repuntar caso i12ltimas', 'i12ltimas semana', 'caso i12ltimas semana', 'semana aunque', 'i12ltimas semana aunque', 'aunque dispararse', 'semana aunque dispararse', 'dispararse lugar', 'aunque dispararse lugar', 'lugar menos', 'dispararse lugar menos', 'menos momento', 'lugar menos momento', 'momento hacer', 'menos momento hacer', 'hacer solo', 'momento hacer solo', 'solo tres', 'hacer solo tres', 'tres semana', 'solo tres semana', 'semana grupo', 'tres semana grupo', 'grupo pandemia', 'semana grupo pandemia', 'pandemia bajar', 'grupo pandemia bajar', 'bajar control', 'pandemia bajar control', 'control mayoritario', 'bajar control mayoritario', 'mayoritario veintena', 'control mayoritario veintena', 'veintena provincia', 'mayoritario veintena provincia', 'provincia ahora', 'veintena provincia ahora', 'ahora minori12a', 'provincia ahora minori12a', 'minori12a apenar', 'ahora minori12a apenar', 'apenar cincar', 'minori12a apenar cincar', 'cincar asturias', 'apenar cincar asturias', 'asturias pontevedra', 'cincar asturias pontevedra', 'pontevedra lei12n', 'asturias pontevedra lei12n', 'lei12n huelva', 'pontevedra lei12n huelva', 'huelva santo', 'lei12n huelva santo', 'santo cruz', 'huelva santo cruz', 'cruz tenerife', 'santo cruz tenerife', 'tenerife alli12', 'cruz tenerife alli12', 'alli12 ni12mero', 'tenerife alli12 ni12mero', 'ni12mero contagio', 'alli12 ni12mero contagio', 'contagio velocidad', 'ni12mero contagio velocidad', 'velocidad reproduccii12n', 'contagio velocidad reproduccii12n', 'reproduccii12n seguir', 'velocidad reproduccii12n seguir', 'seguir bajo', 'reproduccii12n seguir bajo', 'bajo mapa', 'seguir bajo mapa', 'mapa riesgo', 'bajo mapa riesgo', 'riesgo esti12', 'mapa riesgo esti12', 'esti12 elaborar', 'riesgo esti12 elaborar', 'elaborar partir', 'esti12 elaborar partir', 'partir estudiar', 'elaborar partir estudiar', 'estudiar investigador', 'partir estudiar investigador', 'investigador biologi12a', 'estudiar investigador biologi12a', 'biologi12a computacional', 'investigador biologi12a computacional', 'computacional sistema', 'biologi12a computacional sistema', 'sistema complejo', 'computacional sistema complejo', 'complejo universidad', 'sistema complejo universidad', 'universidad politi12cnica', 'complejo universidad politi12cnica', 'politi12cnica catalui12a', 'universidad politi12cnica catalui12a', 'catalui12a biocomsc', 'politi12cnica catalui12a biocomsc', 'biocomsc grupo', 'catalui12a biocomsc grupo', 'grupo crear', 'biocomsc grupo crear', 'crear propio', 'grupo crear propio', 'propio sistema', 'crear propio sistema', 'sistema evaluar', 'propio sistema evaluar', 'evaluar situacii12n', 'sistema evaluar situacii12n', 'situacii12n epidi12mica', 'evaluar situacii12n epidi12mica', 'epidi12mica territorio', 'situacii12n epidi12mica territorio', 'territorio partir', 'epidi12mica territorio partir', 'partir ni12mero', 'territorio partir ni12mero', 'ni12mero caso', 'partir ni12mero caso', 'caso activo', 'ni12mero caso activo', 'activo cada', 'caso activo cada', 'cada cien', 'activo cada cien', 'cien cero', 'cada cien cero', 'cero habitante', 'cien cero habitante', 'habitante i12ltimos', 'cero habitante i12ltimos', 'i12ltimos catorce', 'habitante i12ltimos catorce', 'catorce di12as', 'i12ltimos catorce di12as', 'di12as propio', 'catorce di12as propio', 'propio ci12lculo', 'di12as propio ci12lculo', 'ci12lculo tasar', 'propio ci12lculo tasar', 'tasar crecimiento', 'ci12lculo tasar crecimiento', 'crecimiento i12ltimos', 'tasar crecimiento i12ltimos', 'i12ltimos siete', 'crecimiento i12ltimos siete', 'siete di12as', 'i12ltimos siete di12as', 'di12as investigador', 'siete di12as investigador', 'investigador biocomsc', 'di12as investigador biocomsc', 'biocomsc idear', 'investigador biocomsc idear', 'idear diagrama', 'biocomsc idear diagrama', 'diagrama ci12digo', 'idear diagrama ci12digo', 'ci12digo colorir', 'diagrama ci12digo colorir', 'colorir rojo', 'ci12digo colorir rojo', 'rojo mayor', 'colorir rojo mayor', 'mayor riesgo', 'rojo mayor riesgo', 'riesgo amarillo', 'mayor riesgo amarillo', 'amarillo riesgo', 'riesgo amarillo riesgo', 'riesgo mediar', 'amarillo riesgo mediar', 'mediar verde', 'riesgo mediar verde', 'verde riesgo', 'mediar verde riesgo', 'riesgo nivel', 'verde riesgo nivel', 'nivel peligrar', 'riesgo nivel peligrar', 'peligrar descontrol', 'nivel peligrar descontrol', 'descontrol epidemia', 'peligrar descontrol epidemia', 'epidemia cada', 'descontrol epidemia cada', 'cada di12a', 'epidemia cada di12a', 'di12a colorir', 'cada di12a colorir', 'colorir mapa', 'di12a colorir mapa', 'mapa corresponder', 'colorir mapa corresponder', 'corresponder i12ltimo', 'mapa corresponder i12ltimo', 'i12ltimo di12a', 'corresponder i12ltimo di12a', 'di12a disponible', 'i12ltimo di12a disponible', 'disponible dato', 'di12a disponible dato', 'dato provincia', 'disponible dato provincia', 'provincia dieciseis', 'dato provincia dieciseis', 'dieciseis agostar', 'provincia dieciseis agostar', 'agostar evolucii12n', 'dieciseis agostar evolucii12n', 'evolucii12n caso', 'agostar evolucii12n caso', 'caso coronavirus', 'evolucii12n caso coronavirus', 'coronavirus cada', 'caso coronavirus cada', 'cada provincia', 'coronavirus cada provincia', 'provincia mapa', 'cada provincia mapa', 'mapa corresponder', 'provincia mapa corresponder', 'corresponder dato', 'mapa corresponder dato', 'dato instituto', 'corresponder dato instituto', 'instituto salud', 'dato instituto salud', 'salud carlos', 'instituto salud carlos', 'carlos isciii', 'salud carlos isciii', 'isciii veintitrés', 'carlos isciii veintitrés', 'veintitrés agostar', 'isciii veintitrés agostar', 'agostar i12ltimos', 'veintitrés agostar i12ltimos', 'i12ltimos disponible', 'agostar i12ltimos disponible', 'disponible i12hola', 'i12ltimos disponible i12hola', 'i12hola querer', 'disponible i12hola querer', 'querer conocerte', 'i12hola querer conocerte', 'conocerte poder', 'querer conocerte poder', 'poder ofrecerte', 'conocerte poder ofrecerte', 'ofrecerte contenido', 'poder ofrecerte contenido', 'contenido segi12n', 'ofrecerte contenido segi12n', 'segi12n preferencia', 'contenido segi12n preferencia', 'preferencia i12podri12as', 'segi12n preferencia i12podri12as', 'i12podri12as respondernos', 'preferencia i12podri12as respondernos', 'respondernos breve', 'i12podri12as respondernos breve', 'breve preguntar', 'respondernos breve preguntar', 'preguntar llevari12', 'breve preguntar llevari12', 'llevari12 mi12s', 'preguntar llevari12 mi12s', 'mi12s minutar', 'llevari12 mi12s minutar', 'minutar i12gracias', 'mi12s minutar i12gracias', 'i12gracias adelantar', 'minutar i12gracias adelantar', 'adelantar favor', 'i12gracias adelantar favor', 'favor i12nos', 'adelantar favor i12nos', 'i12nos poder', 'favor i12nos poder', 'poder facilitar', 'i12nos poder facilitar', 'facilitar fecho', 'poder facilitar fecho', 'fecho nacimiento', 'facilitar fecho nacimiento', 'nacimiento gi12nero', 'fecho nacimiento gi12nero', 'gi12nero favor', 'nacimiento gi12nero favor', 'favor marcar', 'gi12nero favor marcar', 'marcar vario', 'favor marcar vario', 'vario temer', 'marcar vario temer', 'temer interi12s', 'vario temer interi12s']\n"
     ]
    }
   ],
   "source": [
    "print(processed_texts[676])"
   ]
  },
  {
   "cell_type": "markdown",
   "metadata": {},
   "source": [
    "Esto nos hace replantearnos la situación:\n",
    "- se puede eliminar parte del texto de la noticia para quitarnos esos fragmentos. Pero corremos riesgo de quitar de más o de menos y por tanto perder información de la noticia. O que el periódico cambie la estructura, etc...\n",
    "- podemos quitar de nuestro dataset este periódico (ABC) que nos ensucia la extracción de topics.\n",
    "- **podemos quedarnos simplemente con los titulares.**\n",
    "\n",
    "Optamos por la tercera opción ya que creemos que de esta forma vamos a reducir el tamaño del diccionario y las palabras con las que vamos a trabajar se van a ajustar más a la realidad. Sabemos que en los titulares vienen las palabras claves sobre lo que trata la noticia."
   ]
  },
  {
   "cell_type": "markdown",
   "metadata": {},
   "source": [
    "Repetimos el proceso anterior, pero ahora cargamos los titulares en vez del cuerpo de la noticia:"
   ]
  },
  {
   "cell_type": "code",
   "execution_count": 22,
   "metadata": {},
   "outputs": [
    {
     "data": {
      "text/plain": [
       "0    RÃ©cord de contagios por coronavirus en varias...\n",
       "1       Â¿QuÃ© pasa este curso con las extraescolares?\n",
       "2    Nuevo giro en el 'caso Messi: la clÃ¡usula ya ...\n",
       "3    AsÃ­ es el ensayo en fase 2 de la vacuna del c...\n",
       "4    El Gobierno mira a diciembre para poder empeza...\n",
       "Name: headline, dtype: object"
      ]
     },
     "execution_count": 22,
     "metadata": {},
     "output_type": "execute_result"
    }
   ],
   "source": [
    "df = pd.read_csv('./scraping/data/news.csv', encoding='latin-1')\n",
    "df.dropna(inplace=True)\n",
    "df_es = df.drop(df[df.lang != 'es'].index)\n",
    "df_es = df_es['headline']\n",
    "df_es.head()"
   ]
  },
  {
   "cell_type": "code",
   "execution_count": 25,
   "metadata": {},
   "outputs": [],
   "source": [
    "# Tabla para eliminar signos de puntuación\n",
    "table = str.maketrans('', '', string.punctuation)\n",
    "# Procesamos los textos\n",
    "processed_texts = []\n",
    "for text in df_es:\n",
    "    processed_text = []\n",
    "    # Convertimos el texto a minúsuculas\n",
    "    text = text.lower()\n",
    "    # Eliminamos caracteres extraños, elimina ñ y tildes \n",
    "    text = unicodedata.normalize('NFKD', text).encode('ascii', 'ignore').decode('utf-8', 'ignore')\n",
    "    # Segmentamos el texto en frases\n",
    "    sentences = text.split('.')\n",
    "    # Para cada frase\n",
    "    prev_word = \"\"\n",
    "    prev_word_2 = \"\"\n",
    "    for sentence in sentences:\n",
    "        words = sentence.split(' ')\n",
    "        # Para cada palabra\n",
    "        for word in words:\n",
    "            # Eliminamos stopwords y signos de puntuación\n",
    "            if word not in string.punctuation and word not in sw_list: \n",
    "                word = word.translate(table)\n",
    "                # lematizamos\n",
    "                word = lemmas_dict.get(word, word)\n",
    "                # Pasamos lo números a palabras\n",
    "                if word.isdigit():\n",
    "                    word = num2words(word, lang='es')\n",
    "                # Eliminamos palabras menores de 3 letras\n",
    "                if len(word) > 3:\n",
    "                    # processed_text.append(word)\n",
    "                    if prev_word:\n",
    "                        processed_text.append(prev_word + \" \" + word)\n",
    "                        if prev_word_2:\n",
    "                            processed_text.append(prev_word_2 + \" \" + prev_word + \" \" + word)\n",
    "                    prev_word_2 = prev_word\n",
    "                    prev_word = word\n",
    "    processed_texts.append(processed_text)"
   ]
  },
  {
   "cell_type": "code",
   "execution_count": 26,
   "metadata": {},
   "outputs": [
    {
     "data": {
      "text/plain": [
       "19093"
      ]
     },
     "execution_count": 26,
     "metadata": {},
     "output_type": "execute_result"
    }
   ],
   "source": [
    "dictionary = Dictionary(processed_texts)\n",
    "corpus = [dictionary.doc2bow(doc) for doc in processed_texts]\n",
    "len(dictionary)"
   ]
  },
  {
   "cell_type": "markdown",
   "metadata": {},
   "source": [
    "Lo primero que llama la atención es que hemos reducido nuestro diccionario de más de 800.000 palabras a menos de 20.000"
   ]
  },
  {
   "cell_type": "code",
   "execution_count": 27,
   "metadata": {},
   "outputs": [
    {
     "data": {
      "text/plain": [
       "[(0,\n",
       "  '0.001*\"veinticuatro hora\" + 0.001*\"caso coronavirus\" + 0.001*\"marti12n villa\" + 0.001*\"mesar dialogar\" + 0.001*\"fase delicado\" + 0.001*\"negociar presupuesto\" + 0.001*\"encontrar fase delicado\" + 0.001*\"ingresar coronavirus encontrar\" + 0.001*\"ingresar coronavirus\" + 0.001*\"coronavirus encontrar fase\"'),\n",
       " (1,\n",
       "  '0.001*\"volver cole\" + 0.001*\"escalonar calendario volver\" + 0.001*\"calendario volver\" + 0.001*\"calendario volver cole\" + 0.001*\"retrasar escalonar\" + 0.001*\"empezar retrasar escalonar\" + 0.001*\"escalonar calendario\" + 0.001*\"conferenciar presidente\" + 0.001*\"atresplayer premium\" + 0.001*\"retrasar escalonar calendario\"'),\n",
       " (2,\n",
       "  '0.001*\"volver cole\" + 0.001*\"guardia civil\" + 0.001*\"tres guardia civil\" + 0.001*\"tres guardia\" + 0.001*\"carla suarez\" + 0.001*\"linfoma hodgkin\" + 0.001*\"suarez anunciar\" + 0.001*\"carla suarez anunciar\" + 0.001*\"cerrar marula local\" + 0.001*\"cerrar marula\"'),\n",
       " (3,\n",
       "  '0.001*\"cero millón\" + 0.001*\"vacuno covid19\" + 0.001*\"recibir vacuno\" + 0.001*\"recibir vacuno covid19\" + 0.001*\"nuevo normalidad\" + 0.001*\"comunidad madrid\" + 0.001*\"mesar dialogar\" + 0.001*\"aquian deberaa\" + 0.001*\"aquian deberaa recibir\" + 0.001*\"vacuno covid19 haber\"'),\n",
       " (4,\n",
       "  '0.001*\"septiembre dos mil veinte\" + 0.001*\"volver cole\" + 0.001*\"viernes cuatro septiembre\" + 0.001*\"viernes cuatro\" + 0.001*\"iglesia contradecir\" + 0.001*\"cuatro septiembre\" + 0.001*\"cuatro septiembre dos mil veinte\" + 0.001*\"comprobar resultar\" + 0.001*\"resultar sortear\" + 0.001*\"comprobar resultar sortear\"'),\n",
       " (5,\n",
       "  '0.001*\"positivo coronavirus\" + 0.001*\"berlusconi positivo coronavirus\" + 0.001*\"berlusconi positivo\" + 0.001*\"alberto soro\" + 0.001*\"volver espai12a\" + 0.001*\"roberto leal\" + 0.001*\"caser lorca\" + 0.001*\"silvio berlusconi\" + 0.001*\"derecho bajo\" + 0.001*\"millón euro\"'),\n",
       " (6,\n",
       "  '0.001*\"veinticuatro hora\" + 0.001*\"ocho quinientos ochenta y uno\" + 0.001*\"caixabank bankia\" + 0.001*\"tres seiscientos sesenta y tres i12ltimas\" + 0.001*\"i12ltimas veinticuatro\" + 0.001*\"seiscientos sesenta y tres i12ltimas\" + 0.001*\"seiscientos sesenta y tres i12ltimas veinticuatro\" + 0.001*\"i12ltimas veinticuatro hora\" + 0.001*\"tres seiscientos sesenta y tres\" + 0.001*\"notificar ocho\"'),\n",
       " (7,\n",
       "  '0.001*\"morir celda\" + 0.001*\"igor gonzalez\" + 0.001*\"llevar hijo\" + 0.001*\"pazo meiras\" + 0.001*\"covid educacii12n\" + 0.001*\"fondo covid\" + 0.001*\"fondo covid educacii12n\" + 0.001*\"conceder tres\" + 0.001*\"preso igor gonzalez\" + 0.001*\"conceder tres gradar\"'),\n",
       " (8,\n",
       "  '0.001*\"llevar hijo colegiar\" + 0.001*\"llevar hijo\" + 0.001*\"hijo colegiar\" + 0.001*\"cero euro\" + 0.001*\"casar dina\" + 0.001*\"nuevo restricción\" + 0.001*\"milla3n billete\" + 0.001*\"veintinueve setecientos ochenta personar\" + 0.001*\"iglesia insistir\" + 0.001*\"hermann tertsch\"'),\n",
       " (9,\n",
       "  '0.002*\"veinticuatro hora\" + 0.001*\"aoltimas veinticuatro\" + 0.001*\"aoltimas veinticuatro hora\" + 0.001*\"caso covid19\" + 0.001*\"comunitat valenciano\" + 0.001*\"agresia3n sexual\" + 0.001*\"contagiar coronavirus\" + 0.001*\"espaaa directo\" + 0.001*\"coronavirus espaaa directo\" + 0.001*\"nuevo caso\"')]"
      ]
     },
     "execution_count": 27,
     "metadata": {},
     "output_type": "execute_result"
    }
   ],
   "source": [
    "num_topics = 10\n",
    "\n",
    "lda_model = LdaModel(\n",
    "    corpus=corpus,\n",
    "    id2word=dictionary,\n",
    "    num_topics=num_topics,\n",
    "    iterations=5,\n",
    "    passes=10,\n",
    "    alpha='auto'\n",
    ")\n",
    "\n",
    "lda_model.show_topics()"
   ]
  },
  {
   "cell_type": "code",
   "execution_count": 28,
   "metadata": {},
   "outputs": [
    {
     "data": {
      "text/html": [
       "<div>\n",
       "<style scoped>\n",
       "    .dataframe tbody tr th:only-of-type {\n",
       "        vertical-align: middle;\n",
       "    }\n",
       "\n",
       "    .dataframe tbody tr th {\n",
       "        vertical-align: top;\n",
       "    }\n",
       "\n",
       "    .dataframe thead th {\n",
       "        text-align: right;\n",
       "    }\n",
       "</style>\n",
       "<table border=\"1\" class=\"dataframe\">\n",
       "  <thead>\n",
       "    <tr style=\"text-align: right;\">\n",
       "      <th></th>\n",
       "      <th>Topic #01</th>\n",
       "      <th>Topic #02</th>\n",
       "      <th>Topic #03</th>\n",
       "      <th>Topic #04</th>\n",
       "      <th>Topic #05</th>\n",
       "      <th>Topic #06</th>\n",
       "      <th>Topic #07</th>\n",
       "      <th>Topic #08</th>\n",
       "      <th>Topic #09</th>\n",
       "      <th>Topic #10</th>\n",
       "    </tr>\n",
       "  </thead>\n",
       "  <tbody>\n",
       "    <tr>\n",
       "      <td>0</td>\n",
       "      <td>veinticuatro hora</td>\n",
       "      <td>volver cole</td>\n",
       "      <td>volver cole</td>\n",
       "      <td>cero millón</td>\n",
       "      <td>septiembre dos mil veinte</td>\n",
       "      <td>positivo coronavirus</td>\n",
       "      <td>veinticuatro hora</td>\n",
       "      <td>morir celda</td>\n",
       "      <td>llevar hijo colegiar</td>\n",
       "      <td>veinticuatro hora</td>\n",
       "    </tr>\n",
       "    <tr>\n",
       "      <td>1</td>\n",
       "      <td>caso coronavirus</td>\n",
       "      <td>escalonar calendario volver</td>\n",
       "      <td>guardia civil</td>\n",
       "      <td>vacuno covid19</td>\n",
       "      <td>volver cole</td>\n",
       "      <td>berlusconi positivo coronavirus</td>\n",
       "      <td>ocho quinientos ochenta y uno</td>\n",
       "      <td>igor gonzalez</td>\n",
       "      <td>llevar hijo</td>\n",
       "      <td>aoltimas veinticuatro</td>\n",
       "    </tr>\n",
       "    <tr>\n",
       "      <td>2</td>\n",
       "      <td>marti12n villa</td>\n",
       "      <td>calendario volver</td>\n",
       "      <td>tres guardia civil</td>\n",
       "      <td>recibir vacuno</td>\n",
       "      <td>viernes cuatro septiembre</td>\n",
       "      <td>berlusconi positivo</td>\n",
       "      <td>caixabank bankia</td>\n",
       "      <td>llevar hijo</td>\n",
       "      <td>hijo colegiar</td>\n",
       "      <td>aoltimas veinticuatro hora</td>\n",
       "    </tr>\n",
       "    <tr>\n",
       "      <td>3</td>\n",
       "      <td>mesar dialogar</td>\n",
       "      <td>calendario volver cole</td>\n",
       "      <td>tres guardia</td>\n",
       "      <td>recibir vacuno covid19</td>\n",
       "      <td>viernes cuatro</td>\n",
       "      <td>alberto soro</td>\n",
       "      <td>tres seiscientos sesenta y tres i12ltimas</td>\n",
       "      <td>pazo meiras</td>\n",
       "      <td>cero euro</td>\n",
       "      <td>caso covid19</td>\n",
       "    </tr>\n",
       "    <tr>\n",
       "      <td>4</td>\n",
       "      <td>fase delicado</td>\n",
       "      <td>retrasar escalonar</td>\n",
       "      <td>carla suarez</td>\n",
       "      <td>nuevo normalidad</td>\n",
       "      <td>iglesia contradecir</td>\n",
       "      <td>volver espai12a</td>\n",
       "      <td>i12ltimas veinticuatro</td>\n",
       "      <td>covid educacii12n</td>\n",
       "      <td>casar dina</td>\n",
       "      <td>comunitat valenciano</td>\n",
       "    </tr>\n",
       "    <tr>\n",
       "      <td>5</td>\n",
       "      <td>negociar presupuesto</td>\n",
       "      <td>empezar retrasar escalonar</td>\n",
       "      <td>linfoma hodgkin</td>\n",
       "      <td>comunidad madrid</td>\n",
       "      <td>cuatro septiembre</td>\n",
       "      <td>roberto leal</td>\n",
       "      <td>seiscientos sesenta y tres i12ltimas</td>\n",
       "      <td>fondo covid</td>\n",
       "      <td>nuevo restricción</td>\n",
       "      <td>agresia3n sexual</td>\n",
       "    </tr>\n",
       "    <tr>\n",
       "      <td>6</td>\n",
       "      <td>encontrar fase delicado</td>\n",
       "      <td>escalonar calendario</td>\n",
       "      <td>suarez anunciar</td>\n",
       "      <td>mesar dialogar</td>\n",
       "      <td>cuatro septiembre dos mil veinte</td>\n",
       "      <td>caser lorca</td>\n",
       "      <td>seiscientos sesenta y tres i12ltimas veinticuatro</td>\n",
       "      <td>fondo covid educacii12n</td>\n",
       "      <td>milla3n billete</td>\n",
       "      <td>contagiar coronavirus</td>\n",
       "    </tr>\n",
       "    <tr>\n",
       "      <td>7</td>\n",
       "      <td>ingresar coronavirus encontrar</td>\n",
       "      <td>conferenciar presidente</td>\n",
       "      <td>carla suarez anunciar</td>\n",
       "      <td>aquian deberaa</td>\n",
       "      <td>comprobar resultar</td>\n",
       "      <td>silvio berlusconi</td>\n",
       "      <td>i12ltimas veinticuatro hora</td>\n",
       "      <td>conceder tres</td>\n",
       "      <td>veintinueve setecientos ochenta personar</td>\n",
       "      <td>espaaa directo</td>\n",
       "    </tr>\n",
       "    <tr>\n",
       "      <td>8</td>\n",
       "      <td>ingresar coronavirus</td>\n",
       "      <td>atresplayer premium</td>\n",
       "      <td>cerrar marula local</td>\n",
       "      <td>aquian deberaa recibir</td>\n",
       "      <td>resultar sortear</td>\n",
       "      <td>derecho bajo</td>\n",
       "      <td>tres seiscientos sesenta y tres</td>\n",
       "      <td>preso igor gonzalez</td>\n",
       "      <td>iglesia insistir</td>\n",
       "      <td>coronavirus espaaa directo</td>\n",
       "    </tr>\n",
       "    <tr>\n",
       "      <td>9</td>\n",
       "      <td>coronavirus encontrar fase</td>\n",
       "      <td>retrasar escalonar calendario</td>\n",
       "      <td>cerrar marula</td>\n",
       "      <td>vacuno covid19 haber</td>\n",
       "      <td>comprobar resultar sortear</td>\n",
       "      <td>millón euro</td>\n",
       "      <td>notificar ocho</td>\n",
       "      <td>conceder tres gradar</td>\n",
       "      <td>hermann tertsch</td>\n",
       "      <td>nuevo caso</td>\n",
       "    </tr>\n",
       "    <tr>\n",
       "      <td>10</td>\n",
       "      <td>encontrar fase</td>\n",
       "      <td>empezar retrasar</td>\n",
       "      <td>dejar euro</td>\n",
       "      <td>covid19 haber</td>\n",
       "      <td>resultar sortear bonoloto</td>\n",
       "      <td>tendran derecho bajo</td>\n",
       "      <td>notificar ocho quinientos ochenta y uno</td>\n",
       "      <td>preso igor</td>\n",
       "      <td>veintinueve setecientos ochenta</td>\n",
       "      <td>coronavirus espaaa</td>\n",
       "    </tr>\n",
       "    <tr>\n",
       "      <td>11</td>\n",
       "      <td>coronavirus encontrar</td>\n",
       "      <td>pedro sanchez</td>\n",
       "      <td>nacional dejar euro</td>\n",
       "      <td>deberaa recibir</td>\n",
       "      <td>sortear bonoloto</td>\n",
       "      <td>tendran derecho</td>\n",
       "      <td>sanidad notificar ocho</td>\n",
       "      <td>igor gonzalez solo</td>\n",
       "      <td>vender amazon</td>\n",
       "      <td>ocho novecientos cincuenta y nueve</td>\n",
       "    </tr>\n",
       "    <tr>\n",
       "      <td>12</td>\n",
       "      <td>berlusconi ingresar coronavirus</td>\n",
       "      <td>cero personar</td>\n",
       "      <td>local emblematico</td>\n",
       "      <td>deberaa recibir vacuno</td>\n",
       "      <td>guerra civil</td>\n",
       "      <td>luis enrique</td>\n",
       "      <td>sanidad notificar</td>\n",
       "      <td>gonzalez solo</td>\n",
       "      <td>diaz ayuso</td>\n",
       "      <td>raval barcelona</td>\n",
       "    </tr>\n",
       "    <tr>\n",
       "      <td>13</td>\n",
       "      <td>ayuntamiento madrid</td>\n",
       "      <td>euro familia</td>\n",
       "      <td>marula local emblematico</td>\n",
       "      <td>guerra mundial</td>\n",
       "      <td>sanidad sumo ocho</td>\n",
       "      <td>madrid cercar</td>\n",
       "      <td>matar veinte</td>\n",
       "      <td>hallar morir</td>\n",
       "      <td>setecientos ochenta personar</td>\n",
       "      <td>volver cole</td>\n",
       "    </tr>\n",
       "    <tr>\n",
       "      <td>14</td>\n",
       "      <td>berlusconi ingresar</td>\n",
       "      <td>familia vulnerable</td>\n",
       "      <td>marula local</td>\n",
       "      <td>contagio coronavirus</td>\n",
       "      <td>sanidad sumo</td>\n",
       "      <td>cero nuevo</td>\n",
       "      <td>fusia3n caixabank bankia</td>\n",
       "      <td>tres gradar</td>\n",
       "      <td>nuevo cursar</td>\n",
       "      <td>charlie hebdo</td>\n",
       "    </tr>\n",
       "    <tr>\n",
       "      <td>15</td>\n",
       "      <td>probar vacuno</td>\n",
       "      <td>posar topless</td>\n",
       "      <td>noche madrilena</td>\n",
       "      <td>minutar minutar</td>\n",
       "      <td>sumo ocho</td>\n",
       "      <td>metro madrid</td>\n",
       "      <td>fusia3n caixabank</td>\n",
       "      <td>cinco septiembre</td>\n",
       "      <td>vender amazon bienvenido</td>\n",
       "      <td>sexual maoltiple menor</td>\n",
       "    </tr>\n",
       "    <tr>\n",
       "      <td>16</td>\n",
       "      <td>cuatro expresidentes</td>\n",
       "      <td>hacer cuarentena</td>\n",
       "      <td>nacional dejar</td>\n",
       "      <td>nuevo normalidad castilla</td>\n",
       "      <td>contagio covid</td>\n",
       "      <td>vigilante metro madrid</td>\n",
       "      <td>accidentar traficar</td>\n",
       "      <td>sabado cinco septiembre</td>\n",
       "      <td>amazon bienvenido</td>\n",
       "      <td>laboral cuatro</td>\n",
       "    </tr>\n",
       "    <tr>\n",
       "      <td>17</td>\n",
       "      <td>vacuno covid19</td>\n",
       "      <td>trescientos euro familia</td>\n",
       "      <td>cero euro</td>\n",
       "      <td>normalidad castilla</td>\n",
       "      <td>virus nilo</td>\n",
       "      <td>queraan ponerse</td>\n",
       "      <td>poder comprar</td>\n",
       "      <td>confinamiento beniga</td>\n",
       "      <td>tres tablets</td>\n",
       "      <td>laboral cuatro dias</td>\n",
       "    </tr>\n",
       "    <tr>\n",
       "      <td>18</td>\n",
       "      <td>erte teletrabajo</td>\n",
       "      <td>ayudar trescientos euro</td>\n",
       "      <td>loteraa nacional</td>\n",
       "      <td>cuarentena negativo</td>\n",
       "      <td>vacuno coronavirus</td>\n",
       "      <td>vigilante metro</td>\n",
       "      <td>comunidad madrid</td>\n",
       "      <td>sabado cinco</td>\n",
       "      <td>bienvenido nuevo</td>\n",
       "      <td>dias crisis</td>\n",
       "    </tr>\n",
       "    <tr>\n",
       "      <td>19</td>\n",
       "      <td>coronavirus aoltimas</td>\n",
       "      <td>redar social</td>\n",
       "      <td>loteraa nacional dejar</td>\n",
       "      <td>niaos pisar</td>\n",
       "      <td>restrictivo valladolid salamanca</td>\n",
       "      <td>usuario queraan ponerse</td>\n",
       "      <td>caso covid19</td>\n",
       "      <td>cinco septiembre dos mil veinte</td>\n",
       "      <td>bienvenido nuevo cursar</td>\n",
       "      <td>agresia3n sexual maoltiple</td>\n",
       "    </tr>\n",
       "  </tbody>\n",
       "</table>\n",
       "</div>"
      ],
      "text/plain": [
       "                          Topic #01                      Topic #02  \\\n",
       "0                 veinticuatro hora                    volver cole   \n",
       "1                  caso coronavirus    escalonar calendario volver   \n",
       "2                    marti12n villa              calendario volver   \n",
       "3                    mesar dialogar         calendario volver cole   \n",
       "4                     fase delicado             retrasar escalonar   \n",
       "5              negociar presupuesto     empezar retrasar escalonar   \n",
       "6           encontrar fase delicado           escalonar calendario   \n",
       "7    ingresar coronavirus encontrar        conferenciar presidente   \n",
       "8              ingresar coronavirus            atresplayer premium   \n",
       "9        coronavirus encontrar fase  retrasar escalonar calendario   \n",
       "10                   encontrar fase               empezar retrasar   \n",
       "11            coronavirus encontrar                  pedro sanchez   \n",
       "12  berlusconi ingresar coronavirus                  cero personar   \n",
       "13              ayuntamiento madrid                   euro familia   \n",
       "14              berlusconi ingresar             familia vulnerable   \n",
       "15                    probar vacuno                  posar topless   \n",
       "16             cuatro expresidentes               hacer cuarentena   \n",
       "17                   vacuno covid19       trescientos euro familia   \n",
       "18                 erte teletrabajo        ayudar trescientos euro   \n",
       "19             coronavirus aoltimas                   redar social   \n",
       "\n",
       "                   Topic #03                  Topic #04  \\\n",
       "0                volver cole                cero millón   \n",
       "1              guardia civil             vacuno covid19   \n",
       "2         tres guardia civil             recibir vacuno   \n",
       "3               tres guardia     recibir vacuno covid19   \n",
       "4               carla suarez           nuevo normalidad   \n",
       "5            linfoma hodgkin           comunidad madrid   \n",
       "6            suarez anunciar             mesar dialogar   \n",
       "7      carla suarez anunciar             aquian deberaa   \n",
       "8        cerrar marula local     aquian deberaa recibir   \n",
       "9              cerrar marula       vacuno covid19 haber   \n",
       "10                dejar euro              covid19 haber   \n",
       "11       nacional dejar euro            deberaa recibir   \n",
       "12         local emblematico     deberaa recibir vacuno   \n",
       "13  marula local emblematico             guerra mundial   \n",
       "14              marula local       contagio coronavirus   \n",
       "15           noche madrilena            minutar minutar   \n",
       "16            nacional dejar  nuevo normalidad castilla   \n",
       "17                 cero euro        normalidad castilla   \n",
       "18          loteraa nacional        cuarentena negativo   \n",
       "19    loteraa nacional dejar                niaos pisar   \n",
       "\n",
       "                           Topic #05                        Topic #06  \\\n",
       "0          septiembre dos mil veinte             positivo coronavirus   \n",
       "1                        volver cole  berlusconi positivo coronavirus   \n",
       "2          viernes cuatro septiembre              berlusconi positivo   \n",
       "3                     viernes cuatro                     alberto soro   \n",
       "4                iglesia contradecir                  volver espai12a   \n",
       "5                  cuatro septiembre                     roberto leal   \n",
       "6   cuatro septiembre dos mil veinte                      caser lorca   \n",
       "7                 comprobar resultar                silvio berlusconi   \n",
       "8                   resultar sortear                     derecho bajo   \n",
       "9         comprobar resultar sortear                      millón euro   \n",
       "10         resultar sortear bonoloto             tendran derecho bajo   \n",
       "11                  sortear bonoloto                  tendran derecho   \n",
       "12                      guerra civil                     luis enrique   \n",
       "13                 sanidad sumo ocho                    madrid cercar   \n",
       "14                      sanidad sumo                       cero nuevo   \n",
       "15                         sumo ocho                     metro madrid   \n",
       "16                    contagio covid           vigilante metro madrid   \n",
       "17                        virus nilo                  queraan ponerse   \n",
       "18                vacuno coronavirus                  vigilante metro   \n",
       "19  restrictivo valladolid salamanca          usuario queraan ponerse   \n",
       "\n",
       "                                            Topic #07  \\\n",
       "0                                   veinticuatro hora   \n",
       "1                       ocho quinientos ochenta y uno   \n",
       "2                                    caixabank bankia   \n",
       "3           tres seiscientos sesenta y tres i12ltimas   \n",
       "4                              i12ltimas veinticuatro   \n",
       "5                seiscientos sesenta y tres i12ltimas   \n",
       "6   seiscientos sesenta y tres i12ltimas veinticuatro   \n",
       "7                         i12ltimas veinticuatro hora   \n",
       "8                     tres seiscientos sesenta y tres   \n",
       "9                                      notificar ocho   \n",
       "10            notificar ocho quinientos ochenta y uno   \n",
       "11                             sanidad notificar ocho   \n",
       "12                                  sanidad notificar   \n",
       "13                                       matar veinte   \n",
       "14                           fusia3n caixabank bankia   \n",
       "15                                  fusia3n caixabank   \n",
       "16                                accidentar traficar   \n",
       "17                                      poder comprar   \n",
       "18                                   comunidad madrid   \n",
       "19                                       caso covid19   \n",
       "\n",
       "                          Topic #08                                 Topic #09  \\\n",
       "0                       morir celda                      llevar hijo colegiar   \n",
       "1                     igor gonzalez                               llevar hijo   \n",
       "2                       llevar hijo                             hijo colegiar   \n",
       "3                       pazo meiras                                 cero euro   \n",
       "4                 covid educacii12n                                casar dina   \n",
       "5                       fondo covid                         nuevo restricción   \n",
       "6           fondo covid educacii12n                           milla3n billete   \n",
       "7                     conceder tres  veintinueve setecientos ochenta personar   \n",
       "8               preso igor gonzalez                          iglesia insistir   \n",
       "9              conceder tres gradar                           hermann tertsch   \n",
       "10                       preso igor           veintinueve setecientos ochenta   \n",
       "11               igor gonzalez solo                             vender amazon   \n",
       "12                    gonzalez solo                                diaz ayuso   \n",
       "13                     hallar morir              setecientos ochenta personar   \n",
       "14                      tres gradar                              nuevo cursar   \n",
       "15                 cinco septiembre                  vender amazon bienvenido   \n",
       "16          sabado cinco septiembre                         amazon bienvenido   \n",
       "17             confinamiento beniga                              tres tablets   \n",
       "18                     sabado cinco                          bienvenido nuevo   \n",
       "19  cinco septiembre dos mil veinte                   bienvenido nuevo cursar   \n",
       "\n",
       "                             Topic #10  \n",
       "0                    veinticuatro hora  \n",
       "1                aoltimas veinticuatro  \n",
       "2           aoltimas veinticuatro hora  \n",
       "3                         caso covid19  \n",
       "4                 comunitat valenciano  \n",
       "5                     agresia3n sexual  \n",
       "6                contagiar coronavirus  \n",
       "7                       espaaa directo  \n",
       "8           coronavirus espaaa directo  \n",
       "9                           nuevo caso  \n",
       "10                  coronavirus espaaa  \n",
       "11  ocho novecientos cincuenta y nueve  \n",
       "12                     raval barcelona  \n",
       "13                         volver cole  \n",
       "14                       charlie hebdo  \n",
       "15              sexual maoltiple menor  \n",
       "16                      laboral cuatro  \n",
       "17                 laboral cuatro dias  \n",
       "18                         dias crisis  \n",
       "19          agresia3n sexual maoltiple  "
      ]
     },
     "execution_count": 28,
     "metadata": {},
     "output_type": "execute_result"
    }
   ],
   "source": [
    "word_dict = {};\n",
    "for i in range(num_topics):\n",
    "    words = lda_model.show_topic(i, topn = 20)\n",
    "    word_dict['Topic #' + '{:02d}'.format(i+1)] = [i[0] for i in words]\n",
    "pd.DataFrame(word_dict)"
   ]
  },
  {
   "cell_type": "code",
   "execution_count": 29,
   "metadata": {},
   "outputs": [
    {
     "name": "stdout",
     "output_type": "stream",
     "text": [
      "\n",
      "Perplexity:  -10.56068694562954\n",
      "\n",
      "Coherence Score:  0.5212952273757642\n"
     ]
    }
   ],
   "source": [
    "# Perplexity\n",
    "print('\\nPerplexity: ', lda_model.log_perplexity(corpus))  # Medida de qué tan bueno es el modelo. Cuanto más bajo, mejor\n",
    "\n",
    "# Coherence Score\n",
    "coherence_model_lda = CoherenceModel(model=lda_model, texts=processed_texts, dictionary=dictionary, coherence='c_v')\n",
    "coherence_lda = coherence_model_lda.get_coherence()\n",
    "print('\\nCoherence Score: ', coherence_lda)"
   ]
  },
  {
   "cell_type": "markdown",
   "metadata": {},
   "source": [
    "A la vista de los resultados vemos que la cosa va mejorando. Por un lado los datos numéricos nos avalan. La perplexity va bajando y el coherence score subiendo.\n",
    "\n",
    "Además vemos que los topics que nos ofrece van teniendo más sentido y sí nos representan temas de actualidad: coronavirus, mesar dialogar, volver cole, caixabank bankia\n",
    "\n",
    "No obstante, seguimos teniendo margen de mejora. Por un lado vemos que no hay diferenciación clara entre los topics y además el lenguaje que utiliza se ve que está influenciado por el proceso de lematización. Esto puede ser un problema si luego lo queremos cruzar con Twiter, ya que el lenguaje que usa la gente no es exactamente así. Ejemplos como \"vacuno covid19\" o \"volver cole\" se explican por sí solos.\n",
    "\n",
    "**De cara a avanzar en estos dos aspectos vamos a comparar distintos modelos en base al número de topics propuestos y vamos a quitar la lematización.**"
   ]
  },
  {
   "cell_type": "code",
   "execution_count": 30,
   "metadata": {},
   "outputs": [],
   "source": [
    "#Función que compara distintos modelos(número de topics a usar) en base a sus valores de coherencia\n",
    "def compute_coherence_values(dictionary, corpus, texts, limit, start=2, step=3):\n",
    "    \"\"\"\n",
    "    Compute c_v coherence for various number of topics\n",
    "\n",
    "    Parameters:\n",
    "    ----------\n",
    "    dictionary : Gensim dictionary\n",
    "    corpus : Gensim corpus\n",
    "    texts : List of input texts\n",
    "    limit : Max num of topics\n",
    "\n",
    "    Returns:\n",
    "    -------\n",
    "    model_list : List of LDA topic models\n",
    "    coherence_values : Coherence values corresponding to the LDA model with respective number of topics\n",
    "    \"\"\"\n",
    "    coherence_values = []\n",
    "    model_list = []\n",
    "    for num_topics in range(start, limit, step):\n",
    "        \n",
    "        # Build LDA model\n",
    "        model = gensim.models.ldamodel.LdaModel(corpus=corpus,\n",
    "                                                id2word=dictionary,\n",
    "                                                num_topics=num_topics)\n",
    "        \n",
    "        # Create a list of LDA models\n",
    "        model_list.append(model)\n",
    "        \n",
    "        # Compute the Coherence for each model\n",
    "        coherencemodel = CoherenceModel(model=model, texts=texts, dictionary=dictionary, coherence='c_v')\n",
    "        coherence_values.append(coherencemodel.get_coherence())\n",
    "\n",
    "    return model_list, coherence_values"
   ]
  },
  {
   "cell_type": "code",
   "execution_count": 31,
   "metadata": {},
   "outputs": [
    {
     "data": {
      "image/png": "[encoded data removed]",
      "text/plain": [
       "<Figure size 432x288 with 1 Axes>"
      ]
     },
     "metadata": {
      "needs_background": "light"
     },
     "output_type": "display_data"
    }
   ],
   "source": [
    "start_ = 1\n",
    "end_ = 10\n",
    "step_ = 1\n",
    "\n",
    "model_list, coherence_values = compute_coherence_values(\n",
    "    dictionary=dictionary,\n",
    "    corpus=corpus,\n",
    "    texts=processed_texts,\n",
    "    start=start_,\n",
    "    limit=end_,\n",
    "    step=step_\n",
    ")\n",
    "\n",
    "x = range(start_, end_, step_)\n",
    "plt.plot(x, coherence_values)\n",
    "plt.xlabel('Num Topics')\n",
    "plt.ylabel('Coherence score')\n",
    "plt.legend(('coherence_values'), loc='best')\n",
    "plt.show()"
   ]
  },
  {
   "cell_type": "markdown",
   "metadata": {},
   "source": [
    "Vemos que el mejor Coherence Score lo obtenemos para un solo topic, así que vamos a trabajar así y nos quedaremos con las palabras claves de ese único topic como nuestros temas importantes del día.\n",
    "\n",
    "Por tanto, repetimos el proceso para un solo topic y además quitamos la lematización."
   ]
  },
  {
   "cell_type": "code",
   "execution_count": 32,
   "metadata": {},
   "outputs": [
    {
     "data": {
      "text/plain": [
       "0    RÃ©cord de contagios por coronavirus en varias...\n",
       "1       Â¿QuÃ© pasa este curso con las extraescolares?\n",
       "2    Nuevo giro en el 'caso Messi: la clÃ¡usula ya ...\n",
       "3    AsÃ­ es el ensayo en fase 2 de la vacuna del c...\n",
       "4    El Gobierno mira a diciembre para poder empeza...\n",
       "Name: headline, dtype: object"
      ]
     },
     "execution_count": 32,
     "metadata": {},
     "output_type": "execute_result"
    }
   ],
   "source": [
    "df = pd.read_csv('./scraping/data/news.csv', encoding='latin-1')\n",
    "df.dropna(inplace=True)\n",
    "df_es = df.drop(df[df.lang != 'es'].index)\n",
    "df_es = df_es['headline']\n",
    "df_es.head()"
   ]
  },
  {
   "cell_type": "code",
   "execution_count": 33,
   "metadata": {},
   "outputs": [],
   "source": [
    "# Tabla para eliminar signos de puntuación\n",
    "table = str.maketrans('', '', string.punctuation)\n",
    "# Procesamos los textos\n",
    "processed_texts = []\n",
    "for text in df_es:\n",
    "    processed_text = []\n",
    "    # Convertimos el texto a minúsuculas\n",
    "    text = text.lower()\n",
    "    # Eliminamos caracteres extraños, elimina ñ y tildes \n",
    "    text = unicodedata.normalize('NFKD', text).encode('ascii', 'ignore').decode('utf-8', 'ignore')\n",
    "    # Segmentamos el texto en frases\n",
    "    sentences = text.split('.')\n",
    "    # Para cada frase\n",
    "    prev_word = \"\"\n",
    "    prev_word_2 = \"\"\n",
    "    for sentence in sentences:\n",
    "        words = sentence.split(' ')\n",
    "        # Para cada palabra\n",
    "        for word in words:\n",
    "            # Eliminamos stopwords y signos de puntuación\n",
    "            if word not in string.punctuation and word not in sw_list: \n",
    "                word = word.translate(table)\n",
    "                # NO lematizamos\n",
    "                #word = lemmas_dict.get(word, word)\n",
    "                # Pasamos lo números a palabras\n",
    "                if word.isdigit():\n",
    "                    word = num2words(word, lang='es')\n",
    "                # Eliminamos palabras menores de 3 letras\n",
    "                if len(word) > 3:\n",
    "                    # processed_text.append(word)\n",
    "                    if prev_word:\n",
    "                        processed_text.append(prev_word + \" \" + word)\n",
    "                        if prev_word_2:\n",
    "                            processed_text.append(prev_word_2 + \" \" + prev_word + \" \" + word)\n",
    "                    prev_word_2 = prev_word\n",
    "                    prev_word = word\n",
    "    processed_texts.append(processed_text)"
   ]
  },
  {
   "cell_type": "code",
   "execution_count": 34,
   "metadata": {},
   "outputs": [
    {
     "data": {
      "text/plain": [
       "19166"
      ]
     },
     "execution_count": 34,
     "metadata": {},
     "output_type": "execute_result"
    }
   ],
   "source": [
    "dictionary = Dictionary(processed_texts)\n",
    "corpus = [dictionary.doc2bow(doc) for doc in processed_texts]\n",
    "len(dictionary)"
   ]
  },
  {
   "cell_type": "markdown",
   "metadata": {},
   "source": [
    "El hecho de quitar la lematización apenas influye en el tamaño de nuestro diccionario."
   ]
  },
  {
   "cell_type": "code",
   "execution_count": 37,
   "metadata": {},
   "outputs": [
    {
     "data": {
      "text/plain": [
       "[(0,\n",
       "  '0.001*\"veinticuatro horas\" + 0.000*\"vuelta cole\" + 0.000*\"septiembre dos mil veinte\" + 0.000*\"caixabank bankia\" + 0.000*\"comunidad madrid\" + 0.000*\"cero euros\" + 0.000*\"casos covid19\" + 0.000*\"mesa dialogo\" + 0.000*\"cero millones\" + 0.000*\"casos coronavirus\"')]"
      ]
     },
     "execution_count": 37,
     "metadata": {},
     "output_type": "execute_result"
    }
   ],
   "source": [
    "num_topics = 1\n",
    "\n",
    "lda_model = LdaModel(\n",
    "    corpus=corpus,\n",
    "    id2word=dictionary,\n",
    "    num_topics=num_topics,\n",
    "    iterations=5,\n",
    "    passes=10,\n",
    "    alpha='auto'\n",
    ")\n",
    "\n",
    "lda_model.show_topics()"
   ]
  },
  {
   "cell_type": "code",
   "execution_count": 38,
   "metadata": {},
   "outputs": [
    {
     "data": {
      "text/html": [
       "<div>\n",
       "<style scoped>\n",
       "    .dataframe tbody tr th:only-of-type {\n",
       "        vertical-align: middle;\n",
       "    }\n",
       "\n",
       "    .dataframe tbody tr th {\n",
       "        vertical-align: top;\n",
       "    }\n",
       "\n",
       "    .dataframe thead th {\n",
       "        text-align: right;\n",
       "    }\n",
       "</style>\n",
       "<table border=\"1\" class=\"dataframe\">\n",
       "  <thead>\n",
       "    <tr style=\"text-align: right;\">\n",
       "      <th></th>\n",
       "      <th>Topic #01</th>\n",
       "    </tr>\n",
       "  </thead>\n",
       "  <tbody>\n",
       "    <tr>\n",
       "      <td>0</td>\n",
       "      <td>veinticuatro horas</td>\n",
       "    </tr>\n",
       "    <tr>\n",
       "      <td>1</td>\n",
       "      <td>vuelta cole</td>\n",
       "    </tr>\n",
       "    <tr>\n",
       "      <td>2</td>\n",
       "      <td>septiembre dos mil veinte</td>\n",
       "    </tr>\n",
       "    <tr>\n",
       "      <td>3</td>\n",
       "      <td>caixabank bankia</td>\n",
       "    </tr>\n",
       "    <tr>\n",
       "      <td>4</td>\n",
       "      <td>comunidad madrid</td>\n",
       "    </tr>\n",
       "    <tr>\n",
       "      <td>5</td>\n",
       "      <td>cero euros</td>\n",
       "    </tr>\n",
       "    <tr>\n",
       "      <td>6</td>\n",
       "      <td>casos covid19</td>\n",
       "    </tr>\n",
       "    <tr>\n",
       "      <td>7</td>\n",
       "      <td>mesa dialogo</td>\n",
       "    </tr>\n",
       "    <tr>\n",
       "      <td>8</td>\n",
       "      <td>cero millones</td>\n",
       "    </tr>\n",
       "    <tr>\n",
       "      <td>9</td>\n",
       "      <td>casos coronavirus</td>\n",
       "    </tr>\n",
       "    <tr>\n",
       "      <td>10</td>\n",
       "      <td>aoltimas veinticuatro</td>\n",
       "    </tr>\n",
       "    <tr>\n",
       "      <td>11</td>\n",
       "      <td>negociar presupuestos</td>\n",
       "    </tr>\n",
       "    <tr>\n",
       "      <td>12</td>\n",
       "      <td>aaos despuas</td>\n",
       "    </tr>\n",
       "    <tr>\n",
       "      <td>13</td>\n",
       "      <td>positivo coronavirus</td>\n",
       "    </tr>\n",
       "    <tr>\n",
       "      <td>14</td>\n",
       "      <td>nuevo curso</td>\n",
       "    </tr>\n",
       "    <tr>\n",
       "      <td>15</td>\n",
       "      <td>enrique ponce</td>\n",
       "    </tr>\n",
       "    <tr>\n",
       "      <td>16</td>\n",
       "      <td>aoltimas veinticuatro horas</td>\n",
       "    </tr>\n",
       "    <tr>\n",
       "      <td>17</td>\n",
       "      <td>luis enrique</td>\n",
       "    </tr>\n",
       "    <tr>\n",
       "      <td>18</td>\n",
       "      <td>comunitat valenciana</td>\n",
       "    </tr>\n",
       "    <tr>\n",
       "      <td>19</td>\n",
       "      <td>nuevos casos</td>\n",
       "    </tr>\n",
       "  </tbody>\n",
       "</table>\n",
       "</div>"
      ],
      "text/plain": [
       "                      Topic #01\n",
       "0            veinticuatro horas\n",
       "1                   vuelta cole\n",
       "2     septiembre dos mil veinte\n",
       "3              caixabank bankia\n",
       "4              comunidad madrid\n",
       "5                    cero euros\n",
       "6                 casos covid19\n",
       "7                  mesa dialogo\n",
       "8                 cero millones\n",
       "9             casos coronavirus\n",
       "10        aoltimas veinticuatro\n",
       "11        negociar presupuestos\n",
       "12                 aaos despuas\n",
       "13         positivo coronavirus\n",
       "14                  nuevo curso\n",
       "15                enrique ponce\n",
       "16  aoltimas veinticuatro horas\n",
       "17                 luis enrique\n",
       "18         comunitat valenciana\n",
       "19                 nuevos casos"
      ]
     },
     "execution_count": 38,
     "metadata": {},
     "output_type": "execute_result"
    }
   ],
   "source": [
    "word_dict = {};\n",
    "for i in range(num_topics):\n",
    "    words = lda_model.show_topic(i, topn = 20)\n",
    "    word_dict['Topic #' + '{:02d}'.format(i+1)] = [i[0] for i in words]\n",
    "pd.DataFrame(word_dict)"
   ]
  },
  {
   "cell_type": "code",
   "execution_count": 39,
   "metadata": {},
   "outputs": [
    {
     "name": "stdout",
     "output_type": "stream",
     "text": [
      "\n",
      "Perplexity:  -10.216933028158232\n",
      "\n",
      "Coherence Score:  0.7890774937172037\n"
     ]
    }
   ],
   "source": [
    "# Perplexity\n",
    "print('\\nPerplexity: ', lda_model.log_perplexity(corpus))  # Medida de qué tan bueno es el modelo. Cuanto más bajo, mejor\n",
    "\n",
    "# Coherence Score\n",
    "coherence_model_lda = CoherenceModel(model=lda_model, texts=processed_texts, dictionary=dictionary, coherence='c_v')\n",
    "coherence_lda = coherence_model_lda.get_coherence()\n",
    "print('\\nCoherence Score: ', coherence_lda)"
   ]
  },
  {
   "cell_type": "markdown",
   "metadata": {},
   "source": [
    "Analizando la perplexity vemos que seguimos igual que antes y hemos mejorado el coherence Score.\n",
    "\n",
    "Acompañado esto de que ahora sí obtenemos temas más o menos coherentes de actualidad podemos darlo por bueno para seguir adelante y cruzarlo con Twiter."
   ]
  }
 ],
 "metadata": {
  "colab": {
   "name": "topic_extraction.ipynb",
   "provenance": []
  },
  "kernelspec": {
   "display_name": "Python 3",
   "language": "python",
   "name": "python3"
  },
  "language_info": {
   "codemirror_mode": {
    "name": "ipython",
    "version": 3
   },
   "file_extension": ".py",
   "mimetype": "text/x-python",
   "name": "python",
   "nbconvert_exporter": "python",
   "pygments_lexer": "ipython3",
   "version": "3.7.4"
  }
 },
 "nbformat": 4,
 "nbformat_minor": 1
}
